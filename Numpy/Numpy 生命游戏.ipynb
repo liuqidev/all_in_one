{
 "cells": [
  {
   "cell_type": "markdown",
   "metadata": {},
   "source": [
    "[TOC]\n",
    "\n",
    "源代码可以到[Github](https://github.com/rougier/numpy-tutorial)找到。\n",
    "\n",
    "所有代码和材料使用[创造性-相同方式共享-署名4.0](http://creativecommons.org/licenses/by-sa/4.0)证书。\n",
    "\n",
    "本教程首发于http://www.labri.fr/perso/nrougier/teaching/matplotlib/matplotlib.html\n",
    "\n",
    "阅读作者更多文章：\n",
    "[Matplotlib教程](http://www.labri.fr/perso/nrougier/teaching/matplotlib/matplotlib.html)\n",
    "[Numpy 100 练](http://www.labri.fr/perso/nrougier/teaching/numpy.100/index.html)\n",
    "\n",
    "## 介绍\n",
    "\n",
    "NumPy is the fundamental package for scientific computing with Python. It contains among other things:\n",
    "\n",
    "- → a powerful N-dimensional array object\n",
    "- → sophisticated (broadcasting) functions\n",
    "- → tools for integrating C/C++ and Fortran code\n",
    "- → useful linear algebra, Fourier transform, and random number capabilities\n",
    "\n",
    "Besides its obvious scientific uses, NumPy can also be used as an efficient multi-dimensional container of generic data. Arbitrary data-types can be defined and this allows NumPy to seamlessly and speedily integrate with a wide variety of projects. We are going to explore numpy through a simple example, implementing the Game of Life."
   ]
  },
  {
   "cell_type": "markdown",
   "metadata": {},
   "source": [
    "## 生命游戏\n",
    "\n",
    "Numpy is slanted toward scientific computing and we'll consider in this section the game of life by John Conway which is one of the earliest example of cellular automata (see figure below). Those cellular automaton can be conveniently considered as array of cells that are connected together through the notion of neighbours. We'll show in the following sections implementation of this game using pure python and numpy in order to illustrate main differences with python and numpy.\n",
    "\n",
    "![Figure 1 Simulation of the game of life.](http://www.labri.fr/perso/nrougier/teaching/numpy/figures/game-of-life.png)\n",
    "\n",
    "The Game of Life, also known simply as Life, is a cellular automaton devised by the British mathematician John Horton Conway in 1970. It is the best-known example of a cellular automaton. The \"game\" is actually a zero-player game, meaning that its evolution is determined by its initial state, needing no input from human players. One interacts with the Game of Life by creating an initial configuration and observing how it evolves.\n",
    "\n",
    "The universe of the Game of Life is an infinite two-dimensional orthogonal grid of square cells, each of which is in one of two possible states, live or dead. Every cell interacts with its eight neighbours, which are the cells that are directly horizontally, vertically, or diagonally adjacent. At each step in time, the following transitions occur:\n",
    "\n",
    "Any live cell with fewer than two live neighbours dies, as if by needs caused by underpopulation.\n",
    "Any live cell with more than three live neighbours dies, as if by overcrowding.\n",
    "Any live cell with two or three live neighbours lives, unchanged, to the next generation.\n",
    "Any dead cell with exactly three live neighbours becomes a live cell.\n",
    "\n",
    "The initial pattern constitutes the 'seed' of the system. The first generation is created by applying the above rules simultaneously to every cell in the seed – births and deaths happen simultaneously, and the discrete moment at which this happens is sometimes called a tick. (In other words, each generation is a pure function of the one before.) The rules continue to be applied repeatedly to create further generations.\n",
    "\n",
    "We'll first use a very simple setup and more precisely, we'll use the glider pattern that is known to move one step diagonally in 4 iterations as illustrated below:\n",
    "\n",
    "\n",
    "![](http://www.labri.fr/perso/nrougier/teaching/numpy/figures/glider-00.png)\n",
    "t = 0\n",
    "\n",
    "![](http://www.labri.fr/perso/nrougier/teaching/numpy/figures/glider-01.png)\n",
    "t = 1\n",
    "\n",
    "![](http://www.labri.fr/perso/nrougier/teaching/numpy/figures/glider-02.png)\n",
    "t = 2\n",
    "\n",
    "![](http://www.labri.fr/perso/nrougier/teaching/numpy/figures/glider-03.png)\n",
    "t = 3\n",
    "\n",
    "![](http://www.labri.fr/perso/nrougier/teaching/numpy/figures/glider-04.png)\n",
    "t = 4\n",
    "\n",
    "This property will help us debug our scripts."
   ]
  },
  {
   "cell_type": "markdown",
   "metadata": {},
   "source": [
    "## Python方式\n",
    "\n",
    "In pure python, we can code the Game of Life using a list of lists representing the board where cells are supposed to evolve:\n",
    "\n",
    "```python\n",
    ">>> Z =  [[0,0,0,0,0,0],\n",
    "       [0,0,1,1,0,0],\n",
    "       [0,1,0,1,0,0],\n",
    "       [0,0,0,1,0,0],\n",
    "       [0,0,0,0,0,0],\n",
    "       [0,0,0,0,0,0]]\n",
    "```"
   ]
  },
  {
   "cell_type": "code",
   "execution_count": 37,
   "metadata": {},
   "outputs": [],
   "source": [
    "Z = [[0,0,0,0,0,0],\n",
    "    [0,0,0,0,0,0],\n",
    "    [0,0,1,1,0,0],\n",
    "    [0,1,0,1,0,0],\n",
    "    [0,0,0,1,0,0],\n",
    "    [0,0,0,0,0,0]]"
   ]
  },
  {
   "cell_type": "markdown",
   "metadata": {},
   "source": [
    "This board possesses a 0 border that allows to accelerate things a bit by avoiding to have specific tests for borders when counting the number of neighbours. First step is to count neighbours:"
   ]
  },
  {
   "cell_type": "code",
   "execution_count": 30,
   "metadata": {},
   "outputs": [],
   "source": [
    "def compute_neighbor(Z):\n",
    "    \"\"\"(对边界进行0填充)每次计算当前细胞周围细胞的状态(数)来确定当前细胞的下一个状态\"\"\"\n",
    "    shape = len(Z), len(Z[0])\n",
    "    N = [[0,]*(shape[1]) for i in range(shape[0])]\n",
    "    for x in range(1,shape[0]-1):\n",
    "        for y in range(1, shape[1]-1):\n",
    "            N[x][y] = Z[x-1][y-1]+Z[x][y-1]+Z[x+1][y-1] \\\n",
    "            + Z[x-1][y]+ Z[x+1][y] \\\n",
    "            + Z[x-1][y+1]+Z[x][y+1]+Z[x+1][y+1]\n",
    "    return N"
   ]
  },
  {
   "cell_type": "code",
   "execution_count": 31,
   "metadata": {},
   "outputs": [
    {
     "data": {
      "text/plain": [
       "[[0, 0, 0, 0, 0, 0],\n",
       " [0, 1, 2, 2, 1, 0],\n",
       " [0, 2, 3, 2, 2, 0],\n",
       " [0, 1, 5, 3, 3, 0],\n",
       " [0, 1, 3, 1, 2, 0],\n",
       " [0, 0, 0, 0, 0, 0]]"
      ]
     },
     "execution_count": 31,
     "metadata": {},
     "output_type": "execute_result"
    }
   ],
   "source": [
    "compute_neighbor(Z)"
   ]
  },
  {
   "cell_type": "markdown",
   "metadata": {},
   "source": [
    "To iterate one step in time, we then simply count the number of neighbours for each internal cell and we update the whole board according to the 4 rules:"
   ]
  },
  {
   "cell_type": "code",
   "execution_count": 32,
   "metadata": {},
   "outputs": [],
   "source": [
    "def iterate(Z):\n",
    "    N = compute_neighbor(Z)\n",
    "    shape = len(N), len(N[0])\n",
    "    for x in range(1, shape[0]-1):\n",
    "        for y in range(1, shape[1]-1):\n",
    "            if Z[x][y]==1 and (N[x][y]<2 or N[x][y] >3):\n",
    "                Z[x][y] = 0\n",
    "            elif Z[x][y]==0 and N[x][y]==3:\n",
    "                Z[x][y] = 1\n",
    "    return Z"
   ]
  },
  {
   "cell_type": "code",
   "execution_count": 33,
   "metadata": {},
   "outputs": [
    {
     "data": {
      "text/plain": [
       "[[0, 0, 0, 0, 0, 0],\n",
       " [0, 0, 0, 0, 0, 0],\n",
       " [0, 0, 1, 1, 0, 0],\n",
       " [0, 0, 0, 1, 1, 0],\n",
       " [0, 0, 1, 0, 0, 0],\n",
       " [0, 0, 0, 0, 0, 0]]"
      ]
     },
     "execution_count": 33,
     "metadata": {},
     "output_type": "execute_result"
    }
   ],
   "source": [
    "iterate(Z)"
   ]
  },
  {
   "cell_type": "code",
   "execution_count": 34,
   "metadata": {},
   "outputs": [],
   "source": [
    "def show(Z):\n",
    "    for l in Z[1:-1]:\n",
    "        print(l[1:-1])\n",
    "    print()"
   ]
  },
  {
   "cell_type": "code",
   "execution_count": 35,
   "metadata": {},
   "outputs": [
    {
     "name": "stdout",
     "output_type": "stream",
     "text": [
      "[0, 0, 0, 0]\n",
      "[0, 1, 1, 0]\n",
      "[0, 0, 1, 1]\n",
      "[0, 1, 0, 0]\n",
      "\n"
     ]
    }
   ],
   "source": [
    "show(Z)"
   ]
  },
  {
   "cell_type": "code",
   "execution_count": 36,
   "metadata": {},
   "outputs": [
    {
     "name": "stdout",
     "output_type": "stream",
     "text": [
      "[0, 0, 0, 0]\n",
      "[0, 1, 1, 1]\n",
      "[0, 0, 0, 1]\n",
      "[0, 0, 1, 0]\n",
      "\n",
      "[0, 0, 1, 0]\n",
      "[0, 0, 1, 1]\n",
      "[0, 1, 0, 1]\n",
      "[0, 0, 0, 0]\n",
      "\n",
      "[0, 0, 1, 1]\n",
      "[0, 1, 0, 1]\n",
      "[0, 0, 0, 1]\n",
      "[0, 0, 0, 0]\n",
      "\n",
      "[0, 0, 1, 1]\n",
      "[0, 0, 0, 1]\n",
      "[0, 0, 1, 0]\n",
      "[0, 0, 0, 0]\n",
      "\n"
     ]
    }
   ],
   "source": [
    "for i in range(4):\n",
    "    show(iterate(Z))"
   ]
  },
  {
   "cell_type": "markdown",
   "metadata": {},
   "source": [
    "## Numpy的方式\n",
    "\n",
    "The first thing to do is to create the proper numpy array to hold the cells. This can be done very easily with:"
   ]
  },
  {
   "cell_type": "code",
   "execution_count": 93,
   "metadata": {},
   "outputs": [],
   "source": [
    "import numpy as np\n",
    "\n",
    "Z = np.array([[0,0,0,0,0,0],\n",
    "            [0,0,0,0,0,0],\n",
    "            [0,0,1,1,0,0],\n",
    "            [0,1,0,1,0,0],\n",
    "            [0,0,0,1,0,0],\n",
    "            [0,0,0,0,0,0]])"
   ]
  },
  {
   "cell_type": "markdown",
   "metadata": {},
   "source": [
    "Note that we did not specify the data type of the array and thus, numpy will choose one for us. Since all elements are integers, numpy will then choose an integer data type. This can be easily checked using:"
   ]
  },
  {
   "cell_type": "code",
   "execution_count": 39,
   "metadata": {},
   "outputs": [
    {
     "name": "stdout",
     "output_type": "stream",
     "text": [
      "int32\n"
     ]
    }
   ],
   "source": [
    "print(Z.dtype)"
   ]
  },
  {
   "cell_type": "markdown",
   "metadata": {},
   "source": [
    "We can also check the shape of the array to make sure it is 6x6:"
   ]
  },
  {
   "cell_type": "code",
   "execution_count": 40,
   "metadata": {},
   "outputs": [
    {
     "name": "stdout",
     "output_type": "stream",
     "text": [
      "(6, 6)\n"
     ]
    }
   ],
   "source": [
    "print(Z.shape)"
   ]
  },
  {
   "cell_type": "markdown",
   "metadata": {},
   "source": [
    "Each element of Z can be accessed using a row and a column index (in that order):"
   ]
  },
  {
   "cell_type": "code",
   "execution_count": 41,
   "metadata": {},
   "outputs": [
    {
     "name": "stdout",
     "output_type": "stream",
     "text": [
      "0\n"
     ]
    }
   ],
   "source": [
    "print(Z[0,5])"
   ]
  },
  {
   "cell_type": "markdown",
   "metadata": {},
   "source": [
    "But even better, we can also access a subpart of the array using the slice notation:"
   ]
  },
  {
   "cell_type": "code",
   "execution_count": 42,
   "metadata": {},
   "outputs": [
    {
     "name": "stdout",
     "output_type": "stream",
     "text": [
      "[[0 0 0 0]\n",
      " [0 1 1 0]\n",
      " [1 0 1 0]\n",
      " [0 0 1 0]]\n"
     ]
    }
   ],
   "source": [
    "print(Z[1:5, 1:5])"
   ]
  },
  {
   "cell_type": "markdown",
   "metadata": {},
   "source": [
    "In the example above, we actually extract a subpart of Z ranging from rows 1 to 5 and columns 1 to 5. It is important to understand at this point that this is really a subpart of Z in the sense that any change to this subpart will have immediate impact on Z:"
   ]
  },
  {
   "cell_type": "code",
   "execution_count": 43,
   "metadata": {},
   "outputs": [],
   "source": [
    "A = Z[1:5, 1:5]\n",
    "A[0, 0] = 9"
   ]
  },
  {
   "cell_type": "code",
   "execution_count": 44,
   "metadata": {},
   "outputs": [
    {
     "name": "stdout",
     "output_type": "stream",
     "text": [
      "[[0 0 0 0 0 0]\n",
      " [0 9 0 0 0 0]\n",
      " [0 0 1 1 0 0]\n",
      " [0 1 0 1 0 0]\n",
      " [0 0 0 1 0 0]\n",
      " [0 0 0 0 0 0]]\n"
     ]
    }
   ],
   "source": [
    "print(Z)"
   ]
  },
  {
   "cell_type": "markdown",
   "metadata": {},
   "source": [
    "We set the value of A[0,0] to 9 and we see immediate change in Z[1,1] because A[0,0] actually corresponds to Z[1,1]. This may seem trivial with such simple arrays, but things can become much more complex (we'll see that later). If in doubt, you can check easily if an array is part of another one:"
   ]
  },
  {
   "cell_type": "code",
   "execution_count": 45,
   "metadata": {},
   "outputs": [
    {
     "name": "stdout",
     "output_type": "stream",
     "text": [
      "True\n"
     ]
    }
   ],
   "source": [
    "print(Z.base is None)"
   ]
  },
  {
   "cell_type": "code",
   "execution_count": 46,
   "metadata": {},
   "outputs": [
    {
     "name": "stdout",
     "output_type": "stream",
     "text": [
      "True\n"
     ]
    }
   ],
   "source": [
    "print(A.base is Z)"
   ]
  },
  {
   "cell_type": "markdown",
   "metadata": {},
   "source": [
    "### 数邻居\n",
    "\n",
    "We now need a function to count the neighbours. We could do it the same way as for the python version, but this would make things very slow because of the nested loops. We would prefer to act on the whole array whenever possible, this is called vectorization.\n",
    "\n",
    "Ok, let's start then...\n",
    "\n",
    "First, you need to know that you can manipulate Z as if (and only as if) it was a regular scalar:"
   ]
  },
  {
   "cell_type": "code",
   "execution_count": 47,
   "metadata": {},
   "outputs": [
    {
     "name": "stdout",
     "output_type": "stream",
     "text": [
      "[[ 4  4  4  4  4  4]\n",
      " [ 4 22  4  4  4  4]\n",
      " [ 4  4  6  6  4  4]\n",
      " [ 4  6  4  6  4  4]\n",
      " [ 4  4  4  6  4  4]\n",
      " [ 4  4  4  4  4  4]]\n"
     ]
    }
   ],
   "source": [
    "print(1+Z*2+3)"
   ]
  },
  {
   "cell_type": "markdown",
   "metadata": {},
   "source": [
    "If you look carefully at the output, you may realize that the ouptut corresponds to the formula above applied individually to each element. Said differently, we have (1+(2*Z+3))[i,j] == (1+(2*Z[i,j]+3)) for any i,j."
   ]
  },
  {
   "cell_type": "markdown",
   "metadata": {},
   "source": [
    "Ok, so far, so good. Now what happens if we add Z with one of its subpart, let's say Z[-1:1,-1:1] ?"
   ]
  },
  {
   "cell_type": "code",
   "execution_count": 48,
   "metadata": {},
   "outputs": [
    {
     "ename": "ValueError",
     "evalue": "operands could not be broadcast together with shapes (6,6) (0,0) ",
     "output_type": "error",
     "traceback": [
      "\u001b[1;31m---------------------------------------------------------------------------\u001b[0m",
      "\u001b[1;31mValueError\u001b[0m                                Traceback (most recent call last)",
      "\u001b[1;32m<ipython-input-48-f857be9c13cc>\u001b[0m in \u001b[0;36m<module>\u001b[1;34m()\u001b[0m\n\u001b[1;32m----> 1\u001b[1;33m \u001b[0mZ\u001b[0m \u001b[1;33m+\u001b[0m \u001b[0mZ\u001b[0m\u001b[1;33m[\u001b[0m\u001b[1;33m-\u001b[0m\u001b[1;36m1\u001b[0m\u001b[1;33m:\u001b[0m\u001b[1;36m1\u001b[0m\u001b[1;33m,\u001b[0m\u001b[1;33m-\u001b[0m\u001b[1;36m1\u001b[0m\u001b[1;33m:\u001b[0m\u001b[1;36m1\u001b[0m\u001b[1;33m]\u001b[0m\u001b[1;33m\u001b[0m\u001b[0m\n\u001b[0m",
      "\u001b[1;31mValueError\u001b[0m: operands could not be broadcast together with shapes (6,6) (0,0) "
     ]
    }
   ],
   "source": [
    " Z + Z[-1:1,-1:1]"
   ]
  },
  {
   "cell_type": "markdown",
   "metadata": {},
   "source": [
    "This raises a Value Error, but more interestingly, numpy complains about the impossibility of broadcasting the two arrays together. Broadcasting is a very powerful feature of numpy and most of the time, it saves you a lot of hassle. Let's consider for example the following code:"
   ]
  },
  {
   "cell_type": "code",
   "execution_count": 49,
   "metadata": {},
   "outputs": [
    {
     "name": "stdout",
     "output_type": "stream",
     "text": [
      "[[ 1  1  1  1  1  1]\n",
      " [ 1 10  1  1  1  1]\n",
      " [ 1  1  2  2  1  1]\n",
      " [ 1  2  1  2  1  1]\n",
      " [ 1  1  1  2  1  1]\n",
      " [ 1  1  1  1  1  1]]\n"
     ]
    }
   ],
   "source": [
    "print(Z+1)"
   ]
  },
  {
   "cell_type": "markdown",
   "metadata": {},
   "source": [
    "How can a matrix and a scalar be added together ? Well, they can't. But numpy is smart enough to guess that you actually want to add 1 to each of the element of Z. This concept of broadcasting is quite powerful and it will take you some time before masterizing it fully (if even possible).\n",
    "\n",
    "However, in the present case (counting neighbours if you remember), we won't use broadcasting (uh ?). But we'll use vectorize computation using the following code:"
   ]
  },
  {
   "cell_type": "code",
   "execution_count": 55,
   "metadata": {},
   "outputs": [],
   "source": [
    "def count_neighbors(Z):\n",
    "    N = np.zeros(Z.shape, dtype=int)\n",
    "    N[1:-1, 1:-1] +=(Z[:-2, :-2] + Z[:-2,1:-1] + Z[:-2,2:] \\\n",
    "    + Z[1:-1,:-2] + Z[1:-1, 2:] \\\n",
    "    + Z[2:,:-2] + Z[2:, 1:-1] + Z[2:, 2:])\n",
    "    \n",
    "    return N"
   ]
  },
  {
   "cell_type": "code",
   "execution_count": 56,
   "metadata": {},
   "outputs": [
    {
     "data": {
      "text/plain": [
       "array([[0, 0, 0, 0, 0, 0],\n",
       "       [0, 1, 2, 2, 1, 0],\n",
       "       [0, 2, 3, 2, 2, 0],\n",
       "       [0, 1, 5, 3, 3, 0],\n",
       "       [0, 1, 3, 1, 2, 0],\n",
       "       [0, 0, 0, 0, 0, 0]])"
      ]
     },
     "execution_count": 56,
     "metadata": {},
     "output_type": "execute_result"
    }
   ],
   "source": [
    "count_neighbors(Z)"
   ]
  },
  {
   "cell_type": "markdown",
   "metadata": {},
   "source": [
    "To understand this code, have a look at the figure below:\n",
    "\n",
    "| | | |\n",
    "| ------------------------------------------------------------ | ------------------------------------------------------------ | ------------------------------------------------------------ |\n",
    "| ![](http://www.labri.fr/perso/nrougier/teaching/numpy/figures/neighbours-1.png) | ![](http://www.labri.fr/perso/nrougier/teaching/numpy/figures/neighbours-2.png) | ![](http://www.labri.fr/perso/nrougier/teaching/numpy/figures/neighbours-3.png) |\n",
    "| ![](http://www.labri.fr/perso/nrougier/teaching/numpy/figures/neighbours-4.png) | ![](http://www.labri.fr/perso/nrougier/teaching/numpy/figures/neighbours-5.png) | ![](http://www.labri.fr/perso/nrougier/teaching/numpy/figures/neighbours-6.png) |\n",
    "| ![](http://www.labri.fr/perso/nrougier/teaching/numpy/figures/neighbours-7.png) | ![](http://www.labri.fr/perso/nrougier/teaching/numpy/figures/neighbours-8.png) | ![](http://www.labri.fr/perso/nrougier/teaching/numpy/figures/neighbours-9.png) |\n",
    "\n"
   ]
  },
  {
   "cell_type": "markdown",
   "metadata": {},
   "source": [
    "What we actually did with the above code is to add all the darker blue squares together. Since they have been chosen carefully, the result will be exactly what we expected. If you want to convince yourself, consider a cell in the lighter blue area of the central sub-figure and check what will the result for a given cell."
   ]
  },
  {
   "cell_type": "markdown",
   "metadata": {},
   "source": [
    "### 迭代\n",
    "\n",
    "In a first approach, we can write the iterate function using the argwhere method that will give us the indices where a given condition is True."
   ]
  },
  {
   "cell_type": "code",
   "execution_count": 66,
   "metadata": {},
   "outputs": [
    {
     "name": "stdout",
     "output_type": "stream",
     "text": [
      "[[0 0 0 0 0 0]\n",
      " [0 1 2 2 1 0]\n",
      " [0 1 2 3 3 0]\n",
      " [0 2 4 4 2 0]\n",
      " [0 1 1 3 2 0]\n",
      " [0 0 0 0 0 0]]\n",
      "[[9 0 0 0 0 0]\n",
      " [0 1 2 2 1 0]\n",
      " [0 1 2 3 3 0]\n",
      " [0 2 4 4 2 0]\n",
      " [0 1 1 3 2 0]\n",
      " [0 0 0 0 0 0]]\n"
     ]
    }
   ],
   "source": [
    "T = count_neighbors(Z)\n",
    "print(T)\n",
    "T.ravel()[0]=9\n",
    "print(T)"
   ]
  },
  {
   "cell_type": "code",
   "execution_count": 63,
   "metadata": {},
   "outputs": [],
   "source": [
    "def iterate_game(Z):\n",
    "    \"\"\"迭代生命游戏：简单版本\"\"\"\n",
    "    # 数邻居\n",
    "    N = count_neighbors(Z)\n",
    "    \n",
    "    N_ = N.ravel()\n",
    "    Z_ = Z.ravel()\n",
    "    \n",
    "    # 应用规则\n",
    "    R1 = np.argwhere((Z_==1)&(N_<2)) # 孤独致死\n",
    "    R2 = np.argwhere((Z_==1)&(N_>3)) # 拥挤致死\n",
    "    R3 = np.argwhere((Z_==1)&(N_==2)|(N_==3)) # 保持活力\n",
    "    R4 = np.argwhere((Z_==0)&(N_==3)) # 新细胞诞生\n",
    "    \n",
    "    # 设置新值\n",
    "    Z_[R1] = 0\n",
    "    Z_[R2] = 0\n",
    "    Z_[R3] = Z_[R3]\n",
    "    Z_[R4] = 1\n",
    "    \n",
    "    # 确保边界仍然为空\n",
    "    Z[0,:] = Z[-1,:] = Z[:,0] = Z[:, -1] =0\n",
    "    return Z\n",
    "    "
   ]
  },
  {
   "cell_type": "code",
   "execution_count": 64,
   "metadata": {},
   "outputs": [
    {
     "data": {
      "text/plain": [
       "array([[0, 0, 0, 0, 0, 0],\n",
       "       [0, 0, 0, 0, 0, 0],\n",
       "       [0, 0, 1, 1, 0, 0],\n",
       "       [0, 0, 0, 1, 1, 0],\n",
       "       [0, 0, 1, 0, 0, 0],\n",
       "       [0, 0, 0, 0, 0, 0]])"
      ]
     },
     "execution_count": 64,
     "metadata": {},
     "output_type": "execute_result"
    }
   ],
   "source": [
    "iterate_game(Z)"
   ]
  },
  {
   "cell_type": "markdown",
   "metadata": {},
   "source": [
    "Even if this first version does not use nested loops, it is far from optimal because of the use of the 4 argwhere calls that may be quite slow. We can instead take advantages of numpy features the following way."
   ]
  },
  {
   "cell_type": "code",
   "execution_count": 90,
   "metadata": {},
   "outputs": [],
   "source": [
    "def itertate_game2(Z):\n",
    "    #print(Z)\n",
    "    # 数邻居\n",
    "    N = count_neighbors(Z)\n",
    "    #print(\"count\\n\",N)\n",
    "    # 应用规则\n",
    "    \n",
    "    birth = (N==3)&(Z[:,:]==0)\n",
    "    survive = ((N==2)|(N==3)) &(Z[:,:]==1)\n",
    "    #print(\"birth\\n\", birth)\n",
    "    #print(\"survive\\n\", survive)\n",
    "    Z[...] = 0\n",
    "    Z[:,:][birth|survive] = 1\n",
    "    #print(\"Result\\n\", Z)\n",
    "    return Z"
   ]
  },
  {
   "cell_type": "code",
   "execution_count": 89,
   "metadata": {},
   "outputs": [
    {
     "name": "stdout",
     "output_type": "stream",
     "text": [
      "[[0 0 0 0 0 0]\n",
      " [0 0 0 0 0 0]\n",
      " [0 0 1 1 1 0]\n",
      " [0 1 0 0 1 0]\n",
      " [0 0 1 1 1 0]\n",
      " [0 0 0 0 0 0]]\n",
      "count\n",
      " [[0 0 0 0 0 0]\n",
      " [0 1 2 3 2 0]\n",
      " [0 2 2 3 2 0]\n",
      " [0 2 5 7 4 0]\n",
      " [0 2 2 3 2 0]\n",
      " [0 0 0 0 0 0]]\n",
      "birth\n",
      " [[False False False False False False]\n",
      " [False False False  True False False]\n",
      " [False False False False False False]\n",
      " [False False False False False False]\n",
      " [False False False False False False]\n",
      " [False False False False False False]]\n",
      "survive\n",
      " [[False False False False False False]\n",
      " [False False False False False False]\n",
      " [False False  True  True  True False]\n",
      " [False  True False False False False]\n",
      " [False False  True  True  True False]\n",
      " [False False False False False False]]\n",
      "Result\n",
      " [[0 0 0 0 0 0]\n",
      " [0 0 0 1 0 0]\n",
      " [0 0 1 1 1 0]\n",
      " [0 1 0 0 0 0]\n",
      " [0 0 1 1 1 0]\n",
      " [0 0 0 0 0 0]]\n"
     ]
    }
   ],
   "source": [
    "T2=itertate_game2(Z)"
   ]
  },
  {
   "cell_type": "code",
   "execution_count": 86,
   "metadata": {},
   "outputs": [
    {
     "data": {
      "text/plain": [
       "array([[0, 0, 0, 0, 0, 0],\n",
       "       [0, 0, 0, 0, 0, 0],\n",
       "       [0, 0, 1, 1, 1, 0],\n",
       "       [0, 1, 0, 0, 1, 0],\n",
       "       [0, 0, 1, 1, 1, 0],\n",
       "       [0, 0, 0, 0, 0, 0]])"
      ]
     },
     "execution_count": 86,
     "metadata": {},
     "output_type": "execute_result"
    }
   ],
   "source": [
    "T2"
   ]
  },
  {
   "cell_type": "code",
   "execution_count": 87,
   "metadata": {},
   "outputs": [
    {
     "data": {
      "text/plain": [
       "array([[0, 0, 0, 0, 0, 0],\n",
       "       [0, 0, 0, 0, 0, 0],\n",
       "       [0, 0, 1, 1, 1, 0],\n",
       "       [0, 1, 0, 0, 1, 0],\n",
       "       [0, 0, 1, 1, 1, 0],\n",
       "       [0, 0, 0, 0, 0, 0]])"
      ]
     },
     "execution_count": 87,
     "metadata": {},
     "output_type": "execute_result"
    }
   ],
   "source": [
    "Z"
   ]
  },
  {
   "cell_type": "code",
   "execution_count": 95,
   "metadata": {},
   "outputs": [
    {
     "name": "stdout",
     "output_type": "stream",
     "text": [
      "time= 0 \n",
      " [[0 0 0 0 0 0]\n",
      " [0 0 0 1 1 0]\n",
      " [0 0 0 0 1 0]\n",
      " [0 0 0 0 0 0]\n",
      " [0 0 0 0 0 0]\n",
      " [0 0 0 0 0 0]]\n",
      "time= 1 \n",
      " [[0 0 0 0 0 0]\n",
      " [0 0 0 1 1 0]\n",
      " [0 0 0 1 1 0]\n",
      " [0 0 0 0 0 0]\n",
      " [0 0 0 0 0 0]\n",
      " [0 0 0 0 0 0]]\n",
      "time= 2 \n",
      " [[0 0 0 0 0 0]\n",
      " [0 0 0 1 1 0]\n",
      " [0 0 0 1 1 0]\n",
      " [0 0 0 0 0 0]\n",
      " [0 0 0 0 0 0]\n",
      " [0 0 0 0 0 0]]\n",
      "time= 3 \n",
      " [[0 0 0 0 0 0]\n",
      " [0 0 0 1 1 0]\n",
      " [0 0 0 1 1 0]\n",
      " [0 0 0 0 0 0]\n",
      " [0 0 0 0 0 0]\n",
      " [0 0 0 0 0 0]]\n",
      "time= 4 \n",
      " [[0 0 0 0 0 0]\n",
      " [0 0 0 1 1 0]\n",
      " [0 0 0 1 1 0]\n",
      " [0 0 0 0 0 0]\n",
      " [0 0 0 0 0 0]\n",
      " [0 0 0 0 0 0]]\n"
     ]
    }
   ],
   "source": [
    "for i in range(5):\n",
    "    itertate_game2(Z)\n",
    "    print(\"time=\",i, \"\\n\",Z)"
   ]
  },
  {
   "cell_type": "markdown",
   "metadata": {},
   "source": [
    "### 更大的游戏场\n",
    "\n",
    "While numpy works perfectly with very small arrays, you'll really benefit from numpy power with big to very big arrays. So let us reconsider the game of life with a bigger array. First, we won't initalize the array by hand but initalize it randomly:"
   ]
  },
  {
   "cell_type": "code",
   "execution_count": 96,
   "metadata": {},
   "outputs": [],
   "source": [
    "Z = np.random.randint(0,2,(256,512))"
   ]
  },
  {
   "cell_type": "markdown",
   "metadata": {},
   "source": [
    "and we simply iterate as previously:"
   ]
  },
  {
   "cell_type": "code",
   "execution_count": 97,
   "metadata": {},
   "outputs": [
    {
     "name": "stdout",
     "output_type": "stream",
     "text": [
      "[[0 0 0 ... 0 0 0]\n",
      " [0 0 0 ... 1 0 0]\n",
      " [0 0 0 ... 1 0 0]\n",
      " ...\n",
      " [0 0 0 ... 0 0 0]\n",
      " [0 0 0 ... 0 0 0]\n",
      " [0 0 0 ... 0 0 0]]\n"
     ]
    }
   ],
   "source": [
    "for i in range(100):\n",
    "    itertate_game2(Z)\n",
    "print(Z)"
   ]
  },
  {
   "cell_type": "markdown",
   "metadata": {},
   "source": [
    "and display result:"
   ]
  },
  {
   "cell_type": "code",
   "execution_count": 99,
   "metadata": {},
   "outputs": [],
   "source": [
    "import matplotlib.pyplot as plt\n",
    "%matplotlib notebook"
   ]
  },
  {
   "cell_type": "code",
   "execution_count": 102,
   "metadata": {},
   "outputs": [],
   "source": [
    "\n",
    "def display(Z):\n",
    "    size=np.array(Z.shape)\n",
    "    dpi = 72.0\n",
    "    figsize=size[1]/float(dpi), size[0]/float(dpi)\n",
    "    fig = plt.figure(figsize=figsize, dpi=dpi, facecolor=\"white\")\n",
    "    fig.add_axes([0.0, 0.0, 1.0, 1.0], frameon=False)\n",
    "    plt.imshow(Z, interpolation='nearest', cmap=plt.cm.gray_r)\n",
    "    plt.xticks([]),plt.yticks([])\n",
    "    plt.show()"
   ]
  },
  {
   "cell_type": "code",
   "execution_count": 103,
   "metadata": {},
   "outputs": [
    {
     "data": {
      "image/png": "[encoded data removed]",
      "text/plain": [
       "<matplotlib.figure.Figure at 0x1e8b5b21518>"
      ]
     },
     "metadata": {},
     "output_type": "display_data"
    }
   ],
   "source": [
    "display(Z)"
   ]
  },
  {
   "cell_type": "markdown",
   "metadata": {},
   "source": [
    "Easy enough, no ?"
   ]
  },
  {
   "cell_type": "markdown",
   "metadata": {},
   "source": [
    "### 更进一步"
   ]
  },
  {
   "cell_type": "code",
   "execution_count": null,
   "metadata": {},
   "outputs": [],
   "source": [
    "\n",
    "Z = np.random.randint(0, 2, (256, 512))\n",
    "\n",
    "plt.ion()\n",
    "size=np.array(Z.shape)\n",
    "dpi = 120.0\n",
    "figsize=size[1]/float(dpi), size[0]/float(dpi)\n",
    "fig = plt.figure(figsize=figsize, dpi=dpi, facecolor=\"white\")\n",
    "fig.add_axes([0.0, 0.0, 1.0, 1.0], frameon=False) # 去掉边框\n",
    "for i in range(250):\n",
    "    itertate_game2(Z)\n",
    "    plt.cla()\n",
    "    plt.xticks([]), plt.yticks([])\n",
    "    # display(Z)\n",
    "    plt.imshow(Z, cmap=plt.cm.gray_r)\n",
    "    plt.pause(0.1)\n",
    "\n",
    "plt.ioff()\n",
    "plt.show()\n"
   ]
  },
  {
   "cell_type": "code",
   "execution_count": null,
   "metadata": {},
   "outputs": [],
   "source": []
  }
 ],
 "metadata": {
  "kernelspec": {
   "display_name": "Python 3",
   "language": "python",
   "name": "python3"
  },
  "language_info": {
   "codemirror_mode": {
    "name": "ipython",
    "version": 3
   },
   "file_extension": ".py",
   "mimetype": "text/x-python",
   "name": "python",
   "nbconvert_exporter": "python",
   "pygments_lexer": "ipython3",
   "version": "3.6.4"
  }
 },
 "nbformat": 4,
 "nbformat_minor": 2
}
