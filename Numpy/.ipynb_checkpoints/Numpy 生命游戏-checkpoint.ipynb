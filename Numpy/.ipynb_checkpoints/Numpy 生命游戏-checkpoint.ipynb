{
 "cells": [
  {
   "cell_type": "markdown",
   "metadata": {},
   "source": [
    "[TOC]\n",
    "\n",
    "源代码可以到[Github](https://github.com/rougier/numpy-tutorial)找到。\n",
    "\n",
    "所有代码和材料使用[创造性-相同方式共享-署名4.0](http://creativecommons.org/licenses/by-sa/4.0)证书。\n",
    "\n",
    "本教程首发于http://www.labri.fr/perso/nrougier/teaching/matplotlib/matplotlib.html\n",
    "\n",
    "阅读作者更多文章：\n",
    "[Matplotlib教程](http://www.labri.fr/perso/nrougier/teaching/matplotlib/matplotlib.html)\n",
    "[Numpy 100 练](http://www.labri.fr/perso/nrougier/teaching/numpy.100/index.html)\n",
    "\n",
    "## 介绍\n",
    "\n",
    "NumPy is the fundamental package for scientific computing with Python. It contains among other things:\n",
    "\n",
    "- → a powerful N-dimensional array object\n",
    "- → sophisticated (broadcasting) functions\n",
    "- → tools for integrating C/C++ and Fortran code\n",
    "- → useful linear algebra, Fourier transform, and random number capabilities\n",
    "\n",
    "Besides its obvious scientific uses, NumPy can also be used as an efficient multi-dimensional container of generic data. Arbitrary data-types can be defined and this allows NumPy to seamlessly and speedily integrate with a wide variety of projects. We are going to explore numpy through a simple example, implementing the Game of Life."
   ]
  },
  {
   "cell_type": "markdown",
   "metadata": {},
   "source": [
    "## 生命游戏\n",
    "\n",
    "Numpy is slanted toward scientific computing and we'll consider in this section the game of life by John Conway which is one of the earliest example of cellular automata (see figure below). Those cellular automaton can be conveniently considered as array of cells that are connected together through the notion of neighbours. We'll show in the following sections implementation of this game using pure python and numpy in order to illustrate main differences with python and numpy.\n",
    "\n",
    "![Figure 1 Simulation of the game of life.](http://www.labri.fr/perso/nrougier/teaching/numpy/figures/game-of-life.png)\n",
    "\n",
    "The Game of Life, also known simply as Life, is a cellular automaton devised by the British mathematician John Horton Conway in 1970. It is the best-known example of a cellular automaton. The \"game\" is actually a zero-player game, meaning that its evolution is determined by its initial state, needing no input from human players. One interacts with the Game of Life by creating an initial configuration and observing how it evolves.\n",
    "\n",
    "The universe of the Game of Life is an infinite two-dimensional orthogonal grid of square cells, each of which is in one of two possible states, live or dead. Every cell interacts with its eight neighbours, which are the cells that are directly horizontally, vertically, or diagonally adjacent. At each step in time, the following transitions occur:\n",
    "\n",
    "Any live cell with fewer than two live neighbours dies, as if by needs caused by underpopulation.\n",
    "Any live cell with more than three live neighbours dies, as if by overcrowding.\n",
    "Any live cell with two or three live neighbours lives, unchanged, to the next generation.\n",
    "Any dead cell with exactly three live neighbours becomes a live cell.\n",
    "\n",
    "The initial pattern constitutes the 'seed' of the system. The first generation is created by applying the above rules simultaneously to every cell in the seed – births and deaths happen simultaneously, and the discrete moment at which this happens is sometimes called a tick. (In other words, each generation is a pure function of the one before.) The rules continue to be applied repeatedly to create further generations.\n",
    "\n",
    "We'll first use a very simple setup and more precisely, we'll use the glider pattern that is known to move one step diagonally in 4 iterations as illustrated below:\n",
    "\n",
    "\n",
    "![](http://www.labri.fr/perso/nrougier/teaching/numpy/figures/glider-00.png)\n",
    "t = 0\n",
    "\n",
    "![](http://www.labri.fr/perso/nrougier/teaching/numpy/figures/glider-01.png)\n",
    "t = 1\n",
    "\n",
    "![](http://www.labri.fr/perso/nrougier/teaching/numpy/figures/glider-02.png)\n",
    "t = 2\n",
    "\n",
    "![](http://www.labri.fr/perso/nrougier/teaching/numpy/figures/glider-03.png)\n",
    "t = 3\n",
    "\n",
    "![](http://www.labri.fr/perso/nrougier/teaching/numpy/figures/glider-04.png)\n",
    "t = 4\n",
    "\n",
    "This property will help us debug our scripts."
   ]
  },
  {
   "cell_type": "markdown",
   "metadata": {},
   "source": [
    "## Python方式\n",
    "\n",
    "In pure python, we can code the Game of Life using a list of lists representing the board where cells are supposed to evolve:\n",
    "\n",
    "```python\n",
    ">>> Z =  [[0,0,0,0,0,0],\n",
    "       [0,0,1,1,0,0],\n",
    "       [0,1,0,1,0,0],\n",
    "       [0,0,0,1,0,0],\n",
    "       [0,0,0,0,0,0],\n",
    "       [0,0,0,0,0,0]]\n",
    "```"
   ]
  },
  {
   "cell_type": "code",
   "execution_count": 20,
   "metadata": {},
   "outputs": [],
   "source": [
    "Z = [[0,0,0,0,0,0],\n",
    "    [0,0,1,1,0,0],\n",
    "    [0,1,0,1,0,0],\n",
    "    [0,0,0,1,0,0],\n",
    "    [0,0,0,0,0,0],\n",
    "    [0,0,0,0,0,0]]"
   ]
  },
  {
   "cell_type": "markdown",
   "metadata": {},
   "source": [
    "This board possesses a 0 border that allows to accelerate things a bit by avoiding to have specific tests for borders when counting the number of neighbours. First step is to count neighbours:"
   ]
  },
  {
   "cell_type": "code",
   "execution_count": 21,
   "metadata": {},
   "outputs": [],
   "source": [
    "def compute_neighbor(Z):\n",
    "    \"\"\"(对边界进行0填充)每次计算当前细胞周围细胞的状态(数)来确定当前细胞的下一个状态\"\"\"\n",
    "    shape = len(Z), len(Z[0])\n",
    "    N = [[0,]*(shape[1]) for i in range(shape[0])]\n",
    "    for x in range(1,shape[0]-1):\n",
    "        for y in range(1, shape[1]-1):\n",
    "            N[x][y] = Z[x-1][y-1]+Z[x][y-1]+Z[x+1][y-1] \\\n",
    "            + Z[x-1][y]+ Z[x+1][y] \\\n",
    "            + Z[x-1][y+1]+Z[x][y+1]+Z[x+1][y+1]\n",
    "    return N"
   ]
  },
  {
   "cell_type": "code",
   "execution_count": 22,
   "metadata": {},
   "outputs": [
    {
     "data": {
      "text/plain": [
       "[[0, 0, 0, 0, 0, 0],\n",
       " [0, 2, 3, 2, 2, 0],\n",
       " [0, 1, 5, 3, 3, 0],\n",
       " [0, 1, 3, 1, 2, 0],\n",
       " [0, 0, 1, 1, 1, 0],\n",
       " [0, 0, 0, 0, 0, 0]]"
      ]
     },
     "execution_count": 22,
     "metadata": {},
     "output_type": "execute_result"
    }
   ],
   "source": [
    "compute_neighbor(Z)"
   ]
  },
  {
   "cell_type": "markdown",
   "metadata": {},
   "source": [
    "To iterate one step in time, we then simply count the number of neighbours for each internal cell and we update the whole board according to the 4 rules:"
   ]
  },
  {
   "cell_type": "code",
   "execution_count": 23,
   "metadata": {},
   "outputs": [],
   "source": [
    "def iterate(Z):\n",
    "    N = compute_neighbor(Z)\n",
    "    shape = len(N), len(N[0])\n",
    "    for x in range(1, shape[0]-1):\n",
    "        for y in range(1, shape[1]-1):\n",
    "            if Z[x][y]==1 and (N[x][y]<2 or N[x][y] >3):\n",
    "                Z[x][y] = 0\n",
    "            elif Z[x][y]==0 and N[x][y]==3:\n",
    "                Z[x][y] = 1\n",
    "    return Z"
   ]
  },
  {
   "cell_type": "code",
   "execution_count": 24,
   "metadata": {},
   "outputs": [
    {
     "data": {
      "text/plain": [
       "[[0, 0, 0, 0, 0, 0],\n",
       " [0, 0, 1, 1, 0, 0],\n",
       " [0, 0, 0, 1, 1, 0],\n",
       " [0, 0, 1, 0, 0, 0],\n",
       " [0, 0, 0, 0, 0, 0],\n",
       " [0, 0, 0, 0, 0, 0]]"
      ]
     },
     "execution_count": 24,
     "metadata": {},
     "output_type": "execute_result"
    }
   ],
   "source": [
    "iterate(Z)"
   ]
  },
  {
   "cell_type": "code",
   "execution_count": 26,
   "metadata": {},
   "outputs": [],
   "source": [
    "def show(Z):\n",
    "    for l in Z[1:-1]:\n",
    "        print(l[1:-1])\n",
    "    print()"
   ]
  },
  {
   "cell_type": "code",
   "execution_count": null,
   "metadata": {},
   "outputs": [],
   "source": []
  }
 ],
 "metadata": {
  "kernelspec": {
   "display_name": "Python 3",
   "language": "python",
   "name": "python3"
  },
  "language_info": {
   "codemirror_mode": {
    "name": "ipython",
    "version": 3
   },
   "file_extension": ".py",
   "mimetype": "text/x-python",
   "name": "python",
   "nbconvert_exporter": "python",
   "pygments_lexer": "ipython3",
   "version": "3.6.4"
  }
 },
 "nbformat": 4,
 "nbformat_minor": 2
}
