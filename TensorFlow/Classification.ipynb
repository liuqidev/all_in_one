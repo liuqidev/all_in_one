{
 "cells": [
  {
   "cell_type": "markdown",
   "metadata": {},
   "source": [
    "手写体识别是典型的分类任务。目标值是离散的，区别于目标值是连续的回归任务。"
   ]
  },
  {
   "cell_type": "code",
   "execution_count": 1,
   "metadata": {},
   "outputs": [],
   "source": [
    "import tensorflow as tf\n",
    "\n",
    "def add_layer(inputs, in_size, out_size, activation_function):\n",
    "    W = tf.Variable(tf.random_normal([in_size, out_size]))\n",
    "    b = tf.Variable(tf.zeros([1, out_size])+0.1)\n",
    "    Wx_plus_b = tf.matmul(W, inputs)+b\n",
    "    if activation_function is None:\n",
    "        outputs = Wx_plus_b\n",
    "    else:\n",
    "        outputs = activation_function(Wx_plus_b)\n",
    "    return outputs"
   ]
  },
  {
   "cell_type": "code",
   "execution_count": null,
   "metadata": {},
   "outputs": [],
   "source": [
    "from tensorflow.examples.tutorials.mnist import input_data\n",
    "\n",
    "mnist = input_data.read_data_sets('MNIST_data', one_hot=True)"
   ]
  },
  {
   "cell_type": "code",
   "execution_count": null,
   "metadata": {},
   "outputs": [],
   "source": [
    "with tf.Graph().as_default(), tf.Session() as sess:\n",
    "    xs = tf.placeholder(tf.float32, [None, 784]) # 之所以加s是由于英文通常复数加s\n",
    "    ys = tf.placeholder(tf.float32, [None, 10])\n",
    "    # add output layer\n",
    "    prediction = add_layer(xs, 784, 10, activation_function=tf.nn.softmax)\n",
    "    # the error between prediction and real data\n",
    "    loss = tf.reduce_mean(-tf.reduce_sum(ys*tf.log(prediction),\n",
    "                                        reduction_indices=[1])) # cross entropy\n",
    "    \n",
    "    train_step = tf.train.GradientDescentOptimizer(0.5).minimize(loss)\n",
    "    \n",
    "    sess.run(tf.global_variables_initializer())\n",
    "    \n",
    "    for i in range(1001):\n",
    "        batch_xs, batch_ys = mnist\n",
    "    "
   ]
  },
  {
   "cell_type": "markdown",
   "metadata": {},
   "source": [
    "## 简单分类\n"
   ]
  },
  {
   "cell_type": "code",
   "execution_count": null,
   "metadata": {},
   "outputs": [],
   "source": []
  }
 ],
 "metadata": {
  "kernelspec": {
   "display_name": "Python 3",
   "language": "python",
   "name": "python3"
  },
  "language_info": {
   "codemirror_mode": {
    "name": "ipython",
    "version": 3
   },
   "file_extension": ".py",
   "mimetype": "text/x-python",
   "name": "python",
   "nbconvert_exporter": "python",
   "pygments_lexer": "ipython3",
   "version": "3.6.5"
  }
 },
 "nbformat": 4,
 "nbformat_minor": 2
}
