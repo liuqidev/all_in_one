{
 "cells": [
  {
   "cell_type": "markdown",
   "metadata": {},
   "source": [
    "## 运行TensorFlow的InteractiveSession/交互式会话\n",
    "\n",
    "`sess = tf.InteractiveSession()`用来创建交互式的会话，其余使用同Session"
   ]
  },
  {
   "cell_type": "code",
   "execution_count": 1,
   "metadata": {},
   "outputs": [
    {
     "name": "stderr",
     "output_type": "stream",
     "text": [
      "D:\\Anaconda3\\Anaconda3_py36\\lib\\site-packages\\h5py\\__init__.py:36: FutureWarning: Conversion of the second argument of issubdtype from `float` to `np.floating` is deprecated. In future, it will be treated as `np.float64 == np.dtype(float).type`.\n",
      "  from ._conv import register_converters as _register_converters\n"
     ]
    }
   ],
   "source": [
    "import numpy as np\n",
    "import tensorflow as tf"
   ]
  },
  {
   "cell_type": "markdown",
   "metadata": {},
   "source": [
    "### 准备工作\n",
    "和上一节类似"
   ]
  },
  {
   "cell_type": "code",
   "execution_count": null,
   "metadata": {},
   "outputs": [],
   "source": [
    "# http://yann.lecun.com/exdb/mnist/  to download mnist dataset\n",
    "# https://github.com/tensorflow/tensorflow/blob/master/tensorflow/examples/tutorials/mnist/input_data.py\n",
    "# to read dataset\n",
    "from load_mnist import *\n",
    "import tensorflow.examples.tutorials.mnist.input_data as input_data\n",
    "minst_dir = \"MNIST_data/\"\n",
    "mnist = input_data.read_data_sets(minst_dir, one_hot=True)"
   ]
  },
  {
   "cell_type": "code",
   "execution_count": 8,
   "metadata": {},
   "outputs": [],
   "source": [
    "x = tf.placeholder(\"float\", shape=[None, 784]) \n",
    "y_ = tf.placeholder(\"float\", shape=[None, 10]) # true label"
   ]
  },
  {
   "cell_type": "markdown",
   "metadata": {},
   "source": [
    "## 构建一个多层卷积网络"
   ]
  },
  {
   "cell_type": "markdown",
   "metadata": {},
   "source": [
    "### 权重初始化\n"
   ]
  },
  {
   "cell_type": "code",
   "execution_count": 2,
   "metadata": {},
   "outputs": [],
   "source": [
    "def weight_variable(shape):\n",
    "    initial = tf.truncated_normal(shape, stddev=0.1) #  The generated values follow a normal distribution with specified mean and\n",
    "    # standard deviation.从截断的正态分布中输出随机值，中如果x的取值在区间（μ-2σ，μ+2σ）之外则重新进行选择\n",
    "    return tf.Variable(initial)\n",
    "\n",
    "def bias_variable(shape):\n",
    "    initial = tf.constant(0.1, shape=shape) # Constant 2-D tensor populated with scalar value 0.1. 初始值为0.1，广播到shape形状的二维数组\n",
    "    return tf.Variable(initial)"
   ]
  },
  {
   "cell_type": "markdown",
   "metadata": {},
   "source": [
    "### 卷积和汇聚（~~池化~~）\n",
    "*由于Pooling翻译成池化让人不明所以，个人习惯依据其作用，而称之为汇聚。*\n",
    "\n",
    "简单起见，卷积使用1步长（stride size），0边距（padding size）的模板，保证输出和输入是同一个大小。我们的池化用简单传统的2x2大小的模板做max pooli\n"
   ]
  },
  {
   "cell_type": "code",
   "execution_count": 5,
   "metadata": {},
   "outputs": [],
   "source": [
    "def conv2d(x, W):\n",
    "    return tf.nn.conv2d(x, W, strides=[1, 1, 1, 1], padding='SAME')\n",
    "\n",
    "def max_pool_2x2(x):\n",
    "    return tf.nn.max_pool(x, ksize=[1,2,2,1], strides=[1,2,2,1], padding='SAME')"
   ]
  },
  {
   "cell_type": "markdown",
   "metadata": {},
   "source": [
    "### 第一层卷积\n",
    "\n",
    "它由一个卷积接一个max pooling完成。卷积在每个5x5的patch中算出32个特征。卷积的权重张量形状是[5, 5, 1, 32]，前两个维度是patch的大小，接着是输入的通道数目，最后是输出的通道数目。 而对于每一个输出通道都有一个对应的偏置量。"
   ]
  },
  {
   "cell_type": "code",
   "execution_count": 9,
   "metadata": {},
   "outputs": [],
   "source": [
    "W_conv1 = weight_variable([5, 5, 1, 32])\n",
    "b_conv1 = bias_variable([32])\n",
    "\n",
    "# convert x to 4d vector\n",
    "x_image = tf.reshape(x, [-1, 28,28, 1])# num x height x width x channel\n",
    "\n",
    "# We then convolve x_image with the weight tensor, add the bias, apply the ReLU function, and finally max pool. \n",
    "# 我们把x_image和权值向量进行卷积，加上偏置项，然后应用ReLU激活函数，最后进行max pooling。\n",
    "h_conv1 = tf.nn.relu(conv2d(x_image, W_conv1)+b_conv1)\n",
    "h_pool1 = max_pool_2x2(h_conv1)"
   ]
  },
  {
   "cell_type": "markdown",
   "metadata": {},
   "source": [
    "### 第二层卷积\n",
    "为了构建一个更深的网络，我们会把几个类似的层堆叠起来。第二层中，每个5x5的patch会得到64个特征。"
   ]
  },
  {
   "cell_type": "code",
   "execution_count": 10,
   "metadata": {},
   "outputs": [],
   "source": [
    "W_conv2 = weight_variable([5, 5, 32, 64])\n",
    "b_conv2 = bias_variable([64])\n",
    "\n",
    "h_conv2 = tf.nn.relu(conv2d(h_pool1, W_conv2)+b_conv2)\n",
    "h_pool2 = max_pool_2x2(h_conv2)"
   ]
  },
  {
   "cell_type": "markdown",
   "metadata": {},
   "source": [
    "### 密集连接（全连接）层\n",
    "经过两层卷积（激活）汇聚组合拳，原本的28x28的图像，特征图的尺寸减小到7x7（主要得益于汇聚）。\n",
    "并且一张图片有64个特征图（得益于卷积）。\n",
    "引入一个有1024个神经元的全连接层，来处理整个图片。"
   ]
  },
  {
   "cell_type": "code",
   "execution_count": 12,
   "metadata": {},
   "outputs": [],
   "source": [
    "W_fc1 = weight_variable([7*7*64, 1024])\n",
    "b_fc1 = bias_variable([1024])\n",
    "\n",
    "h_pool2_flat = tf.reshape(h_pool2, [-1, 7*7*64])\n",
    "h_fc1 = tf.nn.relu(tf.matmul(h_pool2_flat, W_fc1)+b_fc1)"
   ]
  },
  {
   "cell_type": "markdown",
   "metadata": {},
   "source": [
    "### Dropout\n",
    "*好像还没有官方中文翻译，那就叫它断电吧。使用TensorFlow构建计算图和使用vhdl构建电路有很多相似之处*\n",
    "\n",
    "减少过拟合。用一个placeholder来代表一个神经元的输出在dropout中保持不变的概率。这样我们可以在训练过程中启用dropout，在测试过程中关闭dropout。 TensorFlow的tf.nn.dropout操作除了可以屏蔽神经元的输出外，还会自动处理神经元输出值的scale。所以用dropout的时候可以不用考虑scale。"
   ]
  },
  {
   "cell_type": "code",
   "execution_count": 13,
   "metadata": {},
   "outputs": [],
   "source": [
    "keep_prob = tf.placeholder(\"float\")\n",
    "h_fc1_drop = tf.nn.dropout(h_fc1, keep_prob)\n",
    "\n"
   ]
  },
  {
   "cell_type": "markdown",
   "metadata": {},
   "source": [
    "### 输出层\n",
    "\n",
    "最后添加一个softmax层，如同前一节的softmax回归一样。\n"
   ]
  },
  {
   "cell_type": "code",
   "execution_count": 14,
   "metadata": {},
   "outputs": [],
   "source": [
    "W_fc2 = weight_variable([1024, 10])\n",
    "b_fc2 = bias_variable([10])\n",
    "\n",
    "y_conv = tf.nn.softmax(tf.matmul(h_fc1_drop, W_fc2)+b_fc2) # 输出层不需要激活函数"
   ]
  },
  {
   "cell_type": "markdown",
   "metadata": {},
   "source": [
    "### 训练和评估\n",
    "\n",
    "我们会用更加复杂的ADAM优化器来做梯度最速下降，在feed_dict中加入额外的参数keep_prob来控制dropout比例。然后每100次迭代输出一次日志。"
   ]
  },
  {
   "cell_type": "code",
   "execution_count": 15,
   "metadata": {},
   "outputs": [],
   "source": [
    "import time"
   ]
  },
  {
   "cell_type": "code",
   "execution_count": 17,
   "metadata": {
    "scrolled": false
   },
   "outputs": [
    {
     "name": "stdout",
     "output_type": "stream",
     "text": [
      "Training...\n",
      "Step 0, training accuracy 0.120000\n",
      "Step 100, training accuracy 0.780000\n",
      "Step 200, training accuracy 0.860000\n",
      "Step 300, training accuracy 0.860000\n",
      "Step 400, training accuracy 0.980000\n",
      "Step 500, training accuracy 0.860000\n",
      "Step 600, training accuracy 0.940000\n",
      "Step 700, training accuracy 0.940000\n",
      "Step 800, training accuracy 0.960000\n",
      "Step 900, training accuracy 0.940000\n",
      "Step 1000, training accuracy 0.960000\n",
      "Step 1100, training accuracy 1.000000\n",
      "Step 1200, training accuracy 0.960000\n",
      "Step 1300, training accuracy 0.980000\n",
      "Step 1400, training accuracy 1.000000\n",
      "Step 1500, training accuracy 0.960000\n",
      "Step 1600, training accuracy 0.940000\n",
      "Step 1700, training accuracy 0.940000\n",
      "Step 1800, training accuracy 0.940000\n",
      "Step 1900, training accuracy 0.980000\n",
      "Step 2000, training accuracy 0.980000\n",
      "Step 2100, training accuracy 0.960000\n",
      "Step 2200, training accuracy 0.940000\n",
      "Step 2300, training accuracy 0.980000\n",
      "Step 2400, training accuracy 0.980000\n",
      "Step 2500, training accuracy 0.960000\n",
      "Step 2600, training accuracy 1.000000\n",
      "Step 2700, training accuracy 1.000000\n",
      "Step 2800, training accuracy 0.980000\n",
      "Step 2900, training accuracy 1.000000\n",
      "Step 3000, training accuracy 0.980000\n",
      "Step 3100, training accuracy 1.000000\n",
      "Step 3200, training accuracy 0.980000\n",
      "Step 3300, training accuracy 1.000000\n",
      "Step 3400, training accuracy 1.000000\n",
      "Step 3500, training accuracy 0.960000\n",
      "Step 3600, training accuracy 1.000000\n",
      "Step 3700, training accuracy 0.980000\n",
      "Step 3800, training accuracy 1.000000\n",
      "Step 3900, training accuracy 0.980000\n",
      "Step 4000, training accuracy 0.980000\n",
      "Step 4100, training accuracy 1.000000\n",
      "Step 4200, training accuracy 0.980000\n",
      "Step 4300, training accuracy 0.960000\n",
      "Step 4400, training accuracy 1.000000\n",
      "Step 4500, training accuracy 1.000000\n",
      "Step 4600, training accuracy 1.000000\n",
      "Step 4700, training accuracy 1.000000\n",
      "Step 4800, training accuracy 1.000000\n",
      "Step 4900, training accuracy 0.980000\n",
      "Step 5000, training accuracy 0.980000\n",
      "Step 5100, training accuracy 0.980000\n",
      "Step 5200, training accuracy 1.000000\n",
      "Step 5300, training accuracy 1.000000\n",
      "Step 5400, training accuracy 1.000000\n",
      "Step 5500, training accuracy 1.000000\n",
      "Step 5600, training accuracy 1.000000\n",
      "Step 5700, training accuracy 0.980000\n",
      "Step 5800, training accuracy 1.000000\n",
      "Step 5900, training accuracy 0.980000\n",
      "Step 6000, training accuracy 0.980000\n",
      "Step 6100, training accuracy 0.980000\n",
      "Step 6200, training accuracy 1.000000\n",
      "Step 6300, training accuracy 0.980000\n",
      "Step 6400, training accuracy 0.980000\n",
      "Step 6500, training accuracy 1.000000\n",
      "Step 6600, training accuracy 0.980000\n",
      "Step 6700, training accuracy 1.000000\n",
      "Step 6800, training accuracy 1.000000\n",
      "Step 6900, training accuracy 1.000000\n",
      "Step 7000, training accuracy 1.000000\n",
      "Step 7100, training accuracy 0.980000\n",
      "Step 7200, training accuracy 1.000000\n",
      "Step 7300, training accuracy 1.000000\n",
      "Step 7400, training accuracy 0.980000\n",
      "Step 7500, training accuracy 1.000000\n",
      "Step 7600, training accuracy 0.980000\n",
      "Step 7700, training accuracy 0.980000\n",
      "Step 7800, training accuracy 1.000000\n",
      "Step 7900, training accuracy 0.980000\n",
      "Step 8000, training accuracy 1.000000\n",
      "Step 8100, training accuracy 1.000000\n",
      "Step 8200, training accuracy 0.980000\n",
      "Step 8300, training accuracy 0.980000\n",
      "Step 8400, training accuracy 1.000000\n",
      "Step 8500, training accuracy 0.980000\n",
      "Step 8600, training accuracy 1.000000\n",
      "Step 8700, training accuracy 0.980000\n",
      "Step 8800, training accuracy 0.980000\n",
      "Step 8900, training accuracy 1.000000\n",
      "Step 9000, training accuracy 1.000000\n",
      "Step 9100, training accuracy 1.000000\n",
      "Step 9200, training accuracy 1.000000\n",
      "Step 9300, training accuracy 0.980000\n",
      "Step 9400, training accuracy 1.000000\n",
      "Step 9500, training accuracy 0.960000\n",
      "Step 9600, training accuracy 0.980000\n",
      "Step 9700, training accuracy 1.000000\n",
      "Step 9800, training accuracy 1.000000\n",
      "Step 9900, training accuracy 1.000000\n",
      "Step 10000, training accuracy 1.000000\n",
      "Step 10100, training accuracy 1.000000\n",
      "Step 10200, training accuracy 1.000000\n",
      "Step 10300, training accuracy 1.000000\n",
      "Step 10400, training accuracy 1.000000\n",
      "Step 10500, training accuracy 1.000000\n",
      "Step 10600, training accuracy 1.000000\n",
      "Step 10700, training accuracy 1.000000\n",
      "Step 10800, training accuracy 0.980000\n",
      "Step 10900, training accuracy 1.000000\n",
      "Step 11000, training accuracy 1.000000\n",
      "Step 11100, training accuracy 1.000000\n",
      "Step 11200, training accuracy 0.980000\n",
      "Step 11300, training accuracy 1.000000\n",
      "Step 11400, training accuracy 1.000000\n",
      "Step 11500, training accuracy 0.980000\n",
      "Step 11600, training accuracy 0.980000\n",
      "Step 11700, training accuracy 0.960000\n",
      "Step 11800, training accuracy 1.000000\n",
      "Step 11900, training accuracy 1.000000\n",
      "Step 12000, training accuracy 0.980000\n",
      "Step 12100, training accuracy 1.000000\n",
      "Step 12200, training accuracy 0.980000\n",
      "Step 12300, training accuracy 1.000000\n",
      "Step 12400, training accuracy 1.000000\n",
      "Step 12500, training accuracy 1.000000\n",
      "Step 12600, training accuracy 1.000000\n",
      "Step 12700, training accuracy 1.000000\n",
      "Step 12800, training accuracy 1.000000\n",
      "Step 12900, training accuracy 1.000000\n",
      "Step 13000, training accuracy 1.000000\n",
      "Step 13100, training accuracy 1.000000\n",
      "Step 13200, training accuracy 1.000000\n",
      "Step 13300, training accuracy 1.000000\n",
      "Step 13400, training accuracy 1.000000\n",
      "Step 13500, training accuracy 1.000000\n",
      "Step 13600, training accuracy 1.000000\n",
      "Step 13700, training accuracy 1.000000\n",
      "Step 13800, training accuracy 1.000000\n",
      "Step 13900, training accuracy 1.000000\n",
      "Step 14000, training accuracy 1.000000\n",
      "Step 14100, training accuracy 1.000000\n",
      "Step 14200, training accuracy 1.000000\n",
      "Step 14300, training accuracy 1.000000\n",
      "Step 14400, training accuracy 1.000000\n",
      "Step 14500, training accuracy 1.000000\n",
      "Step 14600, training accuracy 0.980000\n",
      "Step 14700, training accuracy 1.000000\n",
      "Step 14800, training accuracy 1.000000\n",
      "Step 14900, training accuracy 1.000000\n",
      "Step 15000, training accuracy 0.980000\n",
      "Step 15100, training accuracy 1.000000\n",
      "Step 15200, training accuracy 1.000000\n",
      "Step 15300, training accuracy 1.000000\n",
      "Step 15400, training accuracy 1.000000\n",
      "Step 15500, training accuracy 1.000000\n",
      "Step 15600, training accuracy 1.000000\n",
      "Step 15700, training accuracy 1.000000\n",
      "Step 15800, training accuracy 1.000000\n",
      "Step 15900, training accuracy 1.000000\n",
      "Step 16000, training accuracy 1.000000\n",
      "Step 16100, training accuracy 1.000000\n",
      "Step 16200, training accuracy 1.000000\n",
      "Step 16300, training accuracy 1.000000\n",
      "Step 16400, training accuracy 1.000000\n",
      "Step 16500, training accuracy 1.000000\n",
      "Step 16600, training accuracy 1.000000\n",
      "Step 16700, training accuracy 0.960000\n",
      "Step 16800, training accuracy 1.000000\n",
      "Step 16900, training accuracy 1.000000\n",
      "Step 17000, training accuracy 1.000000\n",
      "Step 17100, training accuracy 1.000000\n",
      "Step 17200, training accuracy 0.980000\n",
      "Step 17300, training accuracy 1.000000\n",
      "Step 17400, training accuracy 1.000000\n",
      "Step 17500, training accuracy 1.000000\n",
      "Step 17600, training accuracy 1.000000\n",
      "Step 17700, training accuracy 1.000000\n",
      "Step 17800, training accuracy 1.000000\n",
      "Step 17900, training accuracy 1.000000\n",
      "Step 18000, training accuracy 1.000000\n",
      "Step 18100, training accuracy 1.000000\n",
      "Step 18200, training accuracy 1.000000\n",
      "Step 18300, training accuracy 1.000000\n",
      "Step 18400, training accuracy 1.000000\n",
      "Step 18500, training accuracy 1.000000\n",
      "Step 18600, training accuracy 1.000000\n",
      "Step 18700, training accuracy 1.000000\n",
      "Step 18800, training accuracy 1.000000\n",
      "Step 18900, training accuracy 1.000000\n",
      "Step 19000, training accuracy 1.000000\n",
      "Step 19100, training accuracy 1.000000\n",
      "Step 19200, training accuracy 1.000000\n",
      "Step 19300, training accuracy 1.000000\n",
      "Step 19400, training accuracy 1.000000\n",
      "Step 19500, training accuracy 1.000000\n",
      "Step 19600, training accuracy 1.000000\n",
      "Step 19700, training accuracy 1.000000\n",
      "Step 19800, training accuracy 1.000000\n",
      "Step 19900, training accuracy 0.980000\n",
      "Step 20000, training accuracy 1.000000\n",
      "Train Time Cost:  205.04848637568546\n",
      "Testing...\n",
      "Test accuracy 0.992300\n"
     ]
    }
   ],
   "source": [
    "cross_entropy = -tf.reduce_sum(y_*tf.log(y_conv))\n",
    "train_step = tf.train.AdamOptimizer(1e-4).minimize(cross_entropy) # 优化器只是按照规则（参数更新算法）来更新参数的\n",
    "correct_prediction = tf.equal(tf.argmax(y_conv, 1), tf.argmax(y_, 1))\n",
    "accuracy = tf.reduce_mean(tf.cast(correct_prediction, \"float\")) # acc rate\n",
    "\n",
    "sess = tf.InteractiveSession()\n",
    "sess.run(tf.global_variables_initializer())\n",
    "\n",
    "print('Training...')\n",
    "start_t = time.clock()\n",
    "for step in range(20001):\n",
    "    batch = mnist.train.next_batch(50)\n",
    "    if step%100==0:\n",
    "        train_accuracy = accuracy.eval(feed_dict={x:batch[0], y_:batch[1], keep_prob:1.0})\n",
    "        print(\"Step %d, training accuracy %f\"%(step, train_accuracy))\n",
    "    train_step.run(feed_dict={x:batch[0], y_:batch[1], keep_prob:0.5})\n",
    "end_t = time.clock()\n",
    "print(\"Train Time Cost: \", end_t-start_t)\n",
    "\n",
    "print('Testing...')\n",
    "print(\"Test accuracy %f\"%accuracy.eval(feed_dict={x:mnist.test.images,\n",
    "                                                 y_:mnist.test.labels,\n",
    "                                                 keep_prob:1.0}))\n",
    "\n",
    "sess.close()"
   ]
  },
  {
   "cell_type": "markdown",
   "metadata": {},
   "source": [
    "### 总结\n",
    "\n",
    "本节对mnist数据集，使用TensorFlow构建了卷积池化API，并构建了两层卷积池化层，一层全连接层的神经网络，使用dropout来减少过拟合，最后输出到softmax回归层，从而构建了完整的卷积神经网络模型。优化器使用Adam，经过2万次迭代的训练，在测试集上精确度达到了(99%)."
   ]
  },
  {
   "cell_type": "code",
   "execution_count": null,
   "metadata": {},
   "outputs": [],
   "source": []
  }
 ],
 "metadata": {
  "kernelspec": {
   "display_name": "Python 3",
   "language": "python",
   "name": "python3"
  },
  "language_info": {
   "codemirror_mode": {
    "name": "ipython",
    "version": 3
   },
   "file_extension": ".py",
   "mimetype": "text/x-python",
   "name": "python",
   "nbconvert_exporter": "python",
   "pygments_lexer": "ipython3",
   "version": "3.6.5"
  }
 },
 "nbformat": 4,
 "nbformat_minor": 2
}
