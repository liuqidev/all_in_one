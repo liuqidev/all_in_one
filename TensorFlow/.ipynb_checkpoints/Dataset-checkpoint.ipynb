{
 "cells": [
  {
   "cell_type": "code",
   "execution_count": null,
   "metadata": {},
   "outputs": [],
   "source": []
  },
  {
   "cell_type": "code",
   "execution_count": 1,
   "metadata": {},
   "outputs": [],
   "source": [
    "import tensorflow as tf\n",
    "import numpy as np\n",
    "\n",
    "tf.set_random_seed(1)\n",
    "np.random.seed(1)"
   ]
  },
  {
   "cell_type": "code",
   "execution_count": 3,
   "metadata": {},
   "outputs": [],
   "source": [
    "import matplotlib.pyplot as plt"
   ]
  },
  {
   "cell_type": "code",
   "execution_count": 4,
   "metadata": {},
   "outputs": [
    {
     "data": {
      "image/png": "[encoded data removed]",
      "text/plain": [
       "<Figure size 432x288 with 1 Axes>"
      ]
     },
     "metadata": {},
     "output_type": "display_data"
    }
   ],
   "source": [
    "# load your data or create your data here\n",
    "n = 1000\n",
    "x = np.random.uniform(-1, 1, (n, 1)) # x data\n",
    "noise = np.random.normal(0, 0.1, size=x.shape) # guaiss noise\n",
    "y = np.power(x, 2)+noise\n",
    "\n",
    "plt.scatter(x, y)\n",
    "plt.show()"
   ]
  },
  {
   "cell_type": "code",
   "execution_count": 6,
   "metadata": {},
   "outputs": [],
   "source": [
    "# split it into training and test data\n",
    "rate = 0.8\n",
    "x_train, x_test = np.split(x, [int(n*rate)]) # training data and test data\n",
    "y_train, y_test = np.split(y, [int(n*rate)])    "
   ]
  },
  {
   "cell_type": "code",
   "execution_count": 10,
   "metadata": {},
   "outputs": [
    {
     "name": "stdout",
     "output_type": "stream",
     "text": [
      "step: 0/200 |train loss: 0.36154342 |test loss: 0.24383537\n",
      "step: 10/200 |train loss: 0.082745396 |test loss: 0.09697291\n",
      "step: 20/200 |train loss: 0.07174195 |test loss: 0.08083072\n",
      "step: 30/200 |train loss: 0.05658952 |test loss: 0.06842027\n",
      "step: 40/200 |train loss: 0.072715506 |test loss: 0.059661597\n",
      "step: 50/200 |train loss: 0.05600878 |test loss: 0.05149953\n",
      "step: 60/200 |train loss: 0.03705479 |test loss: 0.045227956\n",
      "step: 70/200 |train loss: 0.018078538 |test loss: 0.039674476\n",
      "Finish the last epoch\n"
     ]
    }
   ],
   "source": [
    "with tf.Graph().as_default(), tf.Session() as sess:\n",
    "    tf_x = tf.placeholder(x_train.dtype, x_train.shape)\n",
    "    tf_y = tf.placeholder(y_train.dtype, y_train.shape)\n",
    "    \n",
    "    # create dataloader\n",
    "    dataset = tf.data.Dataset.from_tensor_slices((tf_x, tf_y))\n",
    "    # choose data randomly from the buffer\n",
    "    dataset = dataset.shuffle(buffer_size=n)\n",
    "    # batch size\n",
    "    dataset = dataset.batch(32)\n",
    "    # epoches\n",
    "    dataset = dataset.repeat(3)\n",
    "    # initilize iterator\n",
    "    iterator = dataset.make_initializable_iterator()\n",
    "    \n",
    "    # network\n",
    "    bx, by = iterator.get_next()\n",
    "    l1 = tf.layers.dense(bx, 10, tf.nn.relu)\n",
    "    out = tf.layers.dense(l1, y.shape[1])\n",
    "    # loss\n",
    "    loss = tf.losses.mean_squared_error(by, out)\n",
    "    # train\n",
    "    train = tf.train.GradientDescentOptimizer(0.1).minimize(loss)\n",
    "    \n",
    "    sess.run([iterator.initializer, tf.global_variables_initializer()], feed_dict={tf_x:x_train, tf_y:y_train})\n",
    "    \n",
    "    for step in range(201):\n",
    "        try:\n",
    "            _, trainl = sess.run([train, loss]) # train\n",
    "            if step % 10 == 0:\n",
    "                testl = sess.run(loss, {bx: x_test, by: y_test})  # test\n",
    "                print('step: %i/200'%step, '|train loss:', trainl, '|test loss:', testl)\n",
    "        except tf.errors.OutOfRangeError: # if training takes more than 3 epochs, training will be stopped\n",
    "            print('Finish the last epoch')\n",
    "            break"
   ]
  },
  {
   "cell_type": "markdown",
   "metadata": {},
   "source": [
    "关于`Dataset`更多信息，阅读[这里](https://github.com/tensorflow/tensorflow/blob/master/tensorflow/docs_src/programmers_guide/datasets.md)\n",
    "\n",
    "\n",
    "## 总结\n",
    "\n",
    "\n",
    "本节使用:\n",
    "- `np.split()`将数据集分成训练集和测试集数据\n",
    "- `dataset = tf.data.Dataset.from_tensor_slices((tf_x, tf_y))`: 从原始数据中创建数据集对象\n",
    "- `dataset = dataset.shuffle(buffer_size=n)`: 从创建的数据集中随机选取数据\n",
    "- `dataset = dataset.batch(32)`: 设置小批的大小（每次在这小批数据上运算更新参数）\n",
    "- `dataset = dataset.repeat(3)`: 设置迭代的轮数（把全部的数据跑多少遍）\n",
    "- `iterator = dataset.make_initializable_iterator()`:初始化迭代器，有了迭代器就可以对所有批进行迭代，一个批一个批取数据🤫\n",
    "- `sess.run(iterator.initializer)`: `run`"
   ]
  },
  {
   "cell_type": "code",
   "execution_count": null,
   "metadata": {},
   "outputs": [],
   "source": []
  }
 ],
 "metadata": {
  "kernelspec": {
   "display_name": "Python 3",
   "language": "python",
   "name": "python3"
  },
  "language_info": {
   "codemirror_mode": {
    "name": "ipython",
    "version": 3
   },
   "file_extension": ".py",
   "mimetype": "text/x-python",
   "name": "python",
   "nbconvert_exporter": "python",
   "pygments_lexer": "ipython3",
   "version": "3.6.4"
  }
 },
 "nbformat": 4,
 "nbformat_minor": 2
}
