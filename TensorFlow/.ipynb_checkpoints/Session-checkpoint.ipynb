{
 "cells": [
  {
   "cell_type": "markdown",
   "metadata": {},
   "source": [
    "### Hello World\n",
    "\n"
   ]
  },
  {
   "cell_type": "code",
   "execution_count": 1,
   "metadata": {},
   "outputs": [
    {
     "name": "stderr",
     "output_type": "stream",
     "text": [
      "D:\\Anaconda3\\Anaconda3_py36\\lib\\site-packages\\h5py\\__init__.py:36: FutureWarning: Conversion of the second argument of issubdtype from `float` to `np.floating` is deprecated. In future, it will be treated as `np.float64 == np.dtype(float).type`.\n",
      "  from ._conv import register_converters as _register_converters\n"
     ]
    },
    {
     "name": "stdout",
     "output_type": "stream",
     "text": [
      "b'Hello, world!'\n",
      "b'Hello, world!'\n"
     ]
    }
   ],
   "source": [
    "import tensorflow as tf\n",
    "\n",
    "node = tf.constant(\"Hello, world!\")\n",
    "\n",
    "# method 1\n",
    "sess = tf.Session()\n",
    "print(sess.run(node))\n",
    "sess.close\n",
    "\n",
    "# method 2\n",
    "with tf.Session() as tf:\n",
    "    print(sess.run(node))"
   ]
  },
  {
   "cell_type": "markdown",
   "metadata": {},
   "source": [
    "### 矩阵乘法\n",
    "\n",
    "理解Session会话，并使用TensorFlow来解决买菜问题（矩阵乘法）。素材来自[《如何让11岁表妹知道矩阵乘法的本质是什么？》](https://mp.weixin.qq.com/s?__biz=MjM5MDE3OTk2Ng==&mid=2657440935&idx=1&sn=5b968c80fb07df3005039ca1466cb0c5&chksm=bdd943b68aaecaa0420e1f3f9a576b1b0256ac7165a2fcf9b0c84080a5b0b53250418be594c8&mpshare=1&scene=1&srcid=0812pRYblN0eJVNurGxLbC4F#rd).\n",
    "\n",
    "\n",
    "假设买肉和菜，农贸市场一斤肉25元，一斤菜3元。\n",
    "第一天我去农贸买了1斤肉，3斤菜，问计算用了多少钱：答：$25*1+3*3=34$。表示成向量乘法：\n",
    "$$\n",
    "\\begin{bmatrix}\n",
    " 25&3 \\\\\n",
    "\\end{bmatrix} \n",
    "\\times \n",
    "\\begin{bmatrix}\n",
    " 1 \\\\\n",
    " 3 \\\\\n",
    "\\end{bmatrix} \n",
    "= 34\n",
    "$$\n",
    "\n",
    "第二天，又去农贸市场买了2斤肉，1斤菜,则两天的花销可以表示为：\n",
    "$$\n",
    "\\begin{bmatrix}\n",
    " 25&3 \\\\\n",
    "\\end{bmatrix} \n",
    "\\times \n",
    "\\begin{bmatrix}\n",
    " 1&2 \\\\\n",
    " 3&1 \\\\\n",
    "\\end{bmatrix} \n",
    "= \n",
    "\\begin{bmatrix}\n",
    "34 & 53\n",
    "\\end{bmatrix}\n",
    "$$\n",
    "左边矩阵形状为1x2，行就表示`农贸市场`，两列分别表示`肉的单价和菜的单价`.右边矩阵，第一列表示第一天，第二列表示第二天，依次类推。第一行表示买的肉的数量，第二行表示买的菜的数量。两者进行矩阵相乘，得到的就是农贸市场，第n天，买肉和菜的总和。\n",
    "\n",
    "听说王大妈哪里肉一斤20，菜一斤2元，假如这两天在王大妈哪里买菜，表示成矩阵：\n",
    "$$\n",
    "\\begin{bmatrix}\n",
    "25&3\\\\\n",
    "20&2\\\\\n",
    "\\end{bmatrix}\n",
    "\\begin{bmatrix}\n",
    "1&2\\\\\n",
    "3&1\\\\\n",
    "\\end{bmatrix}\n",
    "=\n",
    "\\begin{bmatrix}\n",
    "34&53\\\\\n",
    "26&42\\\\\n",
    "\\end{bmatrix}\n",
    "$$\n",
    "![](https://mmbiz.qpic.cn/mmbiz_png/pojyAtdhQhNM8WaSdOWGtLciaHKXKs4DrOkXwemKzA7p3AuHKhht3em8mV0hXDyNQeBU6geAQIGoFa3WX0ThoZg/640?wx_fmt=png&tp=webp&wxfrom=5&wx_lazy=1)"
   ]
  },
  {
   "cell_type": "code",
   "execution_count": 2,
   "metadata": {},
   "outputs": [
    {
     "name": "stdout",
     "output_type": "stream",
     "text": [
      "[[34 53]\n",
      " [26 42]]\n",
      "[[34 53]\n",
      " [26 42]]\n"
     ]
    }
   ],
   "source": [
    "import tensorflow as tf\n",
    "import numpy as np\n",
    "# 创建计算图\n",
    "\n",
    "mat1 = tf.constant(np.array([[25, 3], [20, 2]]))\n",
    "mat2 = tf.constant(np.array([[1, 2], [3, 1]]))\n",
    "product = tf.matmul(mat1, mat2)\n",
    "\n",
    "# 创建会话和运行\n",
    "# method 1\n",
    "sess = tf.Session()\n",
    "money = sess.run(product)\n",
    "print(money)\n",
    "sess.close()\n",
    "\n",
    "# method 2\n",
    "with tf.Session() as sess:\n",
    "    money = sess.run(product)\n",
    "    print(money)"
   ]
  },
  {
   "cell_type": "code",
   "execution_count": null,
   "metadata": {},
   "outputs": [],
   "source": []
  }
 ],
 "metadata": {
  "kernelspec": {
   "display_name": "Python 3",
   "language": "python",
   "name": "python3"
  },
  "language_info": {
   "codemirror_mode": {
    "name": "ipython",
    "version": 3
   },
   "file_extension": ".py",
   "mimetype": "text/x-python",
   "name": "python",
   "nbconvert_exporter": "python",
   "pygments_lexer": "ipython3",
   "version": "3.6.4"
  }
 },
 "nbformat": 4,
 "nbformat_minor": 2
}
