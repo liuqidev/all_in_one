{
 "cells": [
  {
   "cell_type": "markdown",
   "metadata": {},
   "source": [
    "## 张量形状\n",
    "\n",
    "形状shape，用来描述张量的大小和数量。张量的形状表示为列表的形式，其中第i个元素表示维度i的大小，列表的长度标书张量的阶（维数）。\n",
    "\n",
    "| 阶   | 形状               | 维数 | 示例                               |\n",
    "| ---- | ------------------ | ---- | ---------------------------------- |\n",
    "| 0    | []                 | 0-D  | 0 维张量。标量。                   |\n",
    "| 1    | [D0]               | 1-D  | 形状为 [6] 的 1 维张量。           |\n",
    "| 2    | [D0, D1]           | 2-D  | 形状为 [4, 3] 的 2 维张量。        |\n",
    "| 3    | [D0, D1, D2]       | 3-D  | 形状为 [1, 2, 3] 的 3 维张量。     |\n",
    "| n    | [D0, D1, ... Dn-1] | n 维 | 形状为 [D0, D1, ... Dn-1] 的张量。 |\n",
    "\n",
    "[文档](https://www.tensorflow.org/programmers_guide/tensors#shape)中介绍得更详细。"
   ]
  },
  {
   "cell_type": "code",
   "execution_count": 1,
   "metadata": {},
   "outputs": [
    {
     "name": "stderr",
     "output_type": "stream",
     "text": [
      "D:\\Anaconda3\\Anaconda3_py36\\lib\\site-packages\\h5py\\__init__.py:36: FutureWarning: Conversion of the second argument of issubdtype from `float` to `np.floating` is deprecated. In future, it will be treated as `np.float64 == np.dtype(float).type`.\n",
      "  from ._conv import register_converters as _register_converters\n"
     ]
    },
    {
     "name": "stdout",
     "output_type": "stream",
     "text": [
      "Scalar shape:  ()  value:  1.0\n",
      "Vector shape:  (6,)  value:  [1. 1. 1. 1. 1. 1.]\n",
      "Matrix shape:  (2, 3)  value:  [[1. 1. 1.]\n",
      " [1. 1. 1.]]\n"
     ]
    }
   ],
   "source": [
    "# show the shape of tensor\n",
    "import tensorflow as tf\n",
    "\n",
    "g = tf.Graph()\n",
    "\n",
    "with g.as_default():\n",
    "    scalar = tf.ones([]) # a scalar / 0-D tensor :1\n",
    "    vector = tf.ones([6]) # a vector with 6 elements: [1,1,1 ,1,1,1]\n",
    "    matrix = tf.ones([2, 3]) # a matrix with 2 rows and 3 columns\n",
    "    \n",
    "    with tf.Session() as sess:\n",
    "        # use tf.get_shape() \n",
    "        print(\"Scalar shape: \",scalar.get_shape(), \" value: \", sess.run(scalar))\n",
    "        print(\"Vector shape: \",vector.get_shape(), \" value: \", sess.run(vector))\n",
    "        print(\"Matrix shape: \",matrix.get_shape(), \" value: \", sess.run(matrix))"
   ]
  },
  {
   "cell_type": "markdown",
   "metadata": {},
   "source": [
    "### 获取张量形状\n",
    "\n",
    "可以通过查看张量对象的`shape`属性来获取。"
   ]
  },
  {
   "cell_type": "code",
   "execution_count": 2,
   "metadata": {},
   "outputs": [
    {
     "data": {
      "text/plain": [
       "TensorShape([Dimension(6)])"
      ]
     },
     "execution_count": 2,
     "metadata": {},
     "output_type": "execute_result"
    }
   ],
   "source": [
    "vector.shape"
   ]
  },
  {
   "cell_type": "code",
   "execution_count": 3,
   "metadata": {},
   "outputs": [
    {
     "data": {
      "text/plain": [
       "Dimension(3)"
      ]
     },
     "execution_count": 3,
     "metadata": {},
     "output_type": "execute_result"
    }
   ],
   "source": [
    "matrix.shape[1]"
   ]
  },
  {
   "cell_type": "markdown",
   "metadata": {},
   "source": [
    "### 获取张量的数据类型\n",
    "\n",
    "查看张量对象的`dtype`属性。"
   ]
  },
  {
   "cell_type": "code",
   "execution_count": 4,
   "metadata": {},
   "outputs": [
    {
     "data": {
      "text/plain": [
       "tf.float32"
      ]
     },
     "execution_count": 4,
     "metadata": {},
     "output_type": "execute_result"
    }
   ],
   "source": [
    "matrix.dtype"
   ]
  },
  {
   "cell_type": "markdown",
   "metadata": {},
   "source": [
    "### 改变张量数据类型\n",
    "`tf.cast`"
   ]
  },
  {
   "cell_type": "code",
   "execution_count": 5,
   "metadata": {},
   "outputs": [
    {
     "name": "stdout",
     "output_type": "stream",
     "text": [
      "<dtype: 'int32'>\n",
      "<dtype: 'float32'>\n"
     ]
    }
   ],
   "source": [
    "c = tf.constant([1,9,8,3])\n",
    "print(c.dtype)\n",
    "f = tf.cast(c, dtype=tf.float32)\n",
    "print(f.dtype)"
   ]
  },
  {
   "cell_type": "markdown",
   "metadata": {},
   "source": [
    "### 获取张量的阶\n",
    "\n",
    "`tf.rank()`"
   ]
  },
  {
   "cell_type": "code",
   "execution_count": 6,
   "metadata": {},
   "outputs": [
    {
     "data": {
      "text/plain": [
       "<tf.Tensor 'Rank:0' shape=() dtype=int32>"
      ]
     },
     "execution_count": 6,
     "metadata": {},
     "output_type": "execute_result"
    }
   ],
   "source": [
    "tf.rank(scalar)"
   ]
  },
  {
   "cell_type": "markdown",
   "metadata": {},
   "source": [
    "### 张量切片\n",
    "\n",
    "对于n阶张量，要访问其中某一元素，需要制定n个索引。\n",
    "\n",
    "`:`是Python切片语法，也意味着**不要变更该维度**。可以帮助访问张量的子向量，子矩阵和子张量。"
   ]
  },
  {
   "cell_type": "markdown",
   "metadata": {},
   "source": [
    "## Broadcasting | 广播\n",
    "\n",
    "tensorflow支持广播，借鉴了Numpy中的做法，[Numpy Broadcasting](https://docs.scipy.org/doc/numpy-1.10.1/user/basics.broadcasting.html).\n",
    "\n",
    "数学中，相同形状的张量才能进行元素级的运算，例如相加和等于。由于广播，使得不同形状的张量运算可以像对标量进行运算一样。\n",
    "\n",
    "当张量被广播时，相当于对张量进行复制，实际上并不复制，广播专门为实现性能优化而设计。\n",
    "\n",
    "举例，假设你和四个小伙伴，年龄分别为[18, 17, 20, 22, 21],每年年龄+1,模拟这个过程"
   ]
  },
  {
   "cell_type": "code",
   "execution_count": 7,
   "metadata": {},
   "outputs": [
    {
     "name": "stdout",
     "output_type": "stream",
     "text": [
      "[19 18 21 23 22]\n",
      "[19 18 21 23 22]\n"
     ]
    }
   ],
   "source": [
    "# 向量加法\n",
    "with tf.Graph().as_default():\n",
    "    # method 1\n",
    "    ages = tf.constant([18, 17, 20, 22, 21])\n",
    "    one = tf.constant([1, 1, 1, 1, 1])\n",
    "    new_ages = tf.add(ages, one)\n",
    "    \n",
    "    with tf.Session() as sess:\n",
    "        print(new_ages.eval())\n",
    "        \n",
    "    # method 2\n",
    "    one_ = tf.constant(1)\n",
    "    new_ages_ = tf.add(ages, one_)\n",
    "    \n",
    "    with tf.Session() as sess:\n",
    "        print(new_ages_.eval())\n"
   ]
  },
  {
   "cell_type": "markdown",
   "metadata": {},
   "source": [
    "### 张量变形\n",
    "\n",
    "可以使用`tf.reshape()`来改变张量的形状。"
   ]
  },
  {
   "cell_type": "code",
   "execution_count": 8,
   "metadata": {},
   "outputs": [
    {
     "name": "stdout",
     "output_type": "stream",
     "text": [
      "Original matrix (3x4):\n",
      "[[ 9 10 11 12]\n",
      " [ 1  2  3  4]\n",
      " [ 5  6  7  8]]\n",
      "Reshaped matrix (4x3)\n",
      "[[ 9 10 11]\n",
      " [12  1  2]\n",
      " [ 3  4  5]\n",
      " [ 6  7  8]]\n",
      "Reshaped matrix (2x6)\n",
      "[[ 9 10 11 12  1  2]\n",
      " [ 3  4  5  6  7  8]]\n",
      "Reshaped matrix (3x2x2)\n",
      "[[[ 9 10]\n",
      "  [11 12]]\n",
      "\n",
      " [[ 1  2]\n",
      "  [ 3  4]]\n",
      "\n",
      " [[ 5  6]\n",
      "  [ 7  8]]]\n"
     ]
    }
   ],
   "source": [
    "import numpy as np \n",
    "\n",
    "arr = np.arange(1, 13).reshape(3, 4)\n",
    "np.random.shuffle(arr)\n",
    "\n",
    "with tf.Graph().as_default():\n",
    "    x = tf.constant(arr, dtype=tf.int32) # create a 3x4 matrix/ 2-D tensor\n",
    "    reshaped_4x3_x = tf.reshape(x, [4, 3])\n",
    "    reshaped_2x6_x = tf.reshape(x, [2, 6])\n",
    "    reshaped_3x2x2_x = tf.reshape(x, [3, 2, 2]) # reshape the rank \n",
    "    \n",
    "    with tf.Session() as sess:\n",
    "        print(\"Original matrix (3x4):\")\n",
    "        print(x.eval())\n",
    "        \n",
    "        print(\"Reshaped matrix (4x3)\")\n",
    "        print(reshaped_4x3_x.eval())\n",
    "        \n",
    "        print(\"Reshaped matrix (2x6)\")\n",
    "        print(reshaped_2x6_x.eval())\n",
    "        \n",
    "        print(\"Reshaped matrix (3x2x2)\")\n",
    "        print(reshaped_3x2x2_x.eval())"
   ]
  },
  {
   "cell_type": "markdown",
   "metadata": {},
   "source": [
    "## 变量、初始化和赋值\n",
    "\n",
    "TensorFlow变量初始化不是自动进行的，调用`tf.global_variables_initializer()`。不初始化就会报错。"
   ]
  },
  {
   "cell_type": "code",
   "execution_count": 9,
   "metadata": {},
   "outputs": [
    {
     "name": "stdout",
     "output_type": "stream",
     "text": [
      "Caught excepted error:  Attempting to use uninitialized value Variable\n",
      "\t [[Node: _retval_Variable_0_0 = _Retval[T=DT_INT32, index=0, _device=\"/job:localhost/replica:0/task:0/device:CPU:0\"](Variable)]]\n"
     ]
    }
   ],
   "source": [
    "with tf.Graph().as_default():\n",
    "    v = tf.Variable([3])\n",
    "    with tf.Session() as sess:\n",
    "        try:\n",
    "            sess.run(v)\n",
    "        except tf.errors.FailedPreconditionError as e:\n",
    "            print(\"Caught excepted error: \", e)"
   ]
  },
  {
   "cell_type": "code",
   "execution_count": 10,
   "metadata": {},
   "outputs": [
    {
     "name": "stdout",
     "output_type": "stream",
     "text": [
      "[3]\n"
     ]
    }
   ],
   "source": [
    "with tf.Graph().as_default():\n",
    "    v = tf.Variable([3])\n",
    "    with tf.Session() as sess:\n",
    "        init = tf.global_variables_initializer()\n",
    "        sess.run(init)\n",
    "        try:\n",
    "            print(sess.run(v))\n",
    "        except tf.errors.FailedPreconditionError as e:\n",
    "            print(\"Caught excepted error: \", e)"
   ]
  },
  {
   "cell_type": "markdown",
   "metadata": {},
   "source": [
    "### assign\n",
    "\n",
    "要变更变量的值，使用`tf.assign()`指令，仅仅创建assign指令也不能起作用。和初始化一样，也需要运行赋值指令才能变更变量值。"
   ]
  },
  {
   "cell_type": "code",
   "execution_count": 11,
   "metadata": {},
   "outputs": [
    {
     "name": "stdout",
     "output_type": "stream",
     "text": [
      "[3]\n",
      "[9]\n"
     ]
    }
   ],
   "source": [
    "with tf.Graph().as_default():\n",
    "    v = tf.Variable([3])\n",
    "    with tf.Session() as sess:\n",
    "        init = tf.global_variables_initializer()\n",
    "        sess.run(init)\n",
    "        assignment = tf.assign(v, [9])\n",
    "        print(v.eval()) # the variable has not been changed yet.\n",
    "        sess.run(assignment)\n",
    "        print(v.eval()) # now the variable is updated"
   ]
  },
  {
   "cell_type": "markdown",
   "metadata": {},
   "source": [
    "### 评估张量\n",
    "\n",
    "`eval()`。\n",
    "方法仅在默认 tf.Session 处于活动状态时才起作用。`Tensor.eval()`会返回一个和张量内容相同的Numpy数组。\n",
    "\n",
    "仅仅只有占位符的情况下无法进行评估。"
   ]
  },
  {
   "cell_type": "code",
   "execution_count": 13,
   "metadata": {},
   "outputs": [
    {
     "name": "stdout",
     "output_type": "stream",
     "text": [
      "24.3\n"
     ]
    }
   ],
   "source": [
    "with tf.Graph().as_default():\n",
    "    p = tf.placeholder(tf.float32)\n",
    "    t = p+1.0\n",
    "    with tf.Session() as sess:\n",
    "        # t.eval() # this will fail, since the placeholder did not give a value\n",
    "        print(t.eval(feed_dict={p:23.3}) )# this will success, because a value is fed to the placeholder\n"
   ]
  },
  {
   "cell_type": "markdown",
   "metadata": {},
   "source": [
    "## 举例：模拟投掷两个骰子10次\n",
    "\n",
    "素材来自[这里](https://colab.research.google.com/notebooks/mlcc/creating_and_manipulating_tensors.ipynb?hl=zh-cn#scrollTo=iFIOcnfz_Oqw).\n",
    "\n",
    "模拟[《活着》](https://book.douban.com/subject/1082154/)中富贵儿赌钱投骰子（6个面，点数从1到6）的过程，在模拟中生成一个 `10x4` 二维张量，其中：\n",
    "\n",
    "  * 列 `1` 和 `2` 均存储一个骰子的一次投掷值。\n",
    "  * 列 `3` 存储同一行中列 `1` 和 `2` 的值的总和。\n",
    "  * 列 `4` 表示开大开小，若列 `3` 点数大于7，开大（如用1表示）；小于等于7开小（如用0表示）。\n",
    "\n",
    "例如，第一行中可能会包含以下值：\n",
    "\n",
    "  * 列 `1` 存储 `4`\n",
    "  * 列 `2` 存储 `3`\n",
    "  * 列 `3` 存储 `7`\n",
    "  * 列 `4` 存储 `0`\n",
    "\n",
    "要完成此任务，可能需要浏览 [TensorFlow 文档](https://www.tensorflow.org/api_guides/python/array_ops)。\n",
    "\n",
    "**问题**：\n",
    "*如何随机并分配值给变量？（TensorFlow不支持动态计算图）*\n",
    "*如何赋值十次，循环？最后张量结果如何表示？*"
   ]
  },
  {
   "cell_type": "code",
   "execution_count": 28,
   "metadata": {},
   "outputs": [
    {
     "name": "stdout",
     "output_type": "stream",
     "text": [
      "[[ 4  4  8  1]\n",
      " [ 6  1  7  0]\n",
      " [ 5  6 11  1]\n",
      " [ 4  2  6  0]\n",
      " [ 4  1  5  0]\n",
      " [ 5  3  8  1]\n",
      " [ 6  2  8  1]\n",
      " [ 4  2  6  0]\n",
      " [ 4  6 10  1]\n",
      " [ 1  3  4  0]]\n"
     ]
    }
   ],
   "source": [
    "# import numpy as np\n",
    "import tensorflow as tf\n",
    "\n",
    "g = tf.Graph()\n",
    "with g.as_default():\n",
    "    # 使用随机均匀分布 tf.random_uniform 来模拟投掷 n 次, 不需要循环。\n",
    "    dice1 = tf.Variable(tf.random_uniform([10, 1],\n",
    "                                         minval=1,\n",
    "                                         maxval=7,\n",
    "                                         dtype=tf.int32))\n",
    "    \n",
    "    dice2 = tf.Variable(tf.random_uniform([10, 1],\n",
    "                                         minval=1, \n",
    "                                         maxval=7, \n",
    "                                         dtype=tf.int32))\n",
    "    \n",
    "    dice_sum = tf.add(dice1, dice2)\n",
    "    \n",
    "    seven = tf.constant(7)\n",
    "    # 关于TensorFlow条件控制\n",
    "    # https://www.tensorflow.org/versions/r1.8/api_guides/python/control_flow_ops#Control_Flow_Operations\n",
    "    comp = tf.cast(tf.greater(dice_sum, seven), tf.int32)\n",
    "    \n",
    "    # 使用 tf.concat 连接向量，axis=1 水平方向连接\n",
    "    result = tf.concat(values=[dice1, dice2, dice_sum, comp], axis=1)\n",
    "    \n",
    "    with tf.Session() as sess:\n",
    "        sess.run(tf.global_variables_initializer())\n",
    "        \n",
    "        print(result.eval())\n",
    "        "
   ]
  },
  {
   "cell_type": "code",
   "execution_count": null,
   "metadata": {},
   "outputs": [],
   "source": []
  }
 ],
 "metadata": {
  "kernelspec": {
   "display_name": "Python 3",
   "language": "python",
   "name": "python3"
  },
  "language_info": {
   "codemirror_mode": {
    "name": "ipython",
    "version": 3
   },
   "file_extension": ".py",
   "mimetype": "text/x-python",
   "name": "python",
   "nbconvert_exporter": "python",
   "pygments_lexer": "ipython3",
   "version": "3.6.4"
  }
 },
 "nbformat": 4,
 "nbformat_minor": 2
}
