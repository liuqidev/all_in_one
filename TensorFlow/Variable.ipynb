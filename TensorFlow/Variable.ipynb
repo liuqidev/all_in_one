{
 "cells": [
  {
   "cell_type": "markdown",
   "metadata": {},
   "source": [
    "### Variable\n",
    "\n",
    "***常量和张量都是图中的一种指令***，**常量是始终会返回同一张量值的指令**，**变量是会返回分配给它的任何张量的指令**。\n",
    "\n",
    "要定义常量，请使用 `tf.constant` 指令，并传入它的值。例如：\n",
    "\n",
    "```\n",
    "  x = tf.constant([2.5])\n",
    "```\n",
    "\n",
    "同样，您可以创建如下变量：\n",
    "\n",
    "```\n",
    "  y = tf.Variable([5.2])\n",
    "```\n",
    "\n",
    "或者，您也可以先创建变量，然后再如下所示地分配一个值（注意：您始终需要指定一个默认值）：\n",
    "\n",
    "```\n",
    "  y = tf.Variable([0])\n",
    "  y = y.assign([5])\n",
    "```"
   ]
  },
  {
   "cell_type": "markdown",
   "metadata": {},
   "source": [
    "[《庄子·天下》](https://www.gushiwen.org/GuShiWen_dd05a84e30.aspx)中说“一尺之棰，日取其半，万世不竭。”使用TensorFlow来模拟这个过程。\n"
   ]
  },
  {
   "cell_type": "code",
   "execution_count": 3,
   "metadata": {},
   "outputs": [],
   "source": [
    "import tensorflow as tf\n",
    "\n",
    "\n",
    "# 定义变量\n",
    "bar = tf.Variable(1.0, name=\"bar\")\n",
    "\n",
    "two = tf.constant(2.0) \n",
    "divided = tf.divide(bar, 2.0) # 定义取半操作，这一步并没有直接计算\n",
    "\n",
    "# 将bar更新为新的长度\n",
    "update = tf.assign(bar, divided)"
   ]
  },
  {
   "cell_type": "markdown",
   "metadata": {},
   "source": [
    "### 初始化变量\n",
    "\n",
    "`global_variables_initializer()`"
   ]
  },
  {
   "cell_type": "code",
   "execution_count": 4,
   "metadata": {},
   "outputs": [],
   "source": [
    "init = tf.global_variables_initializer() # z定义了变量就必须要初始化\n"
   ]
  },
  {
   "cell_type": "markdown",
   "metadata": {},
   "source": [
    "### 创建会话并运行\n"
   ]
  },
  {
   "cell_type": "code",
   "execution_count": 6,
   "metadata": {},
   "outputs": [
    {
     "name": "stdout",
     "output_type": "stream",
     "text": [
      "day 0 len:  0.5\n",
      "day 1 len:  0.25\n",
      "day 2 len:  0.125\n",
      "day 3 len:  0.0625\n",
      "day 4 len:  0.03125\n",
      "day 5 len:  0.015625\n",
      "day 6 len:  0.0078125\n",
      "day 7 len:  0.00390625\n",
      "day 8 len:  0.001953125\n",
      "day 9 len:  0.0009765625\n"
     ]
    }
   ],
   "source": [
    "with tf.Session() as sess:\n",
    "    sess.run(init)\n",
    "    for i in range(10):\n",
    "        sess.run(update)\n",
    "        print('day %d len: '%i, sess.run(bar))"
   ]
  },
  {
   "cell_type": "markdown",
   "metadata": {},
   "source": [
    "### 总结\n",
    "\n",
    "Variable就是变量，和变量相对的就是常量，常量就是不变的量，那么变量就是会变化的量。在TensorFlow中使用`tf.Variable()`来定义变量。定义了变量就必须要进行变量初始化，初始化使用`tf.global_variables_initializer()`~~tf.initialize_all_variables()~~.变量在运行时也需依靠定义会话Session来run才行。"
   ]
  },
  {
   "cell_type": "code",
   "execution_count": 18,
   "metadata": {},
   "outputs": [
    {
     "name": "stdout",
     "output_type": "stream",
     "text": [
      "5050\n"
     ]
    }
   ],
   "source": [
    "# 高斯的故事之高斯求和TensorFlow实现\n",
    "s = tf.Variable(0, name=\"sum\")\n",
    "number = tf.Variable(0, name=\"number\")\n",
    "one = tf.constant(1)\n",
    "\n",
    "new_number = tf.assign(number, tf.add(number, one))\n",
    "update = tf.assign(s, tf.add(s, new_number))\n",
    "\n",
    "init = tf.global_variables_initializer()\n",
    "\n",
    "sess = tf.Session()\n",
    "sess.run(init)\n",
    "for i in range(1, 101):\n",
    "    sess.run(update)\n",
    "print(sess.run(s))\n",
    "\n",
    "sess.close()"
   ]
  },
  {
   "cell_type": "code",
   "execution_count": null,
   "metadata": {},
   "outputs": [],
   "source": []
  }
 ],
 "metadata": {
  "kernelspec": {
   "display_name": "Python 3",
   "language": "python",
   "name": "python3"
  },
  "language_info": {
   "codemirror_mode": {
    "name": "ipython",
    "version": 3
   },
   "file_extension": ".py",
   "mimetype": "text/x-python",
   "name": "python",
   "nbconvert_exporter": "python",
   "pygments_lexer": "ipython3",
   "version": "3.6.4"
  }
 },
 "nbformat": 4,
 "nbformat_minor": 2
}
