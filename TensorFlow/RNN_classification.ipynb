{
 "cells": [
  {
   "cell_type": "code",
   "execution_count": 1,
   "metadata": {},
   "outputs": [],
   "source": [
    "import tensorflow as tf\n",
    "import numpy as np\n",
    "import matplotlib.pyplot as plt\n",
    "from tensorflow.examples.tutorials.mnist import input_data\n",
    "\n",
    "tf.set_random_seed(1)\n",
    "np.random.seed(1)"
   ]
  },
  {
   "cell_type": "code",
   "execution_count": 2,
   "metadata": {},
   "outputs": [],
   "source": [
    "# Hyper Parameters\n",
    "BATCH_SIZE = 64 \n",
    "TIME_STEP = 28 # rnn time step == image height\n",
    "INPUT_SIZE = 28 # rnn input size == image width\n",
    "LR = 0.01 # Learning rate"
   ]
  },
  {
   "cell_type": "code",
   "execution_count": 9,
   "metadata": {},
   "outputs": [
    {
     "name": "stdout",
     "output_type": "stream",
     "text": [
      "Extracting MNIST_data\\train-images-idx3-ubyte.gz\n",
      "Extracting MNIST_data\\train-labels-idx1-ubyte.gz\n",
      "Extracting MNIST_data\\t10k-images-idx3-ubyte.gz\n",
      "Extracting MNIST_data\\t10k-labels-idx1-ubyte.gz\n",
      "Train images: (55000, 784)\n",
      "Train labels: (55000, 10)\n"
     ]
    }
   ],
   "source": [
    "# Load data \n",
    "mnist = input_data.read_data_sets('MNIST_data', one_hot=True) # they have been normalized to range(0, 1)\n",
    "test_x = mnist.test.images[:2000]\n",
    "test_y = mnist.test.labels[:2000]\n",
    "\n",
    "print('Train images:', mnist.train.images.shape)\n",
    "print('Train labels:', mnist.train.labels.shape)\n"
   ]
  },
  {
   "cell_type": "code",
   "execution_count": 18,
   "metadata": {},
   "outputs": [
    {
     "data": {
      "image/png": "[encoded data removed]",
      "text/plain": [
       "<Figure size 432x288 with 1 Axes>"
      ]
     },
     "metadata": {},
     "output_type": "display_data"
    }
   ],
   "source": [
    "# take a look\n",
    "tmp_idx = np.random.randint(0, 2000, 1)\n",
    "tmp_img = mnist.train.images[tmp_idx]\n",
    "plt.imshow(tmp_img.reshape((28, 28)), cmap='gray')\n",
    "plt.title('%i'%np.argmax(mnist.train.labels[tmp_idx]))\n",
    "plt.show()"
   ]
  },
  {
   "cell_type": "code",
   "execution_count": 21,
   "metadata": {},
   "outputs": [
    {
     "name": "stdout",
     "output_type": "stream",
     "text": [
      "Train loss: 2.2971 |test accuracy: 0.39\n",
      "Train loss: 0.6014 |test accuracy: 0.59\n",
      "Train loss: 0.3653 |test accuracy: 0.69\n",
      "Train loss: 0.3332 |test accuracy: 0.74\n",
      "Train loss: 0.3517 |test accuracy: 0.77\n",
      "Train loss: 0.3857 |test accuracy: 0.80\n",
      "Train loss: 0.3124 |test accuracy: 0.81\n",
      "Train loss: 0.1780 |test accuracy: 0.83\n",
      "Train loss: 0.1646 |test accuracy: 0.85\n",
      "Train loss: 0.1150 |test accuracy: 0.86\n",
      "Train loss: 0.1067 |test accuracy: 0.87\n",
      "Train loss: 0.2188 |test accuracy: 0.88\n",
      "Train loss: 0.1527 |test accuracy: 0.88\n",
      "Train loss: 0.2048 |test accuracy: 0.89\n",
      "Train loss: 0.1580 |test accuracy: 0.89\n",
      "Train loss: 0.1725 |test accuracy: 0.90\n",
      "Train loss: 0.0243 |test accuracy: 0.90\n",
      "Train loss: 0.1191 |test accuracy: 0.91\n",
      "Train loss: 0.2360 |test accuracy: 0.91\n",
      "Train loss: 0.1566 |test accuracy: 0.91\n",
      "Train loss: 0.1013 |test accuracy: 0.92\n",
      "Train loss: 0.0982 |test accuracy: 0.92\n",
      "Train loss: 0.1491 |test accuracy: 0.92\n",
      "Train loss: 0.1095 |test accuracy: 0.92\n",
      "[7 2 1 0 4 1 4 9 6 9] prediction number\n",
      "[7 2 1 0 4 1 4 9 5 9] real number\n"
     ]
    }
   ],
   "source": [
    "with tf.Graph().as_default(), tf.Session() as sess:\n",
    "    # train dataset\n",
    "    tf_x = tf.placeholder(tf.float32, [None, TIME_STEP*INPUT_SIZE]) # shape(batch, 784)\n",
    "    image = tf.reshape(tf_x, [-1, TIME_STEP, INPUT_SIZE]) # (batch, height, width)\n",
    "    tf_y = tf.placeholder(tf.int32, [None, 10]) # input y\n",
    "    # rnn \n",
    "    rnn_cell = tf.contrib.rnn.BasicLSTMCell(num_units=64)\n",
    "    outputs, (h_c, h_n) = tf.nn.dynamic_rnn(\n",
    "        rnn_cell, # cell\n",
    "        image,  # input\n",
    "        initial_state=None, # the initial hidden state\n",
    "        dtype=tf.float32, # must given if set initial_state =None\n",
    "        time_major=False, # False: (batch, time_step, input); True:(time_step, batch, input)\n",
    "    )\n",
    "    output = tf.layers.dense(outputs[:, -1, :], 10) # output based on the last output step\n",
    "    \n",
    "    loss = tf.losses.softmax_cross_entropy(onehot_labels=tf_y, logits=output) # compute cost\n",
    "    train_op = tf.train.AdamOptimizer(LR).minimize(loss)\n",
    "    \n",
    "    accuracy = tf.metrics.accuracy(\n",
    "        labels=tf.argmax(tf_y, axis=1), predictions=tf.argmax(output, axis=1),\n",
    "    )[1]\n",
    "    \n",
    "    init_op = tf.group(tf.global_variables_initializer(), tf.local_variables_initializer()) \n",
    "    sess.run(init_op)\n",
    "    \n",
    "    for step in range(1200): #trainning\n",
    "        b_x, b_y = mnist.train.next_batch(BATCH_SIZE)\n",
    "        _, loss_ = sess.run([train_op, loss], {tf_x:b_x, tf_y:b_y})\n",
    "        if step % 50==0:\n",
    "            accuracy_ = sess.run(accuracy, {tf_x:b_x, tf_y:b_y})\n",
    "            print('Train loss: %.4f'%loss_, '|test accuracy: %.2f'%accuracy_)\n",
    "    # print 10 predictions from test data\n",
    "    test_output = sess.run(output, {tf_x:test_x[:10]})\n",
    "    pred_y = np.argmax(test_output, 1)\n",
    "    print(pred_y, 'prediction number')\n",
    "    print(np.argmax(test_y[:10], 1), 'real number')"
   ]
  },
  {
   "cell_type": "code",
   "execution_count": null,
   "metadata": {},
   "outputs": [],
   "source": []
  }
 ],
 "metadata": {
  "kernelspec": {
   "display_name": "Python 3",
   "language": "python",
   "name": "python3"
  },
  "language_info": {
   "codemirror_mode": {
    "name": "ipython",
    "version": 3
   },
   "file_extension": ".py",
   "mimetype": "text/x-python",
   "name": "python",
   "nbconvert_exporter": "python",
   "pygments_lexer": "ipython3",
   "version": "3.6.4"
  }
 },
 "nbformat": 4,
 "nbformat_minor": 2
}
