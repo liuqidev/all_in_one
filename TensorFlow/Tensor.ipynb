{
 "cells": [
  {
   "cell_type": "markdown",
   "metadata": {},
   "source": [
    "## Tensor\n",
    "\n",
    "TensorFlow中的Tensor就是张量，张量是任意维的数组。常用的张量有：\n",
    "\n",
    "- **constant（标量/常量）**：零维数组，零阶张量。例如，0或一个字符串常量。\n",
    "- **vector（向量/矢量）**：一维数组，一阶张量。例如，[0]或[0, 1, 1, 2, 3, 5].\n",
    "- **matrix（矩阵）**:二维数组，二阶张量。例如，[[4, 9, 2], [3, 5, 7], [8, 1, 6]]\n",
    "\n",
    "在TensorFlow中，张量的创建、销毁和控制由**指令**完成。典型的TensorFlow代码大多数都是指令。"
   ]
  },
  {
   "cell_type": "markdown",
   "metadata": {},
   "source": [
    "## Graph\n",
    "\n",
    "TensorFlow中的图，也叫作计算图或数据流图（~~数据库原理和软件工程中的数据流图看似百无一用~~），是一种[数据结构](https://baike.baidu.com/item/%E6%95%B0%E6%8D%AE%E7%BB%93%E6%9E%84/1450)。\n",
    "\n",
    "TensorFlow程序可以选择创建一张或者多张图。\n",
    "\n",
    "***图的节点是指令；图的边是张量。***（张量就像是在图中的流动，所以称为Tensor Flow）.\n",
    "\n",
    "张量流经图，在每个节点由一个指令控制。**一个指令的输出张量通常会变成后续指令的输入张量**。\n",
    "\n",
    "TensorFlow实现**延迟执行模型**，系统仅会根据相关节点的需求在需要时计算节点。\n",
    "\n",
    "***常量和张量都是图中的一种指令***，**常量是始终会返回同一张量值的指令**，**变量是会返回分配给它的任何张量的指令**。\n",
    "\n",
    "***图必须要在TensorFlow会话Session中运行，会话存储了被会话运行的图的状态***.\n",
    "\n",
    "会话可以将图发布到多台设备上（假如程序在某个分布式计算框架上运行）。官方提供的[分布式TensorFlow文档](https://www.tensorflow.org/deploy/distributed).\n",
    "\n",
    " TensorFlow 提供了一个**默认图**。不过，我们建议您明确创建自己的 `Graph`，以便跟踪状态（例如，您可能希望在每个单元格中使用一个不同的 `Graph`）。\n",
    " \n",
    "### 举例，“海伦-秦九韶公式”三斜求积\n",
    "\n",
    "$$\n",
    "S = \\sqrt{p\\left( p-a\\right)\\left( p-b\\right)\\left( p-c\\right)}\n",
    "$$\n",
    "$$\n",
    "p=\\frac{a+b+c}{2}\n",
    "$$\n",
    "相关[API](https://www.tensorflow.org/api_docs/python/tf)."
   ]
  },
  {
   "cell_type": "code",
   "execution_count": 2,
   "metadata": {},
   "outputs": [
    {
     "name": "stdout",
     "output_type": "stream",
     "text": [
      "6.0\n"
     ]
    }
   ],
   "source": [
    "import tensorflow as tf\n",
    "\n",
    "# create a graph\n",
    "g = tf.Graph()\n",
    "\n",
    "# establish g as the \"default\" graph\n",
    "\n",
    "with g.as_default():\n",
    "    a = tf.constant(3.0, name=\"a\")\n",
    "    b = tf.constant(4.0, name=\"b\")\n",
    "    c = tf.constant(5.0, name=\"c\")\n",
    "    two = tf.constant(2.0)\n",
    "    \n",
    "    p = tf.divide(tf.add(a, tf.add(b, c)), two)\n",
    "    pa = tf.subtract(p, a)\n",
    "    pb = tf.subtract(p, b)\n",
    "    pc = tf.subtract(p, c)\n",
    "    \n",
    "    s = tf.sqrt(tf.multiply(tf.multiply(p, pa), tf.multiply(pb, pc)))\n",
    "    \n",
    "    with tf.Session() as sess:\n",
    "        print(s.eval())\n"
   ]
  },
  {
   "cell_type": "markdown",
   "metadata": {},
   "source": [
    " \n",
    "## 总结\n",
    "***TensorFlow编程本质是两个步骤：***\n",
    "1. 将常量、变量和指令整合到一个图中；\n",
    "2. 在一个会话中评估这些常量、变量和指令。"
   ]
  },
  {
   "cell_type": "code",
   "execution_count": null,
   "metadata": {},
   "outputs": [],
   "source": []
  }
 ],
 "metadata": {
  "kernelspec": {
   "display_name": "Python 3",
   "language": "python",
   "name": "python3"
  },
  "language_info": {
   "codemirror_mode": {
    "name": "ipython",
    "version": 3
   },
   "file_extension": ".py",
   "mimetype": "text/x-python",
   "name": "python",
   "nbconvert_exporter": "python",
   "pygments_lexer": "ipython3",
   "version": "3.6.4"
  }
 },
 "nbformat": 4,
 "nbformat_minor": 2
}
