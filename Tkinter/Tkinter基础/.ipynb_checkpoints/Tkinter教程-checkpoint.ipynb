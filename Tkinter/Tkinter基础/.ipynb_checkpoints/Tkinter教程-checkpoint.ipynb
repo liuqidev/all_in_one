{
 "cells": [
  {
   "cell_type": "code",
   "execution_count": 1,
   "metadata": {},
   "outputs": [],
   "source": [
    "# 导入\n",
    "import tkinter as tk"
   ]
  },
  {
   "cell_type": "code",
   "execution_count": 9,
   "metadata": {},
   "outputs": [],
   "source": [
    "win = tk.Tk()\n",
    "\n",
    "win.title(u'我的窗口')\n",
    "win.geometry('200x100')\n",
    "\n",
    "va = tk.StringVar()\n",
    "l = tk.Label(win, textvariable=va, bg='green', font=('Arial', 12), \n",
    "             width=15, height =2)\n",
    "l.pack()\n",
    "\n",
    "on_hit = False\n",
    "def hit_me():\n",
    "    global on_hit\n",
    "    if on_hit==False:\n",
    "        on_hit=True\n",
    "        va.set(u'你好,世界!')\n",
    "    else:\n",
    "        on_hit=False\n",
    "        va.set(u'')\n",
    "        \n",
    "b = tk.Button(win, text=u'点我', width=15, height=2,\n",
    "             command=hit_me)\n",
    "b.pack()\n",
    "\n",
    "win.mainloop()"
   ]
  },
  {
   "cell_type": "code",
   "execution_count": null,
   "metadata": {},
   "outputs": [],
   "source": []
  }
 ],
 "metadata": {
  "kernelspec": {
   "display_name": "Python 3",
   "language": "python",
   "name": "python3"
  },
  "language_info": {
   "codemirror_mode": {
    "name": "ipython",
    "version": 3
   },
   "file_extension": ".py",
   "mimetype": "text/x-python",
   "name": "python",
   "nbconvert_exporter": "python",
   "pygments_lexer": "ipython3",
   "version": "3.6.4"
  }
 },
 "nbformat": 4,
 "nbformat_minor": 2
}
