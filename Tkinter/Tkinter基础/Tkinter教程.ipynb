{
 "cells": [
  {
   "cell_type": "markdown",
   "metadata": {},
   "source": [
    "## 简单介绍 \n",
    "Tkinter 是使用 python 进行窗口视窗设计的模块. 简单的构造, 多平台, 多系统的兼容性, 能让它成为让你快速入门定制窗口文件的好助手. 它在 python 窗口视窗模块中是一款简单型的. 所以用来入门, 熟悉 窗口视窗的使用, 非常有必要.\n",
    "\n",
    "## 标记和按钮\n",
    "\n",
    "Label，Button\n",
    "\n",
    "### Hello World"
   ]
  },
  {
   "cell_type": "code",
   "execution_count": 1,
   "metadata": {},
   "outputs": [],
   "source": [
    "# 导入\n",
    "import tkinter as tk"
   ]
  },
  {
   "cell_type": "code",
   "execution_count": 10,
   "metadata": {},
   "outputs": [],
   "source": [
    "# 视窗\n",
    "win = tk.Tk()\n",
    "win.title(u'我的窗口')\n",
    "win.geometry('200x100')\n",
    "\n",
    "# 标记\n",
    "va = tk.StringVar()\n",
    "l = tk.Label(win, textvariable=va, bg='green', font=('Arial', 12), \n",
    "             width=15, height =2)\n",
    "l.pack()\n",
    "\n",
    "# 指令\n",
    "on_hit = False\n",
    "def hit_me():\n",
    "    global on_hit\n",
    "    if on_hit==False:\n",
    "        on_hit=True\n",
    "        va.set(u'你好,世界!')\n",
    "    else:\n",
    "        on_hit=False\n",
    "        va.set(u'')\n",
    "\n",
    "# 按钮\n",
    "b = tk.Button(win, text=u'点我', width=15, height=2,\n",
    "             command=hit_me)\n",
    "b.pack()\n",
    "\n",
    "win.mainloop()"
   ]
  },
  {
   "cell_type": "markdown",
   "metadata": {},
   "source": [
    "## 输入, 文本框\n",
    "Entry & Text \n"
   ]
  },
  {
   "cell_type": "code",
   "execution_count": 12,
   "metadata": {},
   "outputs": [],
   "source": [
    "# 视窗\n",
    "win = tk.Tk()\n",
    "win.title(u'我的窗口')\n",
    "win.geometry('200x200')\n",
    "\n",
    "# 输入\n",
    "e = tk.Entry(win, show=None) # show='*' 输入密码\n",
    "e.pack()\n",
    "\n",
    "tx = tk.Text(win, height=2)\n",
    "tx.pack()\n",
    "\n",
    "def insert():\n",
    "    inputt = e.get()\n",
    "    tx.insert('insert', inputt)\n",
    "    \n",
    "def insert_end():\n",
    "    inputt = e.get()\n",
    "    tx.insert('end', inputt)\n",
    "\n",
    "# 按钮\n",
    "b = tk.Button(win, text=u'浮动插入', width=15, height=2,\n",
    "             command=insert)\n",
    "b.pack()\n",
    "\n",
    "b2 = tk.Button(win, text=u'尾部插入', width=15, height=2,\n",
    "             command=insert_end)\n",
    "b2.pack()\n",
    "\n",
    "win.mainloop()"
   ]
  }
 ],
 "metadata": {
  "kernelspec": {
   "display_name": "Python 3",
   "language": "python",
   "name": "python3"
  },
  "language_info": {
   "codemirror_mode": {
    "name": "ipython",
    "version": 3
   },
   "file_extension": ".py",
   "mimetype": "text/x-python",
   "name": "python",
   "nbconvert_exporter": "python",
   "pygments_lexer": "ipython3",
   "version": "3.6.4"
  }
 },
 "nbformat": 4,
 "nbformat_minor": 2
}
