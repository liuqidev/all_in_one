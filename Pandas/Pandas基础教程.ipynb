{
 "cells": [
  {
   "cell_type": "markdown",
   "metadata": {},
   "source": [
    "## Pandas和Numpy的关系\n",
    "\n",
    "如果用 python 的列表和字典来作比较, 那么可以说 Numpy 是列表形式的，没有数值标签，而 Pandas 就是字典形式。Pandas是基于Numpy构建的，让Numpy为中心的应用变得更加简单。\n",
    "要使用pandas，首先需要了解他主要两个数据结构：Series和DataFrame。"
   ]
  },
  {
   "cell_type": "code",
   "execution_count": 1,
   "metadata": {
    "collapsed": true
   },
   "outputs": [],
   "source": [
    "import numpy as np\n",
    "import pandas as pd"
   ]
  },
  {
   "cell_type": "code",
   "execution_count": 2,
   "metadata": {},
   "outputs": [
    {
     "name": "stdout",
     "output_type": "stream",
     "text": [
      "0     1.0\n",
      "1     3.0\n",
      "2     NaN\n",
      "3    22.0\n",
      "4    33.0\n",
      "dtype: float64\n"
     ]
    }
   ],
   "source": [
    "s = pd.Series([1, 3, np.nan, 22, 33])\n",
    "print(s)"
   ]
  },
  {
   "cell_type": "markdown",
   "metadata": {},
   "source": [
    "### DataFrame"
   ]
  },
  {
   "cell_type": "code",
   "execution_count": 3,
   "metadata": {},
   "outputs": [
    {
     "name": "stdout",
     "output_type": "stream",
     "text": [
      "DatetimeIndex(['2018-07-25', '2018-07-26', '2018-07-27'], dtype='datetime64[ns]', freq='D')\n"
     ]
    }
   ],
   "source": [
    "dates = pd.date_range('20180725', periods=3)\n",
    "print(dates)"
   ]
  },
  {
   "cell_type": "code",
   "execution_count": 4,
   "metadata": {},
   "outputs": [
    {
     "name": "stdout",
     "output_type": "stream",
     "text": [
      "                   0         1         2         3\n",
      "2018-07-25  0.281312 -0.673978 -0.314573  1.080242\n",
      "2018-07-26 -0.471859  1.337185  1.011321  1.047048\n",
      "2018-07-27 -0.849969  0.862195  0.271825  1.266151\n"
     ]
    }
   ],
   "source": [
    "df = pd.DataFrame(np.random.randn(3, 4), index=dates)\n",
    "print(df)"
   ]
  },
  {
   "cell_type": "code",
   "execution_count": 5,
   "metadata": {},
   "outputs": [
    {
     "name": "stdout",
     "output_type": "stream",
     "text": [
      "                   i        ii       iii        xi\n",
      "2018-07-25  0.289970  0.751086  2.339736  0.301330\n",
      "2018-07-26 -1.520293 -0.993596 -1.198309  1.118859\n",
      "2018-07-27  0.200770 -0.403926 -1.868942  0.436083\n"
     ]
    }
   ],
   "source": [
    "df = pd.DataFrame(np.random.randn(3, 4), index=dates, columns=['i', 'ii', 'iii', 'xi'])\n",
    "print(df)"
   ]
  },
  {
   "cell_type": "code",
   "execution_count": 6,
   "metadata": {},
   "outputs": [
    {
     "name": "stdout",
     "output_type": "stream",
     "text": [
      "     0    1    2    3    4    5\n",
      "0  0.0  0.0  0.0  0.0  0.0  0.0\n",
      "1  0.0  0.0  0.0  0.0  0.0  0.0\n",
      "2  0.0  0.0  0.0  0.0  0.0  0.0\n",
      "3  0.0  0.0  0.0  0.0  0.0  0.0\n",
      "4  0.0  0.0  0.0  0.0  0.0  0.0\n",
      "5  0.0  0.0  0.0  0.0  0.0  0.0\n"
     ]
    }
   ],
   "source": [
    "df1 = pd.DataFrame(np.zeros((6, 6)))\n",
    "print(df1)"
   ]
  },
  {
   "cell_type": "code",
   "execution_count": 7,
   "metadata": {},
   "outputs": [
    {
     "name": "stdout",
     "output_type": "stream",
     "text": [
      "   3    B   Four    X          a\n",
      "0  3  1.0  train  foo 2018-07-25\n",
      "1  3  1.0    val  foo 2018-07-25\n",
      "2  3  1.0   test  foo 2018-07-25\n",
      "3  3  1.0  other  foo 2018-07-25\n"
     ]
    }
   ],
   "source": [
    "df2 = pd.DataFrame({\n",
    "    'a':pd.Timestamp('20180725'),\n",
    "    'B':pd.Series(1, index=list(range(4)), dtype='float32'),\n",
    "    '3':np.array([3]*4, dtype='int32'),\n",
    "    'Four':pd.Categorical(['train', 'val', 'test', 'other']),\n",
    "    'X':'foo'\n",
    "})\n",
    "print(df2)"
   ]
  },
  {
   "cell_type": "code",
   "execution_count": 8,
   "metadata": {},
   "outputs": [
    {
     "data": {
      "text/plain": [
       "3                int32\n",
       "B              float32\n",
       "Four          category\n",
       "X               object\n",
       "a       datetime64[ns]\n",
       "dtype: object"
      ]
     },
     "execution_count": 8,
     "metadata": {},
     "output_type": "execute_result"
    }
   ],
   "source": [
    "df2.dtypes"
   ]
  },
  {
   "cell_type": "code",
   "execution_count": 9,
   "metadata": {},
   "outputs": [
    {
     "data": {
      "text/plain": [
       "Int64Index([0, 1, 2, 3], dtype='int64')"
      ]
     },
     "execution_count": 9,
     "metadata": {},
     "output_type": "execute_result"
    }
   ],
   "source": [
    "df2.index"
   ]
  },
  {
   "cell_type": "code",
   "execution_count": 10,
   "metadata": {},
   "outputs": [
    {
     "data": {
      "text/plain": [
       "Index(['3', 'B', 'Four', 'X', 'a'], dtype='object')"
      ]
     },
     "execution_count": 10,
     "metadata": {},
     "output_type": "execute_result"
    }
   ],
   "source": [
    "df2.columns"
   ]
  },
  {
   "cell_type": "code",
   "execution_count": 11,
   "metadata": {},
   "outputs": [
    {
     "data": {
      "text/plain": [
       "array([[3, 1.0, 'train', 'foo', Timestamp('2018-07-25 00:00:00')],\n",
       "       [3, 1.0, 'val', 'foo', Timestamp('2018-07-25 00:00:00')],\n",
       "       [3, 1.0, 'test', 'foo', Timestamp('2018-07-25 00:00:00')],\n",
       "       [3, 1.0, 'other', 'foo', Timestamp('2018-07-25 00:00:00')]],\n",
       "      dtype=object)"
      ]
     },
     "execution_count": 11,
     "metadata": {},
     "output_type": "execute_result"
    }
   ],
   "source": [
    "df2.values"
   ]
  },
  {
   "cell_type": "code",
   "execution_count": 12,
   "metadata": {},
   "outputs": [
    {
     "data": {
      "text/html": [
       "<div>\n",
       "<style scoped>\n",
       "    .dataframe tbody tr th:only-of-type {\n",
       "        vertical-align: middle;\n",
       "    }\n",
       "\n",
       "    .dataframe tbody tr th {\n",
       "        vertical-align: top;\n",
       "    }\n",
       "\n",
       "    .dataframe thead th {\n",
       "        text-align: right;\n",
       "    }\n",
       "</style>\n",
       "<table border=\"1\" class=\"dataframe\">\n",
       "  <thead>\n",
       "    <tr style=\"text-align: right;\">\n",
       "      <th></th>\n",
       "      <th>3</th>\n",
       "      <th>B</th>\n",
       "    </tr>\n",
       "  </thead>\n",
       "  <tbody>\n",
       "    <tr>\n",
       "      <th>count</th>\n",
       "      <td>4.0</td>\n",
       "      <td>4.0</td>\n",
       "    </tr>\n",
       "    <tr>\n",
       "      <th>mean</th>\n",
       "      <td>3.0</td>\n",
       "      <td>1.0</td>\n",
       "    </tr>\n",
       "    <tr>\n",
       "      <th>std</th>\n",
       "      <td>0.0</td>\n",
       "      <td>0.0</td>\n",
       "    </tr>\n",
       "    <tr>\n",
       "      <th>min</th>\n",
       "      <td>3.0</td>\n",
       "      <td>1.0</td>\n",
       "    </tr>\n",
       "    <tr>\n",
       "      <th>25%</th>\n",
       "      <td>3.0</td>\n",
       "      <td>1.0</td>\n",
       "    </tr>\n",
       "    <tr>\n",
       "      <th>50%</th>\n",
       "      <td>3.0</td>\n",
       "      <td>1.0</td>\n",
       "    </tr>\n",
       "    <tr>\n",
       "      <th>75%</th>\n",
       "      <td>3.0</td>\n",
       "      <td>1.0</td>\n",
       "    </tr>\n",
       "    <tr>\n",
       "      <th>max</th>\n",
       "      <td>3.0</td>\n",
       "      <td>1.0</td>\n",
       "    </tr>\n",
       "  </tbody>\n",
       "</table>\n",
       "</div>"
      ],
      "text/plain": [
       "         3    B\n",
       "count  4.0  4.0\n",
       "mean   3.0  1.0\n",
       "std    0.0  0.0\n",
       "min    3.0  1.0\n",
       "25%    3.0  1.0\n",
       "50%    3.0  1.0\n",
       "75%    3.0  1.0\n",
       "max    3.0  1.0"
      ]
     },
     "execution_count": 12,
     "metadata": {},
     "output_type": "execute_result"
    }
   ],
   "source": [
    "df2.describe()"
   ]
  },
  {
   "cell_type": "code",
   "execution_count": 13,
   "metadata": {},
   "outputs": [
    {
     "data": {
      "text/html": [
       "<div>\n",
       "<style scoped>\n",
       "    .dataframe tbody tr th:only-of-type {\n",
       "        vertical-align: middle;\n",
       "    }\n",
       "\n",
       "    .dataframe tbody tr th {\n",
       "        vertical-align: top;\n",
       "    }\n",
       "\n",
       "    .dataframe thead th {\n",
       "        text-align: right;\n",
       "    }\n",
       "</style>\n",
       "<table border=\"1\" class=\"dataframe\">\n",
       "  <thead>\n",
       "    <tr style=\"text-align: right;\">\n",
       "      <th></th>\n",
       "      <th>0</th>\n",
       "      <th>1</th>\n",
       "      <th>2</th>\n",
       "      <th>3</th>\n",
       "    </tr>\n",
       "  </thead>\n",
       "  <tbody>\n",
       "    <tr>\n",
       "      <th>3</th>\n",
       "      <td>3</td>\n",
       "      <td>3</td>\n",
       "      <td>3</td>\n",
       "      <td>3</td>\n",
       "    </tr>\n",
       "    <tr>\n",
       "      <th>B</th>\n",
       "      <td>1</td>\n",
       "      <td>1</td>\n",
       "      <td>1</td>\n",
       "      <td>1</td>\n",
       "    </tr>\n",
       "    <tr>\n",
       "      <th>Four</th>\n",
       "      <td>train</td>\n",
       "      <td>val</td>\n",
       "      <td>test</td>\n",
       "      <td>other</td>\n",
       "    </tr>\n",
       "    <tr>\n",
       "      <th>X</th>\n",
       "      <td>foo</td>\n",
       "      <td>foo</td>\n",
       "      <td>foo</td>\n",
       "      <td>foo</td>\n",
       "    </tr>\n",
       "    <tr>\n",
       "      <th>a</th>\n",
       "      <td>2018-07-25 00:00:00</td>\n",
       "      <td>2018-07-25 00:00:00</td>\n",
       "      <td>2018-07-25 00:00:00</td>\n",
       "      <td>2018-07-25 00:00:00</td>\n",
       "    </tr>\n",
       "  </tbody>\n",
       "</table>\n",
       "</div>"
      ],
      "text/plain": [
       "                        0                    1                    2  \\\n",
       "3                       3                    3                    3   \n",
       "B                       1                    1                    1   \n",
       "Four                train                  val                 test   \n",
       "X                     foo                  foo                  foo   \n",
       "a     2018-07-25 00:00:00  2018-07-25 00:00:00  2018-07-25 00:00:00   \n",
       "\n",
       "                        3  \n",
       "3                       3  \n",
       "B                       1  \n",
       "Four                other  \n",
       "X                     foo  \n",
       "a     2018-07-25 00:00:00  "
      ]
     },
     "execution_count": 13,
     "metadata": {},
     "output_type": "execute_result"
    }
   ],
   "source": [
    "df2.T"
   ]
  },
  {
   "cell_type": "markdown",
   "metadata": {},
   "source": [
    "#### 排序"
   ]
  },
  {
   "cell_type": "code",
   "execution_count": 14,
   "metadata": {
    "scrolled": true
   },
   "outputs": [
    {
     "name": "stdout",
     "output_type": "stream",
     "text": [
      "          0         1         2         3\n",
      "C  3.653494  3.232592  4.030905  4.902784\n",
      "Z  4.861018  2.280980  6.470976  4.008994\n",
      "A  3.041796  2.038303  3.502275  4.244493\n"
     ]
    }
   ],
   "source": [
    "df = pd.DataFrame(np.random.randn(3,4)+4, index=['C', 'Z', 'A'])\n",
    "print(df)"
   ]
  },
  {
   "cell_type": "code",
   "execution_count": 15,
   "metadata": {},
   "outputs": [
    {
     "data": {
      "text/html": [
       "<div>\n",
       "<style scoped>\n",
       "    .dataframe tbody tr th:only-of-type {\n",
       "        vertical-align: middle;\n",
       "    }\n",
       "\n",
       "    .dataframe tbody tr th {\n",
       "        vertical-align: top;\n",
       "    }\n",
       "\n",
       "    .dataframe thead th {\n",
       "        text-align: right;\n",
       "    }\n",
       "</style>\n",
       "<table border=\"1\" class=\"dataframe\">\n",
       "  <thead>\n",
       "    <tr style=\"text-align: right;\">\n",
       "      <th></th>\n",
       "      <th>3</th>\n",
       "      <th>2</th>\n",
       "      <th>1</th>\n",
       "      <th>0</th>\n",
       "    </tr>\n",
       "  </thead>\n",
       "  <tbody>\n",
       "    <tr>\n",
       "      <th>C</th>\n",
       "      <td>4.902784</td>\n",
       "      <td>4.030905</td>\n",
       "      <td>3.232592</td>\n",
       "      <td>3.653494</td>\n",
       "    </tr>\n",
       "    <tr>\n",
       "      <th>Z</th>\n",
       "      <td>4.008994</td>\n",
       "      <td>6.470976</td>\n",
       "      <td>2.280980</td>\n",
       "      <td>4.861018</td>\n",
       "    </tr>\n",
       "    <tr>\n",
       "      <th>A</th>\n",
       "      <td>4.244493</td>\n",
       "      <td>3.502275</td>\n",
       "      <td>2.038303</td>\n",
       "      <td>3.041796</td>\n",
       "    </tr>\n",
       "  </tbody>\n",
       "</table>\n",
       "</div>"
      ],
      "text/plain": [
       "          3         2         1         0\n",
       "C  4.902784  4.030905  3.232592  3.653494\n",
       "Z  4.008994  6.470976  2.280980  4.861018\n",
       "A  4.244493  3.502275  2.038303  3.041796"
      ]
     },
     "execution_count": 15,
     "metadata": {},
     "output_type": "execute_result"
    }
   ],
   "source": [
    "df.sort_index(axis=1, ascending=False)"
   ]
  },
  {
   "cell_type": "code",
   "execution_count": 16,
   "metadata": {},
   "outputs": [
    {
     "data": {
      "text/html": [
       "<div>\n",
       "<style scoped>\n",
       "    .dataframe tbody tr th:only-of-type {\n",
       "        vertical-align: middle;\n",
       "    }\n",
       "\n",
       "    .dataframe tbody tr th {\n",
       "        vertical-align: top;\n",
       "    }\n",
       "\n",
       "    .dataframe thead th {\n",
       "        text-align: right;\n",
       "    }\n",
       "</style>\n",
       "<table border=\"1\" class=\"dataframe\">\n",
       "  <thead>\n",
       "    <tr style=\"text-align: right;\">\n",
       "      <th></th>\n",
       "      <th>0</th>\n",
       "      <th>1</th>\n",
       "      <th>2</th>\n",
       "      <th>3</th>\n",
       "    </tr>\n",
       "  </thead>\n",
       "  <tbody>\n",
       "    <tr>\n",
       "      <th>Z</th>\n",
       "      <td>4.861018</td>\n",
       "      <td>2.280980</td>\n",
       "      <td>6.470976</td>\n",
       "      <td>4.008994</td>\n",
       "    </tr>\n",
       "    <tr>\n",
       "      <th>C</th>\n",
       "      <td>3.653494</td>\n",
       "      <td>3.232592</td>\n",
       "      <td>4.030905</td>\n",
       "      <td>4.902784</td>\n",
       "    </tr>\n",
       "    <tr>\n",
       "      <th>A</th>\n",
       "      <td>3.041796</td>\n",
       "      <td>2.038303</td>\n",
       "      <td>3.502275</td>\n",
       "      <td>4.244493</td>\n",
       "    </tr>\n",
       "  </tbody>\n",
       "</table>\n",
       "</div>"
      ],
      "text/plain": [
       "          0         1         2         3\n",
       "Z  4.861018  2.280980  6.470976  4.008994\n",
       "C  3.653494  3.232592  4.030905  4.902784\n",
       "A  3.041796  2.038303  3.502275  4.244493"
      ]
     },
     "execution_count": 16,
     "metadata": {},
     "output_type": "execute_result"
    }
   ],
   "source": [
    "df.sort_index(axis=0, ascending=False)"
   ]
  },
  {
   "cell_type": "code",
   "execution_count": 17,
   "metadata": {},
   "outputs": [
    {
     "name": "stdout",
     "output_type": "stream",
     "text": [
      "          C         Z         A\n",
      "1  3.232592  2.280980  2.038303\n",
      "0  3.653494  4.861018  3.041796\n",
      "2  4.030905  6.470976  3.502275\n",
      "3  4.902784  4.008994  4.244493\n"
     ]
    }
   ],
   "source": [
    "print(df.T.sort_values(by='A'))"
   ]
  },
  {
   "cell_type": "markdown",
   "metadata": {},
   "source": [
    "## Pandas选择数据\n",
    "\n"
   ]
  },
  {
   "cell_type": "code",
   "execution_count": 18,
   "metadata": {
    "collapsed": true
   },
   "outputs": [],
   "source": [
    "import pandas as pd\n",
    "import numpy as np\n"
   ]
  },
  {
   "cell_type": "code",
   "execution_count": 19,
   "metadata": {},
   "outputs": [
    {
     "name": "stdout",
     "output_type": "stream",
     "text": [
      "ABCDEFGHIJKLMNOPQRSTUVWXYZ <class 'str'>\n"
     ]
    }
   ],
   "source": [
    "import string\n",
    "UCS = string.ascii_uppercase\n",
    "print(UCS, type(UCS))"
   ]
  },
  {
   "cell_type": "code",
   "execution_count": 20,
   "metadata": {},
   "outputs": [
    {
     "name": "stdout",
     "output_type": "stream",
     "text": [
      "    A   B   C   D   E   F\n",
      "0   0   1   2   3   4   5\n",
      "1   6   7   8   9  10  11\n",
      "2  12  13  14  15  16  17\n",
      "3  18  19  20  21  22  23\n"
     ]
    }
   ],
   "source": [
    "df = pd.DataFrame(np.arange(24).reshape(4, 6), columns=[UCS[i] for i in range(6)])\n",
    "print(df)"
   ]
  },
  {
   "cell_type": "code",
   "execution_count": 21,
   "metadata": {
    "collapsed": true
   },
   "outputs": [],
   "source": [
    "df['20180726'] = pd.Series([-4, -6, -8, -10])"
   ]
  },
  {
   "cell_type": "code",
   "execution_count": 22,
   "metadata": {},
   "outputs": [
    {
     "data": {
      "text/html": [
       "<div>\n",
       "<style scoped>\n",
       "    .dataframe tbody tr th:only-of-type {\n",
       "        vertical-align: middle;\n",
       "    }\n",
       "\n",
       "    .dataframe tbody tr th {\n",
       "        vertical-align: top;\n",
       "    }\n",
       "\n",
       "    .dataframe thead th {\n",
       "        text-align: right;\n",
       "    }\n",
       "</style>\n",
       "<table border=\"1\" class=\"dataframe\">\n",
       "  <thead>\n",
       "    <tr style=\"text-align: right;\">\n",
       "      <th></th>\n",
       "      <th>A</th>\n",
       "      <th>B</th>\n",
       "      <th>C</th>\n",
       "      <th>D</th>\n",
       "      <th>E</th>\n",
       "      <th>F</th>\n",
       "      <th>20180726</th>\n",
       "    </tr>\n",
       "  </thead>\n",
       "  <tbody>\n",
       "    <tr>\n",
       "      <th>0</th>\n",
       "      <td>0</td>\n",
       "      <td>1</td>\n",
       "      <td>2</td>\n",
       "      <td>3</td>\n",
       "      <td>4</td>\n",
       "      <td>5</td>\n",
       "      <td>-4</td>\n",
       "    </tr>\n",
       "    <tr>\n",
       "      <th>1</th>\n",
       "      <td>6</td>\n",
       "      <td>7</td>\n",
       "      <td>8</td>\n",
       "      <td>9</td>\n",
       "      <td>10</td>\n",
       "      <td>11</td>\n",
       "      <td>-6</td>\n",
       "    </tr>\n",
       "    <tr>\n",
       "      <th>2</th>\n",
       "      <td>12</td>\n",
       "      <td>13</td>\n",
       "      <td>14</td>\n",
       "      <td>15</td>\n",
       "      <td>16</td>\n",
       "      <td>17</td>\n",
       "      <td>-8</td>\n",
       "    </tr>\n",
       "    <tr>\n",
       "      <th>3</th>\n",
       "      <td>18</td>\n",
       "      <td>19</td>\n",
       "      <td>20</td>\n",
       "      <td>21</td>\n",
       "      <td>22</td>\n",
       "      <td>23</td>\n",
       "      <td>-10</td>\n",
       "    </tr>\n",
       "  </tbody>\n",
       "</table>\n",
       "</div>"
      ],
      "text/plain": [
       "    A   B   C   D   E   F  20180726\n",
       "0   0   1   2   3   4   5        -4\n",
       "1   6   7   8   9  10  11        -6\n",
       "2  12  13  14  15  16  17        -8\n",
       "3  18  19  20  21  22  23       -10"
      ]
     },
     "execution_count": 22,
     "metadata": {},
     "output_type": "execute_result"
    }
   ],
   "source": [
    "df"
   ]
  },
  {
   "cell_type": "code",
   "execution_count": 23,
   "metadata": {},
   "outputs": [
    {
     "data": {
      "text/plain": [
       "0     0\n",
       "1     6\n",
       "2    12\n",
       "3    18\n",
       "Name: A, dtype: int32"
      ]
     },
     "execution_count": 23,
     "metadata": {},
     "output_type": "execute_result"
    }
   ],
   "source": [
    "df['A']"
   ]
  },
  {
   "cell_type": "code",
   "execution_count": 24,
   "metadata": {},
   "outputs": [
    {
     "data": {
      "text/plain": [
       "0     0\n",
       "1     6\n",
       "2    12\n",
       "3    18\n",
       "Name: A, dtype: int32"
      ]
     },
     "execution_count": 24,
     "metadata": {},
     "output_type": "execute_result"
    }
   ],
   "source": [
    "df.A"
   ]
  },
  {
   "cell_type": "code",
   "execution_count": 25,
   "metadata": {},
   "outputs": [
    {
     "data": {
      "text/html": [
       "<div>\n",
       "<style scoped>\n",
       "    .dataframe tbody tr th:only-of-type {\n",
       "        vertical-align: middle;\n",
       "    }\n",
       "\n",
       "    .dataframe tbody tr th {\n",
       "        vertical-align: top;\n",
       "    }\n",
       "\n",
       "    .dataframe thead th {\n",
       "        text-align: right;\n",
       "    }\n",
       "</style>\n",
       "<table border=\"1\" class=\"dataframe\">\n",
       "  <thead>\n",
       "    <tr style=\"text-align: right;\">\n",
       "      <th></th>\n",
       "      <th>A</th>\n",
       "      <th>B</th>\n",
       "      <th>C</th>\n",
       "      <th>D</th>\n",
       "      <th>E</th>\n",
       "      <th>F</th>\n",
       "      <th>20180726</th>\n",
       "    </tr>\n",
       "  </thead>\n",
       "  <tbody>\n",
       "    <tr>\n",
       "      <th>0</th>\n",
       "      <td>0</td>\n",
       "      <td>1</td>\n",
       "      <td>2</td>\n",
       "      <td>3</td>\n",
       "      <td>4</td>\n",
       "      <td>5</td>\n",
       "      <td>-4</td>\n",
       "    </tr>\n",
       "    <tr>\n",
       "      <th>1</th>\n",
       "      <td>6</td>\n",
       "      <td>7</td>\n",
       "      <td>8</td>\n",
       "      <td>9</td>\n",
       "      <td>10</td>\n",
       "      <td>11</td>\n",
       "      <td>-6</td>\n",
       "    </tr>\n",
       "    <tr>\n",
       "      <th>2</th>\n",
       "      <td>12</td>\n",
       "      <td>13</td>\n",
       "      <td>14</td>\n",
       "      <td>15</td>\n",
       "      <td>16</td>\n",
       "      <td>17</td>\n",
       "      <td>-8</td>\n",
       "    </tr>\n",
       "  </tbody>\n",
       "</table>\n",
       "</div>"
      ],
      "text/plain": [
       "    A   B   C   D   E   F  20180726\n",
       "0   0   1   2   3   4   5        -4\n",
       "1   6   7   8   9  10  11        -6\n",
       "2  12  13  14  15  16  17        -8"
      ]
     },
     "execution_count": 25,
     "metadata": {},
     "output_type": "execute_result"
    }
   ],
   "source": [
    "df[:3]"
   ]
  },
  {
   "cell_type": "markdown",
   "metadata": {},
   "source": [
    "### 根据标记选择\n",
    "\n",
    "同样我们可以使用标签来选择数据 loc, 本例子主要通过标签名字选择某一行数据， 或者通过选择某行或者所有行（:代表所有行）然后选其中某一列或几列数据。:"
   ]
  },
  {
   "cell_type": "code",
   "execution_count": 26,
   "metadata": {},
   "outputs": [
    {
     "name": "stdout",
     "output_type": "stream",
     "text": [
      "A           0\n",
      "B           1\n",
      "C           2\n",
      "D           3\n",
      "E           4\n",
      "F           5\n",
      "20180726   -4\n",
      "Name: 0, dtype: int64\n"
     ]
    }
   ],
   "source": [
    "print(df.loc[0])"
   ]
  },
  {
   "cell_type": "code",
   "execution_count": 27,
   "metadata": {},
   "outputs": [
    {
     "name": "stdout",
     "output_type": "stream",
     "text": [
      "    A   C\n",
      "0   0   2\n",
      "1   6   8\n",
      "2  12  14\n",
      "3  18  20\n"
     ]
    }
   ],
   "source": [
    "print(df.loc[:, ['A', 'C']])"
   ]
  },
  {
   "cell_type": "code",
   "execution_count": 28,
   "metadata": {},
   "outputs": [
    {
     "name": "stdout",
     "output_type": "stream",
     "text": [
      "    A   C\n",
      "0   0   2\n",
      "1   6   8\n",
      "2  12  14\n"
     ]
    }
   ],
   "source": [
    "print(df.loc[0:2, ['A', 'C']])"
   ]
  },
  {
   "cell_type": "code",
   "execution_count": 29,
   "metadata": {
    "collapsed": true
   },
   "outputs": [],
   "source": [
    "### 通过位置选择"
   ]
  },
  {
   "cell_type": "code",
   "execution_count": 30,
   "metadata": {},
   "outputs": [
    {
     "name": "stdout",
     "output_type": "stream",
     "text": [
      "A           18\n",
      "B           19\n",
      "C           20\n",
      "D           21\n",
      "E           22\n",
      "F           23\n",
      "20180726   -10\n",
      "Name: 3, dtype: int64\n"
     ]
    }
   ],
   "source": [
    "print(df.iloc[3])"
   ]
  },
  {
   "cell_type": "code",
   "execution_count": 31,
   "metadata": {},
   "outputs": [
    {
     "name": "stdout",
     "output_type": "stream",
     "text": [
      "    D   E   F  20180726\n",
      "0   3   4   5        -4\n",
      "1   9  10  11        -6\n",
      "2  15  16  17        -8\n"
     ]
    }
   ],
   "source": [
    "print(df.iloc[0:3, 3:])"
   ]
  },
  {
   "cell_type": "markdown",
   "metadata": {},
   "source": [
    "### 混合选择"
   ]
  },
  {
   "cell_type": "code",
   "execution_count": 32,
   "metadata": {},
   "outputs": [
    {
     "name": "stdout",
     "output_type": "stream",
     "text": [
      "    C   D\n",
      "0   2   3\n",
      "1   8   9\n",
      "2  14  15\n"
     ]
    },
    {
     "name": "stderr",
     "output_type": "stream",
     "text": [
      "D:\\Anaconda3\\Anaconda3_py36\\lib\\site-packages\\ipykernel_launcher.py:1: DeprecationWarning: \n",
      ".ix is deprecated. Please use\n",
      ".loc for label based indexing or\n",
      ".iloc for positional indexing\n",
      "\n",
      "See the documentation here:\n",
      "http://pandas.pydata.org/pandas-docs/stable/indexing.html#ix-indexer-is-deprecated\n",
      "  \"\"\"Entry point for launching an IPython kernel.\n"
     ]
    }
   ],
   "source": [
    "print(df.ix[:2, ['C', 'D']])"
   ]
  },
  {
   "cell_type": "markdown",
   "metadata": {},
   "source": [
    "### 布尔型筛选\n",
    "\n"
   ]
  },
  {
   "cell_type": "code",
   "execution_count": 33,
   "metadata": {},
   "outputs": [
    {
     "name": "stdout",
     "output_type": "stream",
     "text": [
      "    A   B   C   D   E   F  20180726\n",
      "2  12  13  14  15  16  17        -8\n",
      "3  18  19  20  21  22  23       -10\n"
     ]
    }
   ],
   "source": [
    "print(df[df.A>6])"
   ]
  },
  {
   "cell_type": "code",
   "execution_count": 34,
   "metadata": {},
   "outputs": [
    {
     "name": "stdout",
     "output_type": "stream",
     "text": [
      "   A  B  C  D  E  F  20180726\n",
      "0  0  1  2  3  4  5        -4\n"
     ]
    }
   ],
   "source": [
    "print(df[df['20180726']>-6])"
   ]
  },
  {
   "cell_type": "code",
   "execution_count": 35,
   "metadata": {},
   "outputs": [
    {
     "name": "stdout",
     "output_type": "stream",
     "text": [
      "0     True\n",
      "1    False\n",
      "2    False\n",
      "3    False\n",
      "Name: 20180726, dtype: bool\n"
     ]
    }
   ],
   "source": [
    "print(df['20180726']>-6)"
   ]
  },
  {
   "cell_type": "markdown",
   "metadata": {},
   "source": [
    "## Pandas设置值"
   ]
  },
  {
   "cell_type": "code",
   "execution_count": 36,
   "metadata": {},
   "outputs": [
    {
     "name": "stdout",
     "output_type": "stream",
     "text": [
      "DatetimeIndex(['2018-07-26', '2018-07-27', '2018-07-28', '2018-07-29',\n",
      "               '2018-07-30'],\n",
      "              dtype='datetime64[ns]', freq='D')\n",
      "             A   B   C   D   E   F   G\n",
      "2018-07-26   0   1   2   3   4   5   6\n",
      "2018-07-27   7   8   9  10  11  12  13\n",
      "2018-07-28  14  15  16  17  18  19  20\n",
      "2018-07-29  21  22  23  24  25  26  27\n",
      "2018-07-30  28  29  30  31  32  33  34\n"
     ]
    }
   ],
   "source": [
    "import numpy as np\n",
    "import pandas as pd\n",
    "\n",
    "import string\n",
    "UCS = string.ascii_uppercase\n",
    "\n",
    "n = 5\n",
    "m = 7\n",
    "\n",
    "dates = pd.date_range('20180726', periods=n)\n",
    "print(dates)\n",
    "\n",
    "df = pd.DataFrame(np.arange(n*m).reshape(n, m),\n",
    "                  index=dates,\n",
    "                  columns=[UCS[i] for i in range(m)])\n",
    "print(df)"
   ]
  },
  {
   "cell_type": "code",
   "execution_count": 37,
   "metadata": {},
   "outputs": [
    {
     "name": "stdout",
     "output_type": "stream",
     "text": [
      "             A   B   C    D   E   F   G\n",
      "2018-07-26   0   1   2    3   4   5   6\n",
      "2018-07-27   7   8   9   10  11  12  13\n",
      "2018-07-28  14  15  16  666  18  19  20\n",
      "2018-07-29  21  22  23   24  25  26  27\n",
      "2018-07-30  28  29  30   31  32  33  34\n"
     ]
    }
   ],
   "source": [
    "df.iloc[2, 3] = 666\n",
    "print(df)"
   ]
  },
  {
   "cell_type": "code",
   "execution_count": 38,
   "metadata": {},
   "outputs": [
    {
     "name": "stdout",
     "output_type": "stream",
     "text": [
      "A     7\n",
      "B     8\n",
      "C     9\n",
      "D    10\n",
      "E    11\n",
      "F    12\n",
      "G    13\n",
      "Name: 2018-07-27 00:00:00, dtype: int32\n"
     ]
    }
   ],
   "source": [
    "print(df.loc['20180727'])"
   ]
  },
  {
   "cell_type": "code",
   "execution_count": 39,
   "metadata": {},
   "outputs": [
    {
     "data": {
      "text/plain": [
       "2018-07-26     1\n",
       "2018-07-27     8\n",
       "2018-07-28    15\n",
       "2018-07-29    22\n",
       "2018-07-30    29\n",
       "Freq: D, Name: B, dtype: int32"
      ]
     },
     "execution_count": 39,
     "metadata": {},
     "output_type": "execute_result"
    }
   ],
   "source": [
    "df['B']"
   ]
  },
  {
   "cell_type": "code",
   "execution_count": 40,
   "metadata": {},
   "outputs": [
    {
     "data": {
      "text/plain": [
       "8"
      ]
     },
     "execution_count": 40,
     "metadata": {},
     "output_type": "execute_result"
    }
   ],
   "source": [
    "df.loc['20180727', 'B']"
   ]
  },
  {
   "cell_type": "code",
   "execution_count": 41,
   "metadata": {},
   "outputs": [
    {
     "name": "stdout",
     "output_type": "stream",
     "text": [
      "             A    B   C    D   E   F   G\n",
      "2018-07-26   0    1   2    3   4   5   6\n",
      "2018-07-27   7  999   9   10  11  12  13\n",
      "2018-07-28  14   15  16  666  18  19  20\n",
      "2018-07-29  21   22  23   24  25  26  27\n",
      "2018-07-30  28   29  30   31  32  33  34\n"
     ]
    }
   ],
   "source": [
    "df.loc['20180727', 'B'] = 999\n",
    "print(df)"
   ]
  },
  {
   "cell_type": "code",
   "execution_count": 42,
   "metadata": {},
   "outputs": [
    {
     "data": {
      "text/plain": [
       "2018-07-26     True\n",
       "2018-07-27     True\n",
       "2018-07-28    False\n",
       "2018-07-29    False\n",
       "2018-07-30    False\n",
       "Freq: D, Name: C, dtype: bool"
      ]
     },
     "execution_count": 42,
     "metadata": {},
     "output_type": "execute_result"
    }
   ],
   "source": [
    "df.C<16"
   ]
  },
  {
   "cell_type": "code",
   "execution_count": 43,
   "metadata": {},
   "outputs": [
    {
     "name": "stdout",
     "output_type": "stream",
     "text": [
      "            A    B  C   D   E   F   G\n",
      "2018-07-26  0    1  2   3   4   5   6\n",
      "2018-07-27  7  999  9  10  11  12  13\n"
     ]
    }
   ],
   "source": [
    "print(df[df.C<16])"
   ]
  },
  {
   "cell_type": "code",
   "execution_count": 44,
   "metadata": {},
   "outputs": [
    {
     "name": "stdout",
     "output_type": "stream",
     "text": [
      "             A    B   C    D   E   F   G\n",
      "2018-07-26   0    1   2    3   4   5   6\n",
      "2018-07-27   7  999   9   10  11  12  13\n",
      "2018-07-28  14   15  16  666  18  19  20\n",
      "2018-07-29  21   22  23   24  25  26  27\n",
      "2018-07-30  28   29  30   31  32  33  34\n"
     ]
    }
   ],
   "source": [
    "df.D[df.C==0] = -1\n",
    "print(df)"
   ]
  },
  {
   "cell_type": "code",
   "execution_count": 45,
   "metadata": {},
   "outputs": [
    {
     "name": "stdout",
     "output_type": "stream",
     "text": [
      "             A    B   C    D   E   F   G  result\n",
      "2018-07-26   0    1   2    3   4   5   6     NaN\n",
      "2018-07-27   7  999   9   10  11  12  13     NaN\n",
      "2018-07-28  14   15  16  666  18  19  20     NaN\n",
      "2018-07-29  21   22  23   24  25  26  27     NaN\n",
      "2018-07-30  28   29  30   31  32  33  34     NaN\n"
     ]
    }
   ],
   "source": [
    "df['result'] = np.nan\n",
    "print(df)"
   ]
  },
  {
   "cell_type": "code",
   "execution_count": 46,
   "metadata": {},
   "outputs": [
    {
     "name": "stdout",
     "output_type": "stream",
     "text": [
      "             A    B   C    D   E   F   G  result   a\n",
      "2018-07-26   0    1   2    3   4   5   6     NaN  11\n",
      "2018-07-27   7  999   9   10  11  12  13     NaN  22\n",
      "2018-07-28  14   15  16  666  18  19  20     NaN  33\n",
      "2018-07-29  21   22  23   24  25  26  27     NaN -10\n",
      "2018-07-30  28   29  30   31  32  33  34     NaN -22\n"
     ]
    }
   ],
   "source": [
    "df['a'] = pd.Series([11, 22, 33, -10, -22], \n",
    "                         index=pd.date_range('20180726', periods=5))\n",
    "print(df)"
   ]
  },
  {
   "cell_type": "code",
   "execution_count": 47,
   "metadata": {
    "collapsed": true
   },
   "outputs": [],
   "source": [
    "df['result'] = df['a']"
   ]
  },
  {
   "cell_type": "code",
   "execution_count": 48,
   "metadata": {},
   "outputs": [
    {
     "name": "stdout",
     "output_type": "stream",
     "text": [
      "             A    B   C    D   E   F   G  result   a\n",
      "2018-07-26   0    1   2    3   4   5   6      11  11\n",
      "2018-07-27   7  999   9   10  11  12  13      22  22\n",
      "2018-07-28  14   15  16  666  18  19  20      33  33\n",
      "2018-07-29  21   22  23   24  25  26  27     -10 -10\n",
      "2018-07-30  28   29  30   31  32  33  34     -22 -22\n"
     ]
    }
   ],
   "source": [
    "print(df)"
   ]
  },
  {
   "cell_type": "code",
   "execution_count": 50,
   "metadata": {},
   "outputs": [
    {
     "ename": "NameError",
     "evalue": "name 'i' is not defined",
     "output_type": "error",
     "traceback": [
      "\u001b[1;31m---------------------------------------------------------------------------\u001b[0m",
      "\u001b[1;31mNameError\u001b[0m                                 Traceback (most recent call last)",
      "\u001b[1;32m<ipython-input-50-c03fd7f6d090>\u001b[0m in \u001b[0;36m<module>\u001b[1;34m()\u001b[0m\n\u001b[1;32m----> 1\u001b[1;33m \u001b[0mdf\u001b[0m\u001b[1;33m[\u001b[0m\u001b[1;34m'Z'\u001b[0m\u001b[1;33m]\u001b[0m \u001b[1;33m=\u001b[0m \u001b[0mpd\u001b[0m\u001b[1;33m.\u001b[0m\u001b[0mSeries\u001b[0m\u001b[1;33m(\u001b[0m\u001b[1;33m[\u001b[0m\u001b[1;36m555\u001b[0m\u001b[1;33m,\u001b[0m \u001b[1;36m666\u001b[0m\u001b[1;33m,\u001b[0m \u001b[1;36m777\u001b[0m\u001b[1;33m,\u001b[0m \u001b[1;36m888\u001b[0m\u001b[1;33m]\u001b[0m\u001b[1;33m,\u001b[0m \u001b[0mi\u001b[0m\u001b[1;33m)\u001b[0m\u001b[1;33m\u001b[0m\u001b[0m\n\u001b[0m",
      "\u001b[1;31mNameError\u001b[0m: name 'i' is not defined"
     ]
    }
   ],
   "source": [
    "df['Z'] = pd.Series([555, 666, 777, 888], i)"
   ]
  },
  {
   "cell_type": "code",
   "execution_count": 51,
   "metadata": {},
   "outputs": [
    {
     "name": "stdout",
     "output_type": "stream",
     "text": [
      "             A    B   C    D   E   F   G  result   a\n",
      "2018-07-26   0    1   2    3   4   5   6      11  11\n",
      "2018-07-27   7  999   9   10  11  12  13      22  22\n",
      "2018-07-28  14   15  16  666  18  19  20      33  33\n",
      "2018-07-29  21   22  23   24  25  26  27     -10 -10\n",
      "2018-07-30  28   29  30   31  32  33  34     -22 -22\n"
     ]
    }
   ],
   "source": [
    "print(df)"
   ]
  },
  {
   "cell_type": "markdown",
   "metadata": {},
   "source": [
    "## Pandas处理丢失"
   ]
  },
  {
   "cell_type": "code",
   "execution_count": 52,
   "metadata": {},
   "outputs": [
    {
     "name": "stdout",
     "output_type": "stream",
     "text": [
      "DatetimeIndex(['2018-07-26', '2018-07-27', '2018-07-28', '2018-07-29',\n",
      "               '2018-07-30'],\n",
      "              dtype='datetime64[ns]', freq='D')\n",
      "             A   B   C   D   E   F   G\n",
      "2018-07-26   0   1   2   3   4   5   6\n",
      "2018-07-27   7   8   9  10  11  12  13\n",
      "2018-07-28  14  15  16  17  18  19  20\n",
      "2018-07-29  21  22  23  24  25  26  27\n",
      "2018-07-30  28  29  30  31  32  33  34\n"
     ]
    }
   ],
   "source": [
    "import numpy as np\n",
    "import pandas as pd\n",
    "\n",
    "import string\n",
    "UCS = string.ascii_uppercase\n",
    "\n",
    "n = 5\n",
    "m = 7\n",
    "\n",
    "dates = pd.date_range('20180726', periods=n)\n",
    "print(dates)\n",
    "\n",
    "df = pd.DataFrame(np.arange(n*m).reshape(n, m),\n",
    "                  index=dates,\n",
    "                  columns=[UCS[i] for i in range(m)])\n",
    "print(df)"
   ]
  },
  {
   "cell_type": "code",
   "execution_count": 53,
   "metadata": {},
   "outputs": [
    {
     "name": "stdout",
     "output_type": "stream",
     "text": [
      "             A   B     C     D   E   F   G\n",
      "2018-07-26   0   1   2.0   3.0   4   5   6\n",
      "2018-07-27   7   8   NaN  10.0  11  12  13\n",
      "2018-07-28  14  15  16.0  17.0  18  19  20\n",
      "2018-07-29  21  22  23.0   NaN  25  26  27\n",
      "2018-07-30  28  29  30.0  31.0  32  33  34\n"
     ]
    }
   ],
   "source": [
    "df.iloc[1, 2] = np.nan\n",
    "df.iloc[3, 3]  = np.nan\n",
    "print(df)"
   ]
  },
  {
   "cell_type": "code",
   "execution_count": 54,
   "metadata": {},
   "outputs": [
    {
     "name": "stdout",
     "output_type": "stream",
     "text": [
      "             A   B     C     D   E   F   G\n",
      "2018-07-26   0   1   2.0   3.0   4   5   6\n",
      "2018-07-28  14  15  16.0  17.0  18  19  20\n",
      "2018-07-30  28  29  30.0  31.0  32  33  34\n"
     ]
    }
   ],
   "source": [
    "print(df.dropna(axis=0, how='any')) # how=['any', 'all']\n"
   ]
  },
  {
   "cell_type": "code",
   "execution_count": 55,
   "metadata": {},
   "outputs": [
    {
     "name": "stdout",
     "output_type": "stream",
     "text": [
      "             A   B   E   F   G\n",
      "2018-07-26   0   1   4   5   6\n",
      "2018-07-27   7   8  11  12  13\n",
      "2018-07-28  14  15  18  19  20\n",
      "2018-07-29  21  22  25  26  27\n",
      "2018-07-30  28  29  32  33  34\n"
     ]
    }
   ],
   "source": [
    "print(df.dropna(axis=1, how='any')) # how=['any', 'all']\n"
   ]
  },
  {
   "cell_type": "code",
   "execution_count": 56,
   "metadata": {},
   "outputs": [
    {
     "name": "stdout",
     "output_type": "stream",
     "text": [
      "             A   B     C     D   E   F   G   T\n",
      "2018-07-26   0   1   2.0   3.0   4   5   6 NaN\n",
      "2018-07-27   7   8   NaN  10.0  11  12  13 NaN\n",
      "2018-07-28  14  15  16.0  17.0  18  19  20 NaN\n",
      "2018-07-29  21  22  23.0   NaN  25  26  27 NaN\n",
      "2018-07-30  28  29  30.0  31.0  32  33  34 NaN\n"
     ]
    }
   ],
   "source": [
    "df['T'] = np.nan\n",
    "print(df)"
   ]
  },
  {
   "cell_type": "code",
   "execution_count": 57,
   "metadata": {},
   "outputs": [
    {
     "name": "stdout",
     "output_type": "stream",
     "text": [
      "             A   B     C     D   E   F   G\n",
      "2018-07-26   0   1   2.0   3.0   4   5   6\n",
      "2018-07-27   7   8   NaN  10.0  11  12  13\n",
      "2018-07-28  14  15  16.0  17.0  18  19  20\n",
      "2018-07-29  21  22  23.0   NaN  25  26  27\n",
      "2018-07-30  28  29  30.0  31.0  32  33  34\n"
     ]
    }
   ],
   "source": [
    "print(df.dropna(how='all', axis=1))"
   ]
  },
  {
   "cell_type": "code",
   "execution_count": 58,
   "metadata": {},
   "outputs": [
    {
     "name": "stdout",
     "output_type": "stream",
     "text": [
      "             A   B     C     D   E   F   G   T\n",
      "2018-07-26   0   1   2.0   3.0   4   5   6 NaN\n",
      "2018-07-27   7   8   NaN  10.0  11  12  13 NaN\n",
      "2018-07-28  14  15  16.0  17.0  18  19  20 NaN\n",
      "2018-07-29  21  22  23.0   NaN  25  26  27 NaN\n",
      "2018-07-30  28  29  30.0  31.0  32  33  34 NaN\n"
     ]
    }
   ],
   "source": [
    "print(df.dropna(how='all', axis=0))"
   ]
  },
  {
   "cell_type": "code",
   "execution_count": 59,
   "metadata": {
    "scrolled": true
   },
   "outputs": [
    {
     "name": "stdout",
     "output_type": "stream",
     "text": [
      "             A   B     C     D   E   F   G    T\n",
      "2018-07-26   0   1   2.0   3.0   4   5   6  0.0\n",
      "2018-07-27   7   8   0.0  10.0  11  12  13  0.0\n",
      "2018-07-28  14  15  16.0  17.0  18  19  20  0.0\n",
      "2018-07-29  21  22  23.0   0.0  25  26  27  0.0\n",
      "2018-07-30  28  29  30.0  31.0  32  33  34  0.0\n"
     ]
    }
   ],
   "source": [
    "print(df.fillna(value=0))  # 填充数字"
   ]
  },
  {
   "cell_type": "markdown",
   "metadata": {},
   "source": [
    "`isnull()`：判断是否缺失\n",
    "\n",
    "判断是否有缺失数据 NaN, 为 True 表示缺失数据:"
   ]
  },
  {
   "cell_type": "code",
   "execution_count": 60,
   "metadata": {
    "scrolled": true
   },
   "outputs": [
    {
     "name": "stdout",
     "output_type": "stream",
     "text": [
      "                A      B      C      D      E      F      G     T\n",
      "2018-07-26  False  False  False  False  False  False  False  True\n",
      "2018-07-27  False  False   True  False  False  False  False  True\n",
      "2018-07-28  False  False  False  False  False  False  False  True\n",
      "2018-07-29  False  False  False   True  False  False  False  True\n",
      "2018-07-30  False  False  False  False  False  False  False  True\n"
     ]
    }
   ],
   "source": [
    "print(df.isnull())  # 判断缺失"
   ]
  },
  {
   "cell_type": "code",
   "execution_count": 61,
   "metadata": {},
   "outputs": [
    {
     "name": "stdout",
     "output_type": "stream",
     "text": [
      "True\n"
     ]
    }
   ],
   "source": [
    "print(np.any(df.isnull()==True))"
   ]
  },
  {
   "cell_type": "markdown",
   "metadata": {},
   "source": [
    "## Pandas导入导出"
   ]
  },
  {
   "cell_type": "code",
   "execution_count": null,
   "metadata": {},
   "outputs": [],
   "source": [
    "import pandas as pd\n",
    "import numpy as np\n",
    "\n",
    "data = pd.read_csv('students3.csv')\n",
    "print(data.columns)"
   ]
  },
  {
   "cell_type": "code",
   "execution_count": null,
   "metadata": {},
   "outputs": [],
   "source": [
    "data.dropna(axis=1, how='any')"
   ]
  },
  {
   "cell_type": "code",
   "execution_count": 64,
   "metadata": {
    "collapsed": true
   },
   "outputs": [],
   "source": [
    "data.to_pickle('students.pickle')"
   ]
  },
  {
   "cell_type": "markdown",
   "metadata": {},
   "source": [
    "## Pandas合并"
   ]
  },
  {
   "cell_type": "code",
   "execution_count": 65,
   "metadata": {},
   "outputs": [
    {
     "name": "stdout",
     "output_type": "stream",
     "text": [
      "     A    B    C    D\n",
      "0  0.0  0.0  0.0  0.0\n",
      "1  0.0  0.0  0.0  0.0\n",
      "2  0.0  0.0  0.0  0.0\n",
      "     A    B    C    D\n",
      "0  1.0  1.0  1.0  1.0\n",
      "1  1.0  1.0  1.0  1.0\n",
      "2  1.0  1.0  1.0  1.0\n",
      "     A    B    C    D\n",
      "0  2.0  2.0  2.0  2.0\n",
      "1  2.0  2.0  2.0  2.0\n",
      "2  2.0  2.0  2.0  2.0\n",
      "          A         B         C         D\n",
      "0  4.074486  2.409235 -1.664463  5.119693\n",
      "1 -1.352191 -2.059051 -2.318682 -5.949370\n",
      "2 -2.657814 -1.021948 -1.683006 -0.980860\n"
     ]
    }
   ],
   "source": [
    "import numpy as np\n",
    "import pandas as pd\n",
    "\n",
    "df1 = pd.DataFrame(np.ones((3, 4))*0, columns=['A', 'B', 'C', 'D'])\n",
    "df2 = pd.DataFrame(np.ones((3, 4))*1, columns=['A', 'B', 'C', 'D'])\n",
    "df3 = pd.DataFrame(np.ones((3, 4))*2, columns=['A', 'B', 'C', 'D'])\n",
    "df4 = pd.DataFrame(np.random.randn(3, 4)*3, columns=['A', 'B', 'C', 'D'])\n",
    "\n",
    "\n",
    "print(df1)\n",
    "print(df2)\n",
    "print(df3)\n",
    "print(df4)"
   ]
  },
  {
   "cell_type": "code",
   "execution_count": 66,
   "metadata": {},
   "outputs": [
    {
     "name": "stdout",
     "output_type": "stream",
     "text": [
      "     A    B    C    D\n",
      "0  0.0  0.0  0.0  0.0\n",
      "1  0.0  0.0  0.0  0.0\n",
      "2  0.0  0.0  0.0  0.0\n",
      "0  1.0  1.0  1.0  1.0\n",
      "1  1.0  1.0  1.0  1.0\n",
      "2  1.0  1.0  1.0  1.0\n",
      "0  2.0  2.0  2.0  2.0\n",
      "1  2.0  2.0  2.0  2.0\n",
      "2  2.0  2.0  2.0  2.0\n"
     ]
    }
   ],
   "source": [
    "c = pd.concat([df1, df2, df3], axis=0)\n",
    "print(c)"
   ]
  },
  {
   "cell_type": "code",
   "execution_count": 67,
   "metadata": {},
   "outputs": [
    {
     "name": "stdout",
     "output_type": "stream",
     "text": [
      "     A    B    C    D\n",
      "0  0.0  0.0  0.0  0.0\n",
      "1  0.0  0.0  0.0  0.0\n",
      "2  0.0  0.0  0.0  0.0\n",
      "3  1.0  1.0  1.0  1.0\n",
      "4  1.0  1.0  1.0  1.0\n",
      "5  1.0  1.0  1.0  1.0\n",
      "6  2.0  2.0  2.0  2.0\n",
      "7  2.0  2.0  2.0  2.0\n",
      "8  2.0  2.0  2.0  2.0\n"
     ]
    }
   ],
   "source": [
    "c = pd.concat([df1, df2, df3], axis=0, ignore_index=True)\n",
    "print(c)"
   ]
  },
  {
   "cell_type": "code",
   "execution_count": 68,
   "metadata": {},
   "outputs": [
    {
     "name": "stdout",
     "output_type": "stream",
     "text": [
      "     A    B    C    D\n",
      "1  0.0  0.0  0.0  0.0\n",
      "2  0.0  0.0  0.0  0.0\n",
      "3  0.0  0.0  0.0  0.0\n",
      "     B    C    D    E\n",
      "2  1.0  1.0  1.0  1.0\n",
      "3  1.0  1.0  1.0  1.0\n",
      "4  1.0  1.0  1.0  1.0\n"
     ]
    }
   ],
   "source": [
    "# join\n",
    "import numpy as np\n",
    "import pandas as pd\n",
    "\n",
    "df1 = pd.DataFrame(np.ones((3, 4))*0, columns=['A', 'B', 'C','D'], index= [1,2,3])\n",
    "df2 = pd.DataFrame(np.ones((3, 4))*1, columns=[ 'B', 'C', 'D', 'E'], index=[2,3,4])\n",
    "\n",
    "\n",
    "\n",
    "print(df1)\n",
    "print(df2)\n",
    "\n"
   ]
  },
  {
   "cell_type": "code",
   "execution_count": 69,
   "metadata": {},
   "outputs": [
    {
     "name": "stdout",
     "output_type": "stream",
     "text": [
      "     A    B    C    D    E\n",
      "1  0.0  0.0  0.0  0.0  NaN\n",
      "2  0.0  0.0  0.0  0.0  NaN\n",
      "3  0.0  0.0  0.0  0.0  NaN\n",
      "2  NaN  1.0  1.0  1.0  1.0\n",
      "3  NaN  1.0  1.0  1.0  1.0\n",
      "4  NaN  1.0  1.0  1.0  1.0\n"
     ]
    }
   ],
   "source": [
    "res = pd.concat([df1, df2])\n",
    "print(res)"
   ]
  },
  {
   "cell_type": "code",
   "execution_count": 70,
   "metadata": {},
   "outputs": [
    {
     "name": "stdout",
     "output_type": "stream",
     "text": [
      "     A    B    C    D    E\n",
      "1  0.0  0.0  0.0  0.0  NaN\n",
      "2  0.0  0.0  0.0  0.0  NaN\n",
      "3  0.0  0.0  0.0  0.0  NaN\n",
      "2  NaN  1.0  1.0  1.0  1.0\n",
      "3  NaN  1.0  1.0  1.0  1.0\n",
      "4  NaN  1.0  1.0  1.0  1.0\n"
     ]
    }
   ],
   "source": [
    "res = pd.concat([df1, df2], join='outer') # 默认outer\n",
    "print(res)"
   ]
  },
  {
   "cell_type": "code",
   "execution_count": 71,
   "metadata": {},
   "outputs": [
    {
     "name": "stdout",
     "output_type": "stream",
     "text": [
      "     B    C    D\n",
      "1  0.0  0.0  0.0\n",
      "2  0.0  0.0  0.0\n",
      "3  0.0  0.0  0.0\n",
      "2  1.0  1.0  1.0\n",
      "3  1.0  1.0  1.0\n",
      "4  1.0  1.0  1.0\n"
     ]
    }
   ],
   "source": [
    "res = pd.concat([df1, df2], join='inner')\n",
    "print(res)"
   ]
  },
  {
   "cell_type": "code",
   "execution_count": 72,
   "metadata": {},
   "outputs": [
    {
     "name": "stdout",
     "output_type": "stream",
     "text": [
      "     B    C    D\n",
      "0  0.0  0.0  0.0\n",
      "1  0.0  0.0  0.0\n",
      "2  0.0  0.0  0.0\n",
      "3  1.0  1.0  1.0\n",
      "4  1.0  1.0  1.0\n",
      "5  1.0  1.0  1.0\n"
     ]
    }
   ],
   "source": [
    "res = pd.concat([df1, df2], join='inner', ignore_index=True)\n",
    "print(res)"
   ]
  },
  {
   "cell_type": "code",
   "execution_count": 73,
   "metadata": {},
   "outputs": [
    {
     "name": "stdout",
     "output_type": "stream",
     "text": [
      "     A    B    C    D    B    C    D    E\n",
      "1  0.0  0.0  0.0  0.0  NaN  NaN  NaN  NaN\n",
      "2  0.0  0.0  0.0  0.0  1.0  1.0  1.0  1.0\n",
      "3  0.0  0.0  0.0  0.0  1.0  1.0  1.0  1.0\n",
      "4  NaN  NaN  NaN  NaN  1.0  1.0  1.0  1.0\n"
     ]
    }
   ],
   "source": [
    "# join_axes\n",
    "res = pd.concat([df1, df2], axis=1)\n",
    "print(res)"
   ]
  },
  {
   "cell_type": "code",
   "execution_count": 74,
   "metadata": {},
   "outputs": [
    {
     "name": "stdout",
     "output_type": "stream",
     "text": [
      "     A    B    C    D    B    C    D    E\n",
      "1  0.0  0.0  0.0  0.0  NaN  NaN  NaN  NaN\n",
      "2  0.0  0.0  0.0  0.0  1.0  1.0  1.0  1.0\n",
      "3  0.0  0.0  0.0  0.0  1.0  1.0  1.0  1.0\n"
     ]
    }
   ],
   "source": [
    "res = pd.concat([df1, df2], axis=1, join_axes=[df1.index])\n",
    "print(res)"
   ]
  },
  {
   "cell_type": "code",
   "execution_count": 75,
   "metadata": {},
   "outputs": [
    {
     "name": "stdout",
     "output_type": "stream",
     "text": [
      "     A    B    C    D\n",
      "1  0.0  0.0  0.0  0.0\n",
      "2  0.0  0.0  0.0  0.0\n",
      "3  0.0  0.0  0.0  0.0\n",
      "1  0.0  0.0  0.0  0.0\n",
      "2  0.0  0.0  0.0  0.0\n",
      "3  0.0  0.0  0.0  0.0\n",
      "1  1.0  1.0  1.0  1.0\n",
      "2  1.0  1.0  1.0  1.0\n",
      "3  1.0  1.0  1.0  1.0\n"
     ]
    }
   ],
   "source": [
    "df1 = pd.DataFrame(np.ones((3, 4))*0, columns=['A', 'B', 'C','D'], index= [1,2,3])\n",
    "df2 = pd.DataFrame(np.ones((3, 4))*1, columns=[ 'A', 'B', 'C', 'D'], index=[1, 2,3])\n",
    "\n",
    "# append\n",
    "res = df1.append([df1, df2])\n",
    "print(res)"
   ]
  },
  {
   "cell_type": "code",
   "execution_count": 76,
   "metadata": {},
   "outputs": [
    {
     "name": "stdout",
     "output_type": "stream",
     "text": [
      "     A    B    C    D\n",
      "0  0.0  0.0  0.0  0.0\n",
      "1  0.0  0.0  0.0  0.0\n",
      "2  0.0  0.0  0.0  0.0\n",
      "3  0.0  0.0  0.0  0.0\n",
      "4  0.0  0.0  0.0  0.0\n",
      "5  0.0  0.0  0.0  0.0\n",
      "6  1.0  1.0  1.0  1.0\n",
      "7  1.0  1.0  1.0  1.0\n",
      "8  1.0  1.0  1.0  1.0\n"
     ]
    }
   ],
   "source": [
    "# append\n",
    "res = df1.append([df1, df2], ignore_index= True)\n",
    "print(res)"
   ]
  },
  {
   "cell_type": "code",
   "execution_count": 77,
   "metadata": {},
   "outputs": [
    {
     "name": "stdout",
     "output_type": "stream",
     "text": [
      "      A     B     C     D\n",
      "0   0.0   0.0   0.0   0.0\n",
      "1   0.0   0.0   0.0   0.0\n",
      "2   0.0   0.0   0.0   0.0\n",
      "3  22.0  33.0  66.0  99.0\n"
     ]
    }
   ],
   "source": [
    "s1 = pd.Series([22, 33, 66, 99], index=['A', 'B', 'C', 'D'])\n",
    "res = df1.append(s1, ignore_index=True)\n",
    "print(res)"
   ]
  },
  {
   "cell_type": "markdown",
   "metadata": {},
   "source": [
    "## Pandas 合并"
   ]
  },
  {
   "cell_type": "code",
   "execution_count": 78,
   "metadata": {},
   "outputs": [
    {
     "name": "stdout",
     "output_type": "stream",
     "text": [
      "    A   B key\n",
      "0  A0  B0  K0\n",
      "1  A1  B1  K1\n",
      "2  A2  B2  K2\n",
      "3  A3  B3  K3\n",
      "    C   D key\n",
      "0  C0  D0  K0\n",
      "1  C1  D1  K1\n",
      "2  C2  D2  K2\n",
      "3  C3  D3  K3\n"
     ]
    }
   ],
   "source": [
    "import pandas as pd\n",
    "import numpy as np\n",
    "\n",
    "#定义资料集并打印出\n",
    "left = pd.DataFrame({'key': ['K0', 'K1', 'K2', 'K3'],\n",
    "                             'A': ['A0', 'A1', 'A2', 'A3'],\n",
    "                             'B': ['B0', 'B1', 'B2', 'B3']})\n",
    "right = pd.DataFrame({'key': ['K0', 'K1', 'K2', 'K3'],\n",
    "                              'C': ['C0', 'C1', 'C2', 'C3'],\n",
    "                              'D': ['D0', 'D1', 'D2', 'D3']})\n",
    "\n",
    "print(left)\n",
    "print(right)\n"
   ]
  },
  {
   "cell_type": "code",
   "execution_count": 79,
   "metadata": {},
   "outputs": [
    {
     "name": "stdout",
     "output_type": "stream",
     "text": [
      "    A   B key   C   D\n",
      "0  A0  B0  K0  C0  D0\n",
      "1  A1  B1  K1  C1  D1\n",
      "2  A2  B2  K2  C2  D2\n",
      "3  A3  B3  K3  C3  D3\n"
     ]
    }
   ],
   "source": [
    "res = pd.merge(left, right, on=['key'])\n",
    "print(res)"
   ]
  },
  {
   "cell_type": "code",
   "execution_count": 80,
   "metadata": {},
   "outputs": [
    {
     "name": "stdout",
     "output_type": "stream",
     "text": [
      "    A   B key1 key2\n",
      "0  A0  B0   K0   K0\n",
      "1  A1  B1   K0   K1\n",
      "2  A2  B2   K1   K0\n",
      "3  A3  B3   K2   K1\n",
      "    C   D key1 key2\n",
      "0  C0  D0   K0   K0\n",
      "1  C1  D1   K1   K0\n",
      "2  C2  D2   K1   K0\n",
      "3  C3  D3   K2   K0\n"
     ]
    }
   ],
   "source": [
    "#有两个key\n",
    "#定义资料集并打印出\n",
    "left = pd.DataFrame({'key1': ['K0', 'K0', 'K1', 'K2'],\n",
    "                      'key2': ['K0', 'K1', 'K0', 'K1'],\n",
    "                      'A': ['A0', 'A1', 'A2', 'A3'],\n",
    "                      'B': ['B0', 'B1', 'B2', 'B3']})\n",
    "right = pd.DataFrame({'key1': ['K0', 'K1', 'K1', 'K2'],\n",
    "                       'key2': ['K0', 'K0', 'K0', 'K0'],\n",
    "                       'C': ['C0', 'C1', 'C2', 'C3'],\n",
    "                       'D': ['D0', 'D1', 'D2', 'D3']})\n",
    "print(left)\n",
    "print(right)"
   ]
  },
  {
   "cell_type": "code",
   "execution_count": 81,
   "metadata": {},
   "outputs": [
    {
     "name": "stdout",
     "output_type": "stream",
     "text": [
      "    A   B key1 key2   C   D\n",
      "0  A0  B0   K0   K0  C0  D0\n",
      "1  A2  B2   K1   K0  C1  D1\n",
      "2  A2  B2   K1   K0  C2  D2\n"
     ]
    }
   ],
   "source": [
    "res = pd.merge(left, right, on=['key1', 'key2'])\n",
    "print(res)"
   ]
  },
  {
   "cell_type": "code",
   "execution_count": 82,
   "metadata": {},
   "outputs": [
    {
     "name": "stdout",
     "output_type": "stream",
     "text": [
      "     A    B key1 key2    C    D\n",
      "0   A0   B0   K0   K0   C0   D0\n",
      "1   A1   B1   K0   K1  NaN  NaN\n",
      "2   A2   B2   K1   K0   C1   D1\n",
      "3   A2   B2   K1   K0   C2   D2\n",
      "4   A3   B3   K2   K1  NaN  NaN\n",
      "5  NaN  NaN   K2   K0   C3   D3\n"
     ]
    }
   ],
   "source": [
    "res = pd.merge(left, right, on=['key1', 'key2'],how='outer')\n",
    "print(res)"
   ]
  },
  {
   "cell_type": "code",
   "execution_count": 83,
   "metadata": {},
   "outputs": [
    {
     "name": "stdout",
     "output_type": "stream",
     "text": [
      "    A   B key1 key2   C   D\n",
      "0  A0  B0   K0   K0  C0  D0\n",
      "1  A2  B2   K1   K0  C1  D1\n",
      "2  A2  B2   K1   K0  C2  D2\n"
     ]
    }
   ],
   "source": [
    "res = pd.merge(left, right, on=['key1', 'key2'],how='inner')\n",
    "print(res)"
   ]
  },
  {
   "cell_type": "markdown",
   "metadata": {},
   "source": [
    "## Pandas 画图"
   ]
  },
  {
   "cell_type": "code",
   "execution_count": 90,
   "metadata": {
    "collapsed": true
   },
   "outputs": [],
   "source": [
    "idx =np.arange(1, 1001)\n",
    "# print(idx)"
   ]
  },
  {
   "cell_type": "code",
   "execution_count": 91,
   "metadata": {},
   "outputs": [
    {
     "data": {
      "image/png": "[encoded data removed]",
      "text/plain": [
       "<matplotlib.figure.Figure at 0x169075d1cf8>"
      ]
     },
     "metadata": {},
     "output_type": "display_data"
    }
   ],
   "source": [
    "import numpy as np\n",
    "import pandas as pd\n",
    "import matplotlib.pyplot as plt\n",
    "\n",
    "data = pd.Series(np.random.randn(1000), index=idx)\n",
    "d_sum = data.cumsum()\n",
    "\n",
    "d_sum.plot()\n",
    "plt.show()"
   ]
  },
  {
   "cell_type": "code",
   "execution_count": 92,
   "metadata": {},
   "outputs": [
    {
     "data": {
      "image/png": "[encoded data removed]",
      "text/plain": [
       "<matplotlib.figure.Figure at 0x169076c62e8>"
      ]
     },
     "metadata": {},
     "output_type": "display_data"
    }
   ],
   "source": [
    "data.plot()\n",
    "plt.show()"
   ]
  },
  {
   "cell_type": "code",
   "execution_count": 95,
   "metadata": {},
   "outputs": [
    {
     "data": {
      "image/png": "[encoded data removed]",
      "text/plain": [
       "<matplotlib.figure.Figure at 0x16907259080>"
      ]
     },
     "metadata": {},
     "output_type": "display_data"
    }
   ],
   "source": [
    "df = pd.DataFrame(np.random.randn(1000, 4),\n",
    "                  index =np.arange(1, 1001),\n",
    "                  columns=list(\"ABCD\"))\n",
    "df_sum = df.cumsum()\n",
    "df_sum.plot()\n",
    "plt.show()"
   ]
  },
  {
   "cell_type": "code",
   "execution_count": 97,
   "metadata": {},
   "outputs": [
    {
     "data": {
      "image/png": "[encoded data removed]",
      "text/plain": [
       "<matplotlib.figure.Figure at 0x16907456710>"
      ]
     },
     "metadata": {},
     "output_type": "display_data"
    }
   ],
   "source": [
    "# plot方法\n",
    "# 'bar' 'hist', 'box', 'kde', 'area', 'scatter', 'hexbin', 'pie' 。。。\n",
    "\n",
    "df.plot.scatter(x='A', y='B', color='red', label='Class A')\n",
    "plt.show()"
   ]
  },
  {
   "cell_type": "code",
   "execution_count": 98,
   "metadata": {},
   "outputs": [
    {
     "data": {
      "image/png": "[encoded data removed]",
      "text/plain": [
       "<matplotlib.figure.Figure at 0x1690b88c518>"
      ]
     },
     "metadata": {},
     "output_type": "display_data"
    },
    {
     "data": {
      "image/png": "[encoded data removed]",
      "text/plain": [
       "<matplotlib.figure.Figure at 0x1690c1504a8>"
      ]
     },
     "metadata": {},
     "output_type": "display_data"
    }
   ],
   "source": [
    "ax1 = df.plot.scatter(x='A', y='B', color='red', label='Class A')\n",
    "ax2 = df.plot.scatter(x='A', y='C', color='green', label='Class B')\n",
    "\n",
    "plt.show()"
   ]
  },
  {
   "cell_type": "code",
   "execution_count": 99,
   "metadata": {},
   "outputs": [
    {
     "data": {
      "image/png": "[encoded data removed]",
      "text/plain": [
       "<matplotlib.figure.Figure at 0x1690b2455f8>"
      ]
     },
     "metadata": {},
     "output_type": "display_data"
    }
   ],
   "source": [
    "ax1 = df.plot.scatter(x='A', y='B', color='red', label='Class A')\n",
    "ax2 = df.plot.scatter(x='A', y='C', color='green', label='Class B', ax=ax1)\n",
    "\n",
    "plt.show()"
   ]
  },
  {
   "cell_type": "code",
   "execution_count": 100,
   "metadata": {},
   "outputs": [
    {
     "name": "stdout",
     "output_type": "stream",
     "text": [
      "Help on method scatter in module pandas.plotting._core:\n",
      "\n",
      "scatter(x, y, s=None, c=None, **kwds) method of pandas.plotting._core.FramePlotMethods instance\n",
      "    Scatter plot\n",
      "    \n",
      "    .. versionadded:: 0.17.0\n",
      "    \n",
      "    Parameters\n",
      "    ----------\n",
      "    x, y : label or position, optional\n",
      "        Coordinates for each point.\n",
      "    s : scalar or array_like, optional\n",
      "        Size of each point.\n",
      "    c : label or position, optional\n",
      "        Color of each point.\n",
      "    **kwds : optional\n",
      "        Keyword arguments to pass on to :py:meth:`pandas.DataFrame.plot`.\n",
      "    \n",
      "    Returns\n",
      "    -------\n",
      "    axes : matplotlib.AxesSubplot or np.array of them\n",
      "\n"
     ]
    }
   ],
   "source": [
    "help(df.plot.scatter)"
   ]
  },
  {
   "cell_type": "code",
   "execution_count": 102,
   "metadata": {},
   "outputs": [
    {
     "name": "stdout",
     "output_type": "stream",
     "text": [
      "Help on class FramePlotMethods in module pandas.plotting._core:\n",
      "\n",
      "class FramePlotMethods(BasePlotMethods)\n",
      " |  DataFrame plotting accessor and method\n",
      " |  \n",
      " |  Examples\n",
      " |  --------\n",
      " |  >>> df.plot.line()\n",
      " |  >>> df.plot.scatter('x', 'y')\n",
      " |  >>> df.plot.hexbin()\n",
      " |  \n",
      " |  These plotting methods can also be accessed by calling the accessor as a\n",
      " |  method with the ``kind`` argument:\n",
      " |  ``df.plot(kind='line')`` is equivalent to ``df.plot.line()``\n",
      " |  \n",
      " |  Method resolution order:\n",
      " |      FramePlotMethods\n",
      " |      BasePlotMethods\n",
      " |      pandas.core.base.PandasObject\n",
      " |      pandas.core.base.StringMixin\n",
      " |      pandas.core.accessor.DirNamesMixin\n",
      " |      builtins.object\n",
      " |  \n",
      " |  Methods defined here:\n",
      " |  \n",
      " |  __call__(self, x=None, y=None, kind='line', ax=None, subplots=False, sharex=None, sharey=False, layout=None, figsize=None, use_index=True, title=None, grid=None, legend=True, style=None, logx=False, logy=False, loglog=False, xticks=None, yticks=None, xlim=None, ylim=None, rot=None, fontsize=None, colormap=None, table=False, yerr=None, xerr=None, secondary_y=False, sort_columns=False, **kwds)\n",
      " |      Make plots of DataFrame using matplotlib / pylab.\n",
      " |      \n",
      " |      *New in version 0.17.0:* Each plot kind has a corresponding method on the\n",
      " |      ``DataFrame.plot`` accessor:\n",
      " |      ``df.plot(kind='line')`` is equivalent to\n",
      " |      ``df.plot.line()``.\n",
      " |      \n",
      " |      Parameters\n",
      " |      ----------\n",
      " |      data : DataFrame\n",
      " |      x : label or position, default None\n",
      " |      y : label or position, default None\n",
      " |          Allows plotting of one column versus another\n",
      " |      kind : str\n",
      " |          - 'line' : line plot (default)\n",
      " |          - 'bar' : vertical bar plot\n",
      " |          - 'barh' : horizontal bar plot\n",
      " |          - 'hist' : histogram\n",
      " |          - 'box' : boxplot\n",
      " |          - 'kde' : Kernel Density Estimation plot\n",
      " |          - 'density' : same as 'kde'\n",
      " |          - 'area' : area plot\n",
      " |          - 'pie' : pie plot\n",
      " |          - 'scatter' : scatter plot\n",
      " |          - 'hexbin' : hexbin plot\n",
      " |      ax : matplotlib axes object, default None\n",
      " |      subplots : boolean, default False\n",
      " |          Make separate subplots for each column\n",
      " |      sharex : boolean, default True if ax is None else False\n",
      " |          In case subplots=True, share x axis and set some x axis labels to\n",
      " |          invisible; defaults to True if ax is None otherwise False if an ax\n",
      " |          is passed in; Be aware, that passing in both an ax and sharex=True\n",
      " |          will alter all x axis labels for all axis in a figure!\n",
      " |      sharey : boolean, default False\n",
      " |          In case subplots=True, share y axis and set some y axis labels to\n",
      " |          invisible\n",
      " |      layout : tuple (optional)\n",
      " |          (rows, columns) for the layout of subplots\n",
      " |      figsize : a tuple (width, height) in inches\n",
      " |      use_index : boolean, default True\n",
      " |          Use index as ticks for x axis\n",
      " |      title : string or list\n",
      " |          Title to use for the plot. If a string is passed, print the string at\n",
      " |          the top of the figure. If a list is passed and `subplots` is True,\n",
      " |          print each item in the list above the corresponding subplot.\n",
      " |      grid : boolean, default None (matlab style default)\n",
      " |          Axis grid lines\n",
      " |      legend : False/True/'reverse'\n",
      " |          Place legend on axis subplots\n",
      " |      style : list or dict\n",
      " |          matplotlib line style per column\n",
      " |      logx : boolean, default False\n",
      " |          Use log scaling on x axis\n",
      " |      logy : boolean, default False\n",
      " |          Use log scaling on y axis\n",
      " |      loglog : boolean, default False\n",
      " |          Use log scaling on both x and y axes\n",
      " |      xticks : sequence\n",
      " |          Values to use for the xticks\n",
      " |      yticks : sequence\n",
      " |          Values to use for the yticks\n",
      " |      xlim : 2-tuple/list\n",
      " |      ylim : 2-tuple/list\n",
      " |      rot : int, default None\n",
      " |          Rotation for ticks (xticks for vertical, yticks for horizontal plots)\n",
      " |      fontsize : int, default None\n",
      " |          Font size for xticks and yticks\n",
      " |      colormap : str or matplotlib colormap object, default None\n",
      " |          Colormap to select colors from. If string, load colormap with that name\n",
      " |          from matplotlib.\n",
      " |      colorbar : boolean, optional\n",
      " |          If True, plot colorbar (only relevant for 'scatter' and 'hexbin' plots)\n",
      " |      position : float\n",
      " |          Specify relative alignments for bar plot layout.\n",
      " |          From 0 (left/bottom-end) to 1 (right/top-end). Default is 0.5 (center)\n",
      " |      table : boolean, Series or DataFrame, default False\n",
      " |          If True, draw a table using the data in the DataFrame and the data will\n",
      " |          be transposed to meet matplotlib's default layout.\n",
      " |          If a Series or DataFrame is passed, use passed data to draw a table.\n",
      " |      yerr : DataFrame, Series, array-like, dict and str\n",
      " |          See :ref:`Plotting with Error Bars <visualization.errorbars>` for\n",
      " |          detail.\n",
      " |      xerr : same types as yerr.\n",
      " |      stacked : boolean, default False in line and\n",
      " |          bar plots, and True in area plot. If True, create stacked plot.\n",
      " |      sort_columns : boolean, default False\n",
      " |          Sort column names to determine plot ordering\n",
      " |      secondary_y : boolean or sequence, default False\n",
      " |          Whether to plot on the secondary y-axis\n",
      " |          If a list/tuple, which columns to plot on secondary y-axis\n",
      " |      mark_right : boolean, default True\n",
      " |          When using a secondary_y axis, automatically mark the column\n",
      " |          labels with \"(right)\" in the legend\n",
      " |      kwds : keywords\n",
      " |          Options to pass to matplotlib plotting method\n",
      " |      \n",
      " |      Returns\n",
      " |      -------\n",
      " |      axes : matplotlib.AxesSubplot or np.array of them\n",
      " |      \n",
      " |      Notes\n",
      " |      -----\n",
      " |      \n",
      " |      - See matplotlib documentation online for more on this subject\n",
      " |      - If `kind` = 'bar' or 'barh', you can specify relative alignments\n",
      " |        for bar plot layout by `position` keyword.\n",
      " |        From 0 (left/bottom-end) to 1 (right/top-end). Default is 0.5 (center)\n",
      " |      - If `kind` = 'scatter' and the argument `c` is the name of a dataframe\n",
      " |        column, the values of that column are used to color each point.\n",
      " |      - If `kind` = 'hexbin', you can control the size of the bins with the\n",
      " |        `gridsize` argument. By default, a histogram of the counts around each\n",
      " |        `(x, y)` point is computed. You can specify alternative aggregations\n",
      " |        by passing values to the `C` and `reduce_C_function` arguments.\n",
      " |        `C` specifies the value at each `(x, y)` point and `reduce_C_function`\n",
      " |        is a function of one argument that reduces all the values in a bin to\n",
      " |        a single number (e.g. `mean`, `max`, `sum`, `std`).\n",
      " |  \n",
      " |  area(self, x=None, y=None, **kwds)\n",
      " |      Area plot\n",
      " |      \n",
      " |      .. versionadded:: 0.17.0\n",
      " |      \n",
      " |      Parameters\n",
      " |      ----------\n",
      " |      x, y : label or position, optional\n",
      " |          Coordinates for each point.\n",
      " |      **kwds : optional\n",
      " |          Keyword arguments to pass on to :py:meth:`pandas.DataFrame.plot`.\n",
      " |      \n",
      " |      Returns\n",
      " |      -------\n",
      " |      axes : matplotlib.AxesSubplot or np.array of them\n",
      " |  \n",
      " |  bar(self, x=None, y=None, **kwds)\n",
      " |      Vertical bar plot\n",
      " |      \n",
      " |      .. versionadded:: 0.17.0\n",
      " |      \n",
      " |      Parameters\n",
      " |      ----------\n",
      " |      x, y : label or position, optional\n",
      " |          Coordinates for each point.\n",
      " |      **kwds : optional\n",
      " |          Keyword arguments to pass on to :py:meth:`pandas.DataFrame.plot`.\n",
      " |      \n",
      " |      Returns\n",
      " |      -------\n",
      " |      axes : matplotlib.AxesSubplot or np.array of them\n",
      " |  \n",
      " |  barh(self, x=None, y=None, **kwds)\n",
      " |      Horizontal bar plot\n",
      " |      \n",
      " |      .. versionadded:: 0.17.0\n",
      " |      \n",
      " |      Parameters\n",
      " |      ----------\n",
      " |      x, y : label or position, optional\n",
      " |          Coordinates for each point.\n",
      " |      **kwds : optional\n",
      " |          Keyword arguments to pass on to :py:meth:`pandas.DataFrame.plot`.\n",
      " |      \n",
      " |      Returns\n",
      " |      -------\n",
      " |      axes : matplotlib.AxesSubplot or np.array of them\n",
      " |  \n",
      " |  box(self, by=None, **kwds)\n",
      " |      Boxplot\n",
      " |      \n",
      " |      .. versionadded:: 0.17.0\n",
      " |      \n",
      " |      Parameters\n",
      " |      ----------\n",
      " |      by : string or sequence\n",
      " |          Column in the DataFrame to group by.\n",
      " |      \\*\\*kwds : optional\n",
      " |          Keyword arguments to pass on to :py:meth:`pandas.DataFrame.plot`.\n",
      " |      \n",
      " |      Returns\n",
      " |      -------\n",
      " |      axes : matplotlib.AxesSubplot or np.array of them\n",
      " |  \n",
      " |  density = kde(self, **kwds)\n",
      " |  \n",
      " |  hexbin(self, x, y, C=None, reduce_C_function=None, gridsize=None, **kwds)\n",
      " |      Hexbin plot\n",
      " |      \n",
      " |      .. versionadded:: 0.17.0\n",
      " |      \n",
      " |      Parameters\n",
      " |      ----------\n",
      " |      x, y : label or position, optional\n",
      " |          Coordinates for each point.\n",
      " |      C : label or position, optional\n",
      " |          The value at each `(x, y)` point.\n",
      " |      reduce_C_function : callable, optional\n",
      " |          Function of one argument that reduces all the values in a bin to\n",
      " |          a single number (e.g. `mean`, `max`, `sum`, `std`).\n",
      " |      gridsize : int, optional\n",
      " |          Number of bins.\n",
      " |      **kwds : optional\n",
      " |          Keyword arguments to pass on to :py:meth:`pandas.DataFrame.plot`.\n",
      " |      \n",
      " |      Returns\n",
      " |      -------\n",
      " |      axes : matplotlib.AxesSubplot or np.array of them\n",
      " |  \n",
      " |  hist(self, by=None, bins=10, **kwds)\n",
      " |      Histogram\n",
      " |      \n",
      " |      .. versionadded:: 0.17.0\n",
      " |      \n",
      " |      Parameters\n",
      " |      ----------\n",
      " |      by : string or sequence\n",
      " |          Column in the DataFrame to group by.\n",
      " |      bins: integer, default 10\n",
      " |          Number of histogram bins to be used\n",
      " |      **kwds : optional\n",
      " |          Keyword arguments to pass on to :py:meth:`pandas.DataFrame.plot`.\n",
      " |      \n",
      " |      Returns\n",
      " |      -------\n",
      " |      axes : matplotlib.AxesSubplot or np.array of them\n",
      " |  \n",
      " |  kde(self, **kwds)\n",
      " |      Kernel Density Estimate plot\n",
      " |      \n",
      " |      .. versionadded:: 0.17.0\n",
      " |      \n",
      " |      Parameters\n",
      " |      ----------\n",
      " |      **kwds : optional\n",
      " |          Keyword arguments to pass on to :py:meth:`pandas.DataFrame.plot`.\n",
      " |      \n",
      " |      Returns\n",
      " |      -------\n",
      " |      axes : matplotlib.AxesSubplot or np.array of them\n",
      " |  \n",
      " |  line(self, x=None, y=None, **kwds)\n",
      " |      Line plot\n",
      " |      \n",
      " |      .. versionadded:: 0.17.0\n",
      " |      \n",
      " |      Parameters\n",
      " |      ----------\n",
      " |      x, y : label or position, optional\n",
      " |          Coordinates for each point.\n",
      " |      **kwds : optional\n",
      " |          Keyword arguments to pass on to :py:meth:`pandas.DataFrame.plot`.\n",
      " |      \n",
      " |      Returns\n",
      " |      -------\n",
      " |      axes : matplotlib.AxesSubplot or np.array of them\n",
      " |  \n",
      " |  pie(self, y=None, **kwds)\n",
      " |      Pie chart\n",
      " |      \n",
      " |      .. versionadded:: 0.17.0\n",
      " |      \n",
      " |      Parameters\n",
      " |      ----------\n",
      " |      y : label or position, optional\n",
      " |          Column to plot.\n",
      " |      **kwds : optional\n",
      " |          Keyword arguments to pass on to :py:meth:`pandas.DataFrame.plot`.\n",
      " |      \n",
      " |      Returns\n",
      " |      -------\n",
      " |      axes : matplotlib.AxesSubplot or np.array of them\n",
      " |  \n",
      " |  scatter(self, x, y, s=None, c=None, **kwds)\n",
      " |      Scatter plot\n",
      " |      \n",
      " |      .. versionadded:: 0.17.0\n",
      " |      \n",
      " |      Parameters\n",
      " |      ----------\n",
      " |      x, y : label or position, optional\n",
      " |          Coordinates for each point.\n",
      " |      s : scalar or array_like, optional\n",
      " |          Size of each point.\n",
      " |      c : label or position, optional\n",
      " |          Color of each point.\n",
      " |      **kwds : optional\n",
      " |          Keyword arguments to pass on to :py:meth:`pandas.DataFrame.plot`.\n",
      " |      \n",
      " |      Returns\n",
      " |      -------\n",
      " |      axes : matplotlib.AxesSubplot or np.array of them\n",
      " |  \n",
      " |  ----------------------------------------------------------------------\n",
      " |  Methods inherited from BasePlotMethods:\n",
      " |  \n",
      " |  __init__(self, data)\n",
      " |      Initialize self.  See help(type(self)) for accurate signature.\n",
      " |  \n",
      " |  ----------------------------------------------------------------------\n",
      " |  Methods inherited from pandas.core.base.PandasObject:\n",
      " |  \n",
      " |  __sizeof__(self)\n",
      " |      Generates the total memory usage for a object that returns\n",
      " |      either a value or Series of values\n",
      " |  \n",
      " |  __unicode__(self)\n",
      " |      Return a string representation for a particular object.\n",
      " |      \n",
      " |      Invoked by unicode(obj) in py2 only. Yields a Unicode String in both\n",
      " |      py2/py3.\n",
      " |  \n",
      " |  ----------------------------------------------------------------------\n",
      " |  Methods inherited from pandas.core.base.StringMixin:\n",
      " |  \n",
      " |  __bytes__(self)\n",
      " |      Return a string representation for a particular object.\n",
      " |      \n",
      " |      Invoked by bytes(obj) in py3 only.\n",
      " |      Yields a bytestring in both py2/py3.\n",
      " |  \n",
      " |  __repr__(self)\n",
      " |      Return a string representation for a particular object.\n",
      " |      \n",
      " |      Yields Bytestring in Py2, Unicode String in py3.\n",
      " |  \n",
      " |  __str__(self)\n",
      " |      Return a string representation for a particular Object\n",
      " |      \n",
      " |      Invoked by str(df) in both py2/py3.\n",
      " |      Yields Bytestring in Py2, Unicode String in py3.\n",
      " |  \n",
      " |  ----------------------------------------------------------------------\n",
      " |  Data descriptors inherited from pandas.core.base.StringMixin:\n",
      " |  \n",
      " |  __dict__\n",
      " |      dictionary for instance variables (if defined)\n",
      " |  \n",
      " |  __weakref__\n",
      " |      list of weak references to the object (if defined)\n",
      " |  \n",
      " |  ----------------------------------------------------------------------\n",
      " |  Methods inherited from pandas.core.accessor.DirNamesMixin:\n",
      " |  \n",
      " |  __dir__(self)\n",
      " |      Provide method name lookup and completion\n",
      " |      Only provide 'public' methods\n",
      "\n"
     ]
    }
   ],
   "source": [
    "help(pd.DataFrame.plot)"
   ]
  },
  {
   "cell_type": "markdown",
   "metadata": {},
   "source": [
    "[【为什么用 Numpy 还是慢, 你用对了吗?】](https://morvanzhou.github.io/tutorials/data-manipulation/np-pd/4-1-speed-up-numpy/)"
   ]
  },
  {
   "cell_type": "code",
   "execution_count": null,
   "metadata": {
    "collapsed": true
   },
   "outputs": [],
   "source": []
  }
 ],
 "metadata": {
  "kernelspec": {
   "display_name": "Python 3",
   "language": "python",
   "name": "python3"
  },
  "language_info": {
   "codemirror_mode": {
    "name": "ipython",
    "version": 3
   },
   "file_extension": ".py",
   "mimetype": "text/x-python",
   "name": "python",
   "nbconvert_exporter": "python",
   "pygments_lexer": "ipython3",
   "version": "3.6.3"
  }
 },
 "nbformat": 4,
 "nbformat_minor": 2
}
