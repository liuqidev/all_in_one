{
 "cells": [
  {
   "cell_type": "markdown",
   "metadata": {},
   "source": [
    "## 添加线程"
   ]
  },
  {
   "cell_type": "code",
   "execution_count": 1,
   "metadata": {},
   "outputs": [],
   "source": [
    "import threading as thd"
   ]
  },
  {
   "cell_type": "code",
   "execution_count": 2,
   "metadata": {},
   "outputs": [
    {
     "name": "stdout",
     "output_type": "stream",
     "text": [
      "当前线程数：5\n",
      "分别为：\n",
      "线程 1: <_MainThread(MainThread, started 7172)>\n",
      "线程 2: <Thread(Thread-4, started daemon 9492)>\n",
      "线程 3: <Heartbeat(Thread-5, started daemon 19856)>\n",
      "线程 4: <HistorySavingThread(IPythonHistorySavingThread, started 7400)>\n",
      "线程 5: <ParentPollerWindows(Thread-3, started daemon 20332)>\n",
      "---当前线程----\n",
      "<_MainThread(MainThread, started 7172)>\n"
     ]
    }
   ],
   "source": [
    "def main():\n",
    "    num_thread = thd.active_count()\n",
    "    print(\"当前线程数：%d\"%num_thread)\n",
    "    print(\"分别为：\")\n",
    "    for i, t in zip(range(num_thread), thd.enumerate()):\n",
    "        print(\"线程 %d: %s\"%(i+1, t))\n",
    "        \n",
    "    print(\"---当前线程----\")\n",
    "    print(thd.current_thread())"
   ]
  },
  {
   "cell_type": "code",
   "execution_count": 6,
   "metadata": {},
   "outputs": [
    {
     "name": "stdout",
     "output_type": "stream",
     "text": [
      "-------------------1\n",
      "当前线程数：5\n",
      "分别为：\n",
      "线程 1: <_MainThread(MainThread, started 7172)>\n",
      "线程 2: <Thread(Thread-4, started daemon 9492)>\n",
      "线程 3: <Heartbeat(Thread-5, started daemon 19856)>\n",
      "线程 4: <HistorySavingThread(IPythonHistorySavingThread, started 7400)>\n",
      "线程 5: <ParentPollerWindows(Thread-3, started daemon 20332)>\n",
      "---当前线程----\n",
      "<_MainThread(MainThread, started 7172)>\n",
      "-------------------2\n",
      "创建新的线程\n",
      "正在执行线程 <Thread(Thread-7, started 15488)>当前线程数：6\n",
      "分别为：\n",
      "线程 1: <_MainThread(MainThread, started 7172)>\n",
      "线程 2: <Thread(Thread-4, started daemon 9492)>\n",
      "线程 3: <Heartbeat(Thread-5, started daemon 19856)>\n",
      "线程 4: <HistorySavingThread(IPythonHistorySavingThread, started 7400)>\n",
      "线程 5: <ParentPollerWindows(Thread-3, started daemon 20332)>\n",
      "线程 6: <Thread(Thread-7, started 15488)>\n",
      "---当前线程----\n",
      "<_MainThread(MainThread, started 7172)>\n",
      "\n"
     ]
    }
   ],
   "source": [
    "if __name__=='__main__':\n",
    "    main()"
   ]
  },
  {
   "cell_type": "code",
   "execution_count": 5,
   "metadata": {},
   "outputs": [],
   "source": [
    "def thead_job():\n",
    "    print(\"正在执行线程 %s\\n\"%thd.current_thread())\n",
    "\n",
    "def main():\n",
    "    print(\"-------------------1\")\n",
    "    num_thread = thd.active_count()\n",
    "    print(\"当前线程数：%d\"%num_thread)\n",
    "    print(\"分别为：\")\n",
    "    for i, t in zip(range(num_thread), thd.enumerate()):\n",
    "        print(\"线程 %d: %s\"%(i+1, t))\n",
    "        \n",
    "    print(\"---当前线程----\")\n",
    "    print(thd.current_thread())\n",
    "    \n",
    "    print(\"-------------------2\")\n",
    "    print(\"创建新的线程\")\n",
    "    # 创建线程\n",
    "    added_thread = thd.Thread(target=thead_job)\n",
    "    added_thread.start()\n",
    "    \n",
    "    num_thread = thd.active_count()\n",
    "    print(\"当前线程数：%d\"%num_thread)\n",
    "    print(\"分别为：\")\n",
    "    for i, t in zip(range(num_thread), thd.enumerate()):\n",
    "        print(\"线程 %d: %s\"%(i+1, t))\n",
    "        \n",
    "    print(\"---当前线程----\")\n",
    "    print(thd.current_thread())\n",
    "    \n",
    "    \n",
    "    "
   ]
  },
  {
   "cell_type": "markdown",
   "metadata": {},
   "source": [
    "## join\n",
    "\n",
    "不引入join的结果："
   ]
  },
  {
   "cell_type": "code",
   "execution_count": 10,
   "metadata": {},
   "outputs": [
    {
     "name": "stdout",
     "output_type": "stream",
     "text": [
      "1 线程 <function current_thread at 0x000002C3BFF62A60> 开始执行！\n",
      "3 所有线程执行完毕！\n",
      "\n",
      "\n",
      "2 线程 <function current_thread at 0x000002C3BFF62A60> 执行完毕！\n",
      "\n"
     ]
    }
   ],
   "source": [
    "import threading as thd\n",
    "import time \n",
    "\n",
    "def t1_job():\n",
    "    print(\"1 线程 %s 开始执行！\\n\"%thd.current_thread)\n",
    "    for i in range(10):\n",
    "        time.sleep(0.5)\n",
    "    print(\"2 线程 %s 执行完毕！\\n\"%thd.current_thread)\n",
    "\n",
    "\n",
    "def main():\n",
    "    t1 = thd.Thread(target=t1_job, name='t1')\n",
    "    t1.start()\n",
    "    \n",
    "    print(\"3 所有线程执行完毕！\\n\")\n",
    "\n",
    "if __name__==\"__main__\":\n",
    "    main()"
   ]
  },
  {
   "cell_type": "markdown",
   "metadata": {},
   "source": [
    "实现线程同步。"
   ]
  },
  {
   "cell_type": "code",
   "execution_count": 13,
   "metadata": {},
   "outputs": [
    {
     "name": "stdout",
     "output_type": "stream",
     "text": [
      "1-1 线程 <function current_thread at 0x000002C3BFF62A60> 开始执行！\n",
      "\n",
      "1-2 线程 <function current_thread at 0x000002C3BFF62A60> 执行完毕！\n",
      "\n",
      "2-1 线程 <function current_thread at 0x000002C3BFF62A60> 开始执行！\n",
      "\n",
      "工作中....\n",
      "2-2 线程 <function current_thread at 0x000002C3BFF62A60> 执行完毕！\n",
      "\n",
      "3 所有线程执行完毕！\n",
      "\n"
     ]
    }
   ],
   "source": [
    "import threading as thd\n",
    "import time \n",
    "\n",
    "def t1_job():\n",
    "    print(\"1-1 线程 %s 开始执行！\\n\"%thd.current_thread)\n",
    "    for i in range(10):\n",
    "        time.sleep(0.5)\n",
    "    print(\"1-2 线程 %s 执行完毕！\\n\"%thd.current_thread)\n",
    "\n",
    "    \n",
    "def t2_job():\n",
    "    print(\"2-1 线程 %s 开始执行！\\n\"%thd.current_thread)\n",
    "    print(\"工作中....\")\n",
    "    print(\"2-2 线程 %s 执行完毕！\\n\"%thd.current_thread)\n",
    "\n",
    "def main():\n",
    "    t1 = thd.Thread(target=t1_job, name='t1')\n",
    "    t1.start()\n",
    "    t1.join()\n",
    "    \n",
    "    t2 = thd.Thread(target=t2_job, name='t2')\n",
    "    t2.start()\n",
    "    t2.join()\n",
    "    \n",
    "    print(\"3 所有线程执行完毕！\\n\")\n",
    "\n",
    "if __name__==\"__main__\":\n",
    "    main()"
   ]
  },
  {
   "cell_type": "code",
   "execution_count": 14,
   "metadata": {},
   "outputs": [
    {
     "name": "stdout",
     "output_type": "stream",
     "text": [
      "1-1 线程 <function current_thread at 0x000002C3BFF62A60> 开始执行！\n",
      "\n",
      "2-1 线程 <function current_thread at 0x000002C3BFF62A60> 开始执行！\n",
      "3 所有线程执行完毕！\n",
      "\n",
      "\n",
      "工作中....\n",
      "2-2 线程 <function current_thread at 0x000002C3BFF62A60> 执行完毕！\n",
      "\n",
      "1-2 线程 <function current_thread at 0x000002C3BFF62A60> 执行完毕！\n",
      "\n"
     ]
    }
   ],
   "source": [
    "def main():\n",
    "    t1 = thd.Thread(target=t1_job, name='t1')\n",
    "    t1.start()\n",
    "    #t1.join()\n",
    "    \n",
    "    t2 = thd.Thread(target=t2_job, name='t2')\n",
    "    t2.start()\n",
    "    #t2.join()\n",
    "    \n",
    "    print(\"3 所有线程执行完毕！\\n\")\n",
    "\n",
    "if __name__==\"__main__\":\n",
    "    main()"
   ]
  },
  {
   "cell_type": "code",
   "execution_count": 17,
   "metadata": {},
   "outputs": [
    {
     "name": "stdout",
     "output_type": "stream",
     "text": [
      "1-1 线程 <function current_thread at 0x000002C3BFF62A60> 开始执行！\n",
      "\n",
      "2-1 线程 <function current_thread at 0x000002C3BFF62A60> 开始执行！\n",
      "3 所有线程执行完毕！\n",
      "\n",
      "\n",
      "工作中....\n",
      "2-2 线程 <function current_thread at 0x000002C3BFF62A60> 执行完毕！\n",
      "\n",
      "1-2 线程 <function current_thread at 0x000002C3BFF62A60> 执行完毕！\n",
      "\n"
     ]
    }
   ],
   "source": [
    "def main():\n",
    "    t1 = thd.Thread(target=t1_job, name='t1')\n",
    "    t1.start()\n",
    "    #t1.join()\n",
    "    \n",
    "    t2 = thd.Thread(target=t2_job, name='t2')\n",
    "    t2.start()\n",
    "    #t2.join()\n",
    "    \n",
    "    print(\"3 所有线程执行完毕！\\n\")\n",
    "\n",
    "if __name__==\"__main__\":\n",
    "    main()"
   ]
  },
  {
   "cell_type": "code",
   "execution_count": 18,
   "metadata": {},
   "outputs": [
    {
     "name": "stdout",
     "output_type": "stream",
     "text": [
      "1-1 线程 <function current_thread at 0x000002C3BFF62A60> 开始执行！\n",
      "\n",
      "2-1 线程 <function current_thread at 0x000002C3BFF62A60> 开始执行！\n",
      "\n",
      "工作中....\n",
      "2-2 线程 <function current_thread at 0x000002C3BFF62A60> 执行完毕！\n",
      "\n",
      "1-2 线程 <function current_thread at 0x000002C3BFF62A60> 执行完毕！\n",
      "\n",
      "3 所有线程执行完毕！\n",
      "\n"
     ]
    }
   ],
   "source": [
    "def main():\n",
    "    t1 = thd.Thread(target=t1_job, name='t1')\n",
    "    t2 = thd.Thread(target=t2_job, name='t2')\n",
    "    \n",
    "    t1.start()\n",
    "    t2.start()\n",
    "    t2.join()\n",
    "    t1.join()\n",
    "    \n",
    "    print(\"3 所有线程执行完毕！\\n\")\n",
    "\n",
    "if __name__==\"__main__\":\n",
    "    main()"
   ]
  },
  {
   "cell_type": "markdown",
   "metadata": {},
   "source": [
    "## 多线程队列\n",
    "\n",
    "代码实现功能，将数据列表中的数据传入，使用四个线程处理，将结果保存在Queue中，线程执行完后，从Queue中获取存储的结果"
   ]
  },
  {
   "cell_type": "code",
   "execution_count": 20,
   "metadata": {},
   "outputs": [],
   "source": [
    "import threading as thd\n",
    "from queue import Queue"
   ]
  },
  {
   "cell_type": "code",
   "execution_count": 23,
   "metadata": {},
   "outputs": [
    {
     "name": "stdout",
     "output_type": "stream",
     "text": [
      "[[0, 0.010000000000000002, 0.0001], [1, 4, 9], [10000, 100, 1], [0.25, 0.0625, 0.015625]]\n"
     ]
    }
   ],
   "source": [
    "# 每个线程的任务\n",
    "def job(l, q):\n",
    "    for i in range(len(l)):\n",
    "        l[i] = l[i]**2\n",
    "    q.put(l)\n",
    "\n",
    "def multithread():\n",
    "    thds = []\n",
    "    q = Queue()\n",
    "    \n",
    "    data = [[0, 0.1, 0.01], [1, 2, 3], [100, 10, 1], [0.5, 0.25, 0.125]]\n",
    "    \n",
    "    # 创建线程\n",
    "    for i in range(len(data)):\n",
    "        t = thd.Thread(target=job,\n",
    "                      args=(data[i], q))\n",
    "        t.start()\n",
    "        thds.append(t)\n",
    "        \n",
    "    # 加入到主线程中\n",
    "    for t_ in thds:\n",
    "        t_.join()\n",
    "    \n",
    "    rst = []\n",
    "    for _ in range(len(thds)):\n",
    "        rst.append(q.get())\n",
    "    return rst\n",
    "\n",
    "if __name__==\"__main__\":\n",
    "    rst = multithread()\n",
    "    print(rst)"
   ]
  },
  {
   "cell_type": "markdown",
   "metadata": {},
   "source": [
    "## 全局解释器锁（GIL）不一定有效率\n",
    "\n",
    "一个例子来对比普通串行运算和多线程方法的时间效率比较。"
   ]
  },
  {
   "cell_type": "code",
   "execution_count": 48,
   "metadata": {},
   "outputs": [
    {
     "name": "stdout",
     "output_type": "stream",
     "text": [
      "方法1（串行）: 5000005000000  时间开销（秒）: 0.5043156147003174\n",
      "方法2（线程=10）: 5000005000000  时间开销（秒）: 0.9535343647003174\n"
     ]
    }
   ],
   "source": [
    "import threading as thd\n",
    "import time\n",
    "from queue import Queue\n",
    "import time\n",
    "import copy\n",
    "\n",
    "def normal(l):\n",
    "    return sum(l)\n",
    "\n",
    "def job(l, q):\n",
    "    q.put(sum(l))\n",
    "\n",
    "def multi(l, n):\n",
    "    theads=[]\n",
    "    q=Queue()\n",
    "    q.empty()\n",
    "    for i in range(n):\n",
    "        t = thd.Thread(target=job, args=(copy.copy(l), q), name='T%i'%i)\n",
    "        t.start()\n",
    "        theads.append(t)\n",
    "    for _ in theads:\n",
    "        _.join()\n",
    "    ans = 0\n",
    "    for j in range(n):\n",
    "        ans+=q.get()\n",
    "    return ans\n",
    "\n",
    "def main():\n",
    "    n = 10\n",
    "    l= list(range(int(1e6)+1))\n",
    "    # print(sum(l))\n",
    "    s_t = time.time()\n",
    "    print('方法1（串行）:', normal(n*l), \" 时间开销（秒）:\", time.time()-s_t)\n",
    "    s_t = time.time()\n",
    "    print('方法2（线程=%d）:'%n, multi(l, n), \" 时间开销（秒）:\", time.time()-s_t)\n",
    "\n",
    "if __name__=='__main__':\n",
    "    main()\n",
    "    "
   ]
  },
  {
   "cell_type": "markdown",
   "metadata": {},
   "source": [
    "## 线程锁\n",
    "\n",
    "使用银行存取款来模拟。\n",
    "没有加锁的情况如下："
   ]
  },
  {
   "cell_type": "code",
   "execution_count": 54,
   "metadata": {},
   "outputs": [
    {
     "name": "stdout",
     "output_type": "stream",
     "text": [
      "+100，余额： 100-100，余额：\n",
      "+100，余额： 100\n",
      "+100，余额： 200\n",
      "+100，余额： 300\n",
      "+100，余额：  0\n",
      "-100，余额： 300\n",
      "-100，余额： 200400\n",
      "+100，余额： 300\n",
      "+100，余额： 400\n",
      "-100，余额： 300\n",
      "-100，余额： 200\n",
      "-100，余额： 100\n",
      "-100，余额： 0\n",
      "-100，余额： -100\n",
      "-100，余额： -200\n",
      "-100，余额： -300\n",
      "\n",
      "+100，余额： -200\n",
      "+100，余额： -100\n",
      "+100，余额： 0\n"
     ]
    }
   ],
   "source": [
    "import threading as thd\n",
    "\n",
    "def deposit():\n",
    "    global money\n",
    "    for i in range(10):\n",
    "        money+=100\n",
    "        print(\"+100，余额：\", money)\n",
    "\n",
    "def withdraw():\n",
    "    global money\n",
    "    for i in range(10):\n",
    "        money -= 100\n",
    "        print(\"-100，余额：\", money)\n",
    "    \n",
    "    \n",
    "def main():\n",
    "    global money \n",
    "    t1 = thd.Thread(target=deposit, name=u'存钱')\n",
    "    t2 = thd.Thread(target=withdraw, name=u'取钱')\n",
    "    t1.start()\n",
    "    t2.start()\n",
    "    t1.join()\n",
    "    t1.join()\n",
    "    \n",
    "\n",
    "if __name__=='__main__':\n",
    "    money =0\n",
    "    main()"
   ]
  },
  {
   "cell_type": "markdown",
   "metadata": {},
   "source": [
    "lock在不同线程使用同一共享内存时，能够确保线程之间互不影响，使用lock的方法是， 在每个线程执行运算修改共享内存之前，执行`lock.acquire()`将共享内存上锁， 确保当前线程执行时，内存不会被其他线程访问，执行运算完毕后，使用`lock.release()`将锁打开， 保证其他的线程可以使用该共享内存。\n",
    "- 加锁：lock.acquire()\n",
    "- 开锁：lock.release()\n"
   ]
  },
  {
   "cell_type": "code",
   "execution_count": 55,
   "metadata": {},
   "outputs": [
    {
     "name": "stdout",
     "output_type": "stream",
     "text": [
      "+100，余额： 100\n",
      "+100，余额： 200\n",
      "+100，余额： 300\n",
      "+100，余额： 400\n",
      "+100，余额： 500\n",
      "+100，余额： 600\n",
      "+100，余额： 700\n",
      "+100，余额： 800\n",
      "+100，余额： 900\n",
      "+100，余额： 1000\n",
      "-100，余额： 900\n",
      "-100，余额： 800\n",
      "-100，余额： 700\n",
      "-100，余额： 600\n",
      "-100，余额： 500\n",
      "-100，余额： 400\n",
      "-100，余额： 300\n",
      "-100，余额： 200\n",
      "-100，余额： 100\n",
      "-100，余额： 0\n"
     ]
    }
   ],
   "source": [
    "import threading as thd\n",
    "\n",
    "def deposit():\n",
    "    global money, lock\n",
    "    lock.acquire()\n",
    "    for i in range(10):\n",
    "        money+=100\n",
    "        print(\"+100，余额：\", money)\n",
    "    lock.release()\n",
    "\n",
    "def withdraw():\n",
    "    global money, lock\n",
    "    lock.acquire()\n",
    "    for i in range(10):\n",
    "        money -= 100\n",
    "        print(\"-100，余额：\", money)\n",
    "    lock.release()\n",
    "    \n",
    "    \n",
    "def main():\n",
    "    global money, lock\n",
    "    t1 = thd.Thread(target=deposit, name=u'存钱')\n",
    "    t2 = thd.Thread(target=withdraw, name=u'取钱')\n",
    "    t1.start()\n",
    "    t2.start()\n",
    "    t1.join()\n",
    "    t1.join()\n",
    "    \n",
    "\n",
    "if __name__=='__main__':\n",
    "    money =0\n",
    "    lock = thd.Lock()\n",
    "    main()"
   ]
  },
  {
   "cell_type": "code",
   "execution_count": null,
   "metadata": {},
   "outputs": [],
   "source": []
  }
 ],
 "metadata": {
  "kernelspec": {
   "display_name": "Python 3",
   "language": "python",
   "name": "python3"
  },
  "language_info": {
   "codemirror_mode": {
    "name": "ipython",
    "version": 3
   },
   "file_extension": ".py",
   "mimetype": "text/x-python",
   "name": "python",
   "nbconvert_exporter": "python",
   "pygments_lexer": "ipython3",
   "version": "3.6.4"
  }
 },
 "nbformat": 4,
 "nbformat_minor": 2
}
